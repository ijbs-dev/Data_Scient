{
  "nbformat": 4,
  "nbformat_minor": 0,
  "metadata": {
    "colab": {
      "provenance": []
    },
    "kernelspec": {
      "name": "python3",
      "display_name": "Python 3"
    },
    "language_info": {
      "name": "python"
    }
  },
  "cells": [
    {
      "cell_type": "markdown",
      "source": [],
      "metadata": {
        "id": "oIDjG6vjwk_1"
      }
    },
    {
      "cell_type": "markdown",
      "source": [
        "\n",
        "**Grupo:** Germano, Ivo, Ismael e Rogério\n",
        "\n",
        "**Dataset:** https://www.kaggle.com/datasets/lorenzovzquez/data-jobs-salaries\n",
        "\n",
        "*O objetivo desse Dataset é armazenar o resultado de pesquisas realizadas cujo objetivo é identificar quanto cada profissional ganha. A pesquisa tem foco em três áreas, as quais são: Data Scientist, IA e Machine Learning*\n"
      ],
      "metadata": {
        "id": "k_vTMju8whwt"
      }
    },
    {
      "cell_type": "markdown",
      "source": [
        "## **Descrição do Conjunto de Dados**\n",
        "\n",
        "O conjunto de dados contém 11 colunas com as seguintes características:\n",
        "\n",
        "| Coluna               | Definição                                                                          | Chave                                         | Notas                                                                                                                                       |\n",
        "|----------------------|------------------------------------------------------------------------------------|-----------------------------------------------|---------------------------------------------------------------------------------------------------------------------------------------------|\n",
        "| work_year            | O ano em que o salário foi pago.                                                  |                                               |                                                                                                                                             |\n",
        "| experience_level    | O nível de experiência no trabalho durante o ano, com os seguintes valores possíveis: | EN: Inicial / Júnior MI: Médio / Intermediário SE: Sênior / Especialista EX: Executivo / Diretor |                                                                                                                                             |\n",
        "| employment_type      | O tipo de emprego para a função.                                                   | PT: Meio período FT: Período integral CT: Contrato FL: Freelance |                                                                                                                                             |\n",
        "| job_title            | O cargo ocupado durante o ano.                                                     |                                               |                                                                                                                                             |\n",
        "| salary               | O valor total do salário bruto pago.                                               |                                               |                                                                                                                                             |\n",
        "| salary_currency      | A moeda do salário pago como um código de moeda ISO 4217.                          |                                               |                                                                                                                                             |\n",
        "| salary_in_usd        | O salário em USD (taxa de câmbio dividida pela taxa média de USD do ano respectivo via dados de fxdata.foorilla.com). |                                               |                                                                                                                                             |\n",
        "| employee_residence   | País de residência principal do funcionário durante o ano, como um código de país ISO 3166. |                                               |                                                                                                                                             |\n",
        "| remote_ratio         | A quantidade geral de trabalho feito remotamente, com os seguintes valores possíveis: | 0: Sem trabalho remoto (menos de 20%) 50: Parcialmente remoto/híbrido 100: Totalmente remoto (mais de 80%) |                                                                                                                                             |\n",
        "| company_location     | País do escritório principal do empregador ou filial contratante como um código de país ISO 3166. |                                               |                                                                                                                                             |\n",
        "| company_size         | O número médio de pessoas que trabalharam para a empresa durante o ano.            | S: Menos de 50 funcionários (pequena) M: De 50 a 250 funcionários (média) L: Mais de 250 funcionários (grande) |                                                                                                                                             |\n",
        "\n",
        "Esta tabela segue o mesmo padrão utilizado para apresentar os dados do Titanic, proporcionando uma visão clara e organizada das variáveis no conjunto de dados."
      ],
      "metadata": {
        "id": "qG_slAkSavDs"
      }
    },
    {
      "cell_type": "code",
      "execution_count": null,
      "metadata": {
        "id": "E4q6fZMUai6I"
      },
      "outputs": [],
      "source": [
        "#Importando as bibliotecas necessárias para análise do Dataset\n",
        "import numpy as np\n",
        "import pandas as pd\n",
        "import matplotlib.pyplot as plt\n",
        "\n",
        "from google.colab import drive"
      ]
    },
    {
      "cell_type": "code",
      "source": [
        "link = \"https://ai-jobs.net/salaries/download/salaries.csv\""
      ],
      "metadata": {
        "id": "l8mzgy1Nhdx9"
      },
      "execution_count": null,
      "outputs": []
    },
    {
      "cell_type": "code",
      "source": [
        "salarios = pd.read_csv(link, sep=\",\")\n",
        "salarios.head()"
      ],
      "metadata": {
        "colab": {
          "base_uri": "https://localhost:8080/",
          "height": 206
        },
        "id": "dNAQ3Vwjioup",
        "outputId": "675b2bc9-8e1e-49b9-a8f6-c86a1e2a36c9"
      },
      "execution_count": null,
      "outputs": [
        {
          "output_type": "execute_result",
          "data": {
            "text/plain": [
              "   work_year experience_level employment_type       job_title  salary  \\\n",
              "0       2023               SE              FT    Data Analyst   30000   \n",
              "1       2023               SE              FT  Data Scientist  150200   \n",
              "2       2023               SE              FT  Data Scientist   71000   \n",
              "3       2023               SE              FT   Data Engineer  167200   \n",
              "4       2023               SE              FT   Data Engineer  121000   \n",
              "\n",
              "  salary_currency  salary_in_usd employee_residence  remote_ratio  \\\n",
              "0             GBP          36912                 GB           100   \n",
              "1             USD         150200                 US             0   \n",
              "2             USD          71000                 US             0   \n",
              "3             USD         167200                 US             0   \n",
              "4             USD         121000                 US             0   \n",
              "\n",
              "  company_location company_size  \n",
              "0               GB            S  \n",
              "1               US            M  \n",
              "2               US            M  \n",
              "3               US            M  \n",
              "4               US            M  "
            ],
            "text/html": [
              "\n",
              "  <div id=\"df-ab6d7d83-e279-4e2b-be61-63ecf8c720f9\" class=\"colab-df-container\">\n",
              "    <div>\n",
              "<style scoped>\n",
              "    .dataframe tbody tr th:only-of-type {\n",
              "        vertical-align: middle;\n",
              "    }\n",
              "\n",
              "    .dataframe tbody tr th {\n",
              "        vertical-align: top;\n",
              "    }\n",
              "\n",
              "    .dataframe thead th {\n",
              "        text-align: right;\n",
              "    }\n",
              "</style>\n",
              "<table border=\"1\" class=\"dataframe\">\n",
              "  <thead>\n",
              "    <tr style=\"text-align: right;\">\n",
              "      <th></th>\n",
              "      <th>work_year</th>\n",
              "      <th>experience_level</th>\n",
              "      <th>employment_type</th>\n",
              "      <th>job_title</th>\n",
              "      <th>salary</th>\n",
              "      <th>salary_currency</th>\n",
              "      <th>salary_in_usd</th>\n",
              "      <th>employee_residence</th>\n",
              "      <th>remote_ratio</th>\n",
              "      <th>company_location</th>\n",
              "      <th>company_size</th>\n",
              "    </tr>\n",
              "  </thead>\n",
              "  <tbody>\n",
              "    <tr>\n",
              "      <th>0</th>\n",
              "      <td>2023</td>\n",
              "      <td>SE</td>\n",
              "      <td>FT</td>\n",
              "      <td>Data Analyst</td>\n",
              "      <td>30000</td>\n",
              "      <td>GBP</td>\n",
              "      <td>36912</td>\n",
              "      <td>GB</td>\n",
              "      <td>100</td>\n",
              "      <td>GB</td>\n",
              "      <td>S</td>\n",
              "    </tr>\n",
              "    <tr>\n",
              "      <th>1</th>\n",
              "      <td>2023</td>\n",
              "      <td>SE</td>\n",
              "      <td>FT</td>\n",
              "      <td>Data Scientist</td>\n",
              "      <td>150200</td>\n",
              "      <td>USD</td>\n",
              "      <td>150200</td>\n",
              "      <td>US</td>\n",
              "      <td>0</td>\n",
              "      <td>US</td>\n",
              "      <td>M</td>\n",
              "    </tr>\n",
              "    <tr>\n",
              "      <th>2</th>\n",
              "      <td>2023</td>\n",
              "      <td>SE</td>\n",
              "      <td>FT</td>\n",
              "      <td>Data Scientist</td>\n",
              "      <td>71000</td>\n",
              "      <td>USD</td>\n",
              "      <td>71000</td>\n",
              "      <td>US</td>\n",
              "      <td>0</td>\n",
              "      <td>US</td>\n",
              "      <td>M</td>\n",
              "    </tr>\n",
              "    <tr>\n",
              "      <th>3</th>\n",
              "      <td>2023</td>\n",
              "      <td>SE</td>\n",
              "      <td>FT</td>\n",
              "      <td>Data Engineer</td>\n",
              "      <td>167200</td>\n",
              "      <td>USD</td>\n",
              "      <td>167200</td>\n",
              "      <td>US</td>\n",
              "      <td>0</td>\n",
              "      <td>US</td>\n",
              "      <td>M</td>\n",
              "    </tr>\n",
              "    <tr>\n",
              "      <th>4</th>\n",
              "      <td>2023</td>\n",
              "      <td>SE</td>\n",
              "      <td>FT</td>\n",
              "      <td>Data Engineer</td>\n",
              "      <td>121000</td>\n",
              "      <td>USD</td>\n",
              "      <td>121000</td>\n",
              "      <td>US</td>\n",
              "      <td>0</td>\n",
              "      <td>US</td>\n",
              "      <td>M</td>\n",
              "    </tr>\n",
              "  </tbody>\n",
              "</table>\n",
              "</div>\n",
              "    <div class=\"colab-df-buttons\">\n",
              "\n",
              "  <div class=\"colab-df-container\">\n",
              "    <button class=\"colab-df-convert\" onclick=\"convertToInteractive('df-ab6d7d83-e279-4e2b-be61-63ecf8c720f9')\"\n",
              "            title=\"Convert this dataframe to an interactive table.\"\n",
              "            style=\"display:none;\">\n",
              "\n",
              "  <svg xmlns=\"http://www.w3.org/2000/svg\" height=\"24px\" viewBox=\"0 -960 960 960\">\n",
              "    <path d=\"M120-120v-720h720v720H120Zm60-500h600v-160H180v160Zm220 220h160v-160H400v160Zm0 220h160v-160H400v160ZM180-400h160v-160H180v160Zm440 0h160v-160H620v160ZM180-180h160v-160H180v160Zm440 0h160v-160H620v160Z\"/>\n",
              "  </svg>\n",
              "    </button>\n",
              "\n",
              "  <style>\n",
              "    .colab-df-container {\n",
              "      display:flex;\n",
              "      gap: 12px;\n",
              "    }\n",
              "\n",
              "    .colab-df-convert {\n",
              "      background-color: #E8F0FE;\n",
              "      border: none;\n",
              "      border-radius: 50%;\n",
              "      cursor: pointer;\n",
              "      display: none;\n",
              "      fill: #1967D2;\n",
              "      height: 32px;\n",
              "      padding: 0 0 0 0;\n",
              "      width: 32px;\n",
              "    }\n",
              "\n",
              "    .colab-df-convert:hover {\n",
              "      background-color: #E2EBFA;\n",
              "      box-shadow: 0px 1px 2px rgba(60, 64, 67, 0.3), 0px 1px 3px 1px rgba(60, 64, 67, 0.15);\n",
              "      fill: #174EA6;\n",
              "    }\n",
              "\n",
              "    .colab-df-buttons div {\n",
              "      margin-bottom: 4px;\n",
              "    }\n",
              "\n",
              "    [theme=dark] .colab-df-convert {\n",
              "      background-color: #3B4455;\n",
              "      fill: #D2E3FC;\n",
              "    }\n",
              "\n",
              "    [theme=dark] .colab-df-convert:hover {\n",
              "      background-color: #434B5C;\n",
              "      box-shadow: 0px 1px 3px 1px rgba(0, 0, 0, 0.15);\n",
              "      filter: drop-shadow(0px 1px 2px rgba(0, 0, 0, 0.3));\n",
              "      fill: #FFFFFF;\n",
              "    }\n",
              "  </style>\n",
              "\n",
              "    <script>\n",
              "      const buttonEl =\n",
              "        document.querySelector('#df-ab6d7d83-e279-4e2b-be61-63ecf8c720f9 button.colab-df-convert');\n",
              "      buttonEl.style.display =\n",
              "        google.colab.kernel.accessAllowed ? 'block' : 'none';\n",
              "\n",
              "      async function convertToInteractive(key) {\n",
              "        const element = document.querySelector('#df-ab6d7d83-e279-4e2b-be61-63ecf8c720f9');\n",
              "        const dataTable =\n",
              "          await google.colab.kernel.invokeFunction('convertToInteractive',\n",
              "                                                    [key], {});\n",
              "        if (!dataTable) return;\n",
              "\n",
              "        const docLinkHtml = 'Like what you see? Visit the ' +\n",
              "          '<a target=\"_blank\" href=https://colab.research.google.com/notebooks/data_table.ipynb>data table notebook</a>'\n",
              "          + ' to learn more about interactive tables.';\n",
              "        element.innerHTML = '';\n",
              "        dataTable['output_type'] = 'display_data';\n",
              "        await google.colab.output.renderOutput(dataTable, element);\n",
              "        const docLink = document.createElement('div');\n",
              "        docLink.innerHTML = docLinkHtml;\n",
              "        element.appendChild(docLink);\n",
              "      }\n",
              "    </script>\n",
              "  </div>\n",
              "\n",
              "\n",
              "<div id=\"df-d1fe5a5d-3c46-47d5-b306-77a7da4a7e60\">\n",
              "  <button class=\"colab-df-quickchart\" onclick=\"quickchart('df-d1fe5a5d-3c46-47d5-b306-77a7da4a7e60')\"\n",
              "            title=\"Suggest charts\"\n",
              "            style=\"display:none;\">\n",
              "\n",
              "<svg xmlns=\"http://www.w3.org/2000/svg\" height=\"24px\"viewBox=\"0 0 24 24\"\n",
              "     width=\"24px\">\n",
              "    <g>\n",
              "        <path d=\"M19 3H5c-1.1 0-2 .9-2 2v14c0 1.1.9 2 2 2h14c1.1 0 2-.9 2-2V5c0-1.1-.9-2-2-2zM9 17H7v-7h2v7zm4 0h-2V7h2v10zm4 0h-2v-4h2v4z\"/>\n",
              "    </g>\n",
              "</svg>\n",
              "  </button>\n",
              "\n",
              "<style>\n",
              "  .colab-df-quickchart {\n",
              "      --bg-color: #E8F0FE;\n",
              "      --fill-color: #1967D2;\n",
              "      --hover-bg-color: #E2EBFA;\n",
              "      --hover-fill-color: #174EA6;\n",
              "      --disabled-fill-color: #AAA;\n",
              "      --disabled-bg-color: #DDD;\n",
              "  }\n",
              "\n",
              "  [theme=dark] .colab-df-quickchart {\n",
              "      --bg-color: #3B4455;\n",
              "      --fill-color: #D2E3FC;\n",
              "      --hover-bg-color: #434B5C;\n",
              "      --hover-fill-color: #FFFFFF;\n",
              "      --disabled-bg-color: #3B4455;\n",
              "      --disabled-fill-color: #666;\n",
              "  }\n",
              "\n",
              "  .colab-df-quickchart {\n",
              "    background-color: var(--bg-color);\n",
              "    border: none;\n",
              "    border-radius: 50%;\n",
              "    cursor: pointer;\n",
              "    display: none;\n",
              "    fill: var(--fill-color);\n",
              "    height: 32px;\n",
              "    padding: 0;\n",
              "    width: 32px;\n",
              "  }\n",
              "\n",
              "  .colab-df-quickchart:hover {\n",
              "    background-color: var(--hover-bg-color);\n",
              "    box-shadow: 0 1px 2px rgba(60, 64, 67, 0.3), 0 1px 3px 1px rgba(60, 64, 67, 0.15);\n",
              "    fill: var(--button-hover-fill-color);\n",
              "  }\n",
              "\n",
              "  .colab-df-quickchart-complete:disabled,\n",
              "  .colab-df-quickchart-complete:disabled:hover {\n",
              "    background-color: var(--disabled-bg-color);\n",
              "    fill: var(--disabled-fill-color);\n",
              "    box-shadow: none;\n",
              "  }\n",
              "\n",
              "  .colab-df-spinner {\n",
              "    border: 2px solid var(--fill-color);\n",
              "    border-color: transparent;\n",
              "    border-bottom-color: var(--fill-color);\n",
              "    animation:\n",
              "      spin 1s steps(1) infinite;\n",
              "  }\n",
              "\n",
              "  @keyframes spin {\n",
              "    0% {\n",
              "      border-color: transparent;\n",
              "      border-bottom-color: var(--fill-color);\n",
              "      border-left-color: var(--fill-color);\n",
              "    }\n",
              "    20% {\n",
              "      border-color: transparent;\n",
              "      border-left-color: var(--fill-color);\n",
              "      border-top-color: var(--fill-color);\n",
              "    }\n",
              "    30% {\n",
              "      border-color: transparent;\n",
              "      border-left-color: var(--fill-color);\n",
              "      border-top-color: var(--fill-color);\n",
              "      border-right-color: var(--fill-color);\n",
              "    }\n",
              "    40% {\n",
              "      border-color: transparent;\n",
              "      border-right-color: var(--fill-color);\n",
              "      border-top-color: var(--fill-color);\n",
              "    }\n",
              "    60% {\n",
              "      border-color: transparent;\n",
              "      border-right-color: var(--fill-color);\n",
              "    }\n",
              "    80% {\n",
              "      border-color: transparent;\n",
              "      border-right-color: var(--fill-color);\n",
              "      border-bottom-color: var(--fill-color);\n",
              "    }\n",
              "    90% {\n",
              "      border-color: transparent;\n",
              "      border-bottom-color: var(--fill-color);\n",
              "    }\n",
              "  }\n",
              "</style>\n",
              "\n",
              "  <script>\n",
              "    async function quickchart(key) {\n",
              "      const quickchartButtonEl =\n",
              "        document.querySelector('#' + key + ' button');\n",
              "      quickchartButtonEl.disabled = true;  // To prevent multiple clicks.\n",
              "      quickchartButtonEl.classList.add('colab-df-spinner');\n",
              "      try {\n",
              "        const charts = await google.colab.kernel.invokeFunction(\n",
              "            'suggestCharts', [key], {});\n",
              "      } catch (error) {\n",
              "        console.error('Error during call to suggestCharts:', error);\n",
              "      }\n",
              "      quickchartButtonEl.classList.remove('colab-df-spinner');\n",
              "      quickchartButtonEl.classList.add('colab-df-quickchart-complete');\n",
              "    }\n",
              "    (() => {\n",
              "      let quickchartButtonEl =\n",
              "        document.querySelector('#df-d1fe5a5d-3c46-47d5-b306-77a7da4a7e60 button');\n",
              "      quickchartButtonEl.style.display =\n",
              "        google.colab.kernel.accessAllowed ? 'block' : 'none';\n",
              "    })();\n",
              "  </script>\n",
              "</div>\n",
              "    </div>\n",
              "  </div>\n"
            ]
          },
          "metadata": {},
          "execution_count": 4
        }
      ]
    },
    {
      "cell_type": "code",
      "source": [
        "#Verificando o espaço amostral da pesquisa e a quantidade de atibutos\n",
        "print('Espaço amostral e quantidade de atributos')\n",
        "print(f'{salarios.shape}\\n')"
      ],
      "metadata": {
        "colab": {
          "base_uri": "https://localhost:8080/"
        },
        "id": "MXq2MYqyL9Xk",
        "outputId": "9d9e0513-275d-49e4-be72-9901c448b9fb"
      },
      "execution_count": null,
      "outputs": [
        {
          "output_type": "stream",
          "name": "stdout",
          "text": [
            "Espaço amostral e quantidade de atributos\n",
            "(9217, 11)\n",
            "\n"
          ]
        }
      ]
    },
    {
      "cell_type": "code",
      "source": [
        "#Verificando o nome dos atributos\n",
        "print('Atributos')\n",
        "print(f'{salarios.columns}\\n')"
      ],
      "metadata": {
        "colab": {
          "base_uri": "https://localhost:8080/"
        },
        "id": "UtAbNE1rMb06",
        "outputId": "7b032136-5894-4c04-fe26-04b12e10d6a2"
      },
      "execution_count": null,
      "outputs": [
        {
          "output_type": "stream",
          "name": "stdout",
          "text": [
            "Atributos\n",
            "Index(['work_year', 'experience_level', 'employment_type', 'job_title',\n",
            "       'salary', 'salary_currency', 'salary_in_usd', 'employee_residence',\n",
            "       'remote_ratio', 'company_location', 'company_size'],\n",
            "      dtype='object')\n",
            "\n"
          ]
        }
      ]
    },
    {
      "cell_type": "code",
      "source": [
        "#Listando os cargos existente na base da pesquisa\n",
        "print('job_title distintos: ')\n",
        "print(salarios['job_title'].sort_values().unique())"
      ],
      "metadata": {
        "colab": {
          "base_uri": "https://localhost:8080/"
        },
        "id": "IS8LU2X7MkMo",
        "outputId": "3024e0ce-7372-456c-f5e9-b53963d29f21"
      },
      "execution_count": null,
      "outputs": [
        {
          "output_type": "stream",
          "name": "stdout",
          "text": [
            "job_title distintos: \n",
            "['AI Architect' 'AI Developer' 'AI Engineer' 'AI Programmer'\n",
            " 'AI Research Engineer' 'AI Scientist' 'AWS Data Architect'\n",
            " 'Analytics Engineer' 'Analytics Engineering Manager'\n",
            " 'Applied Data Scientist' 'Applied Machine Learning Engineer'\n",
            " 'Applied Machine Learning Scientist' 'Applied Scientist'\n",
            " 'Autonomous Vehicle Technician' 'Azure Data Engineer' 'BI Analyst'\n",
            " 'BI Data Analyst' 'BI Data Engineer' 'BI Developer' 'Big Data Architect'\n",
            " 'Big Data Engineer' 'Business Data Analyst'\n",
            " 'Business Intelligence Analyst' 'Business Intelligence Data Analyst'\n",
            " 'Business Intelligence Developer' 'Business Intelligence Engineer'\n",
            " 'Business Intelligence Manager' 'Business Intelligence Specialist'\n",
            " 'Cloud Data Architect' 'Cloud Data Engineer' 'Cloud Database Engineer'\n",
            " 'Compliance Data Analyst' 'Computer Vision Engineer'\n",
            " 'Computer Vision Software Engineer' 'Consultant Data Engineer'\n",
            " 'Data Analyst' 'Data Analytics Consultant' 'Data Analytics Engineer'\n",
            " 'Data Analytics Lead' 'Data Analytics Manager'\n",
            " 'Data Analytics Specialist' 'Data Architect' 'Data DevOps Engineer'\n",
            " 'Data Developer' 'Data Engineer' 'Data Infrastructure Engineer'\n",
            " 'Data Integration Engineer' 'Data Integration Specialist' 'Data Lead'\n",
            " 'Data Management Analyst' 'Data Management Specialist' 'Data Manager'\n",
            " 'Data Modeler' 'Data Modeller' 'Data Operations Analyst'\n",
            " 'Data Operations Engineer' 'Data Operations Manager'\n",
            " 'Data Operations Specialist' 'Data Product Manager' 'Data Product Owner'\n",
            " 'Data Quality Analyst' 'Data Quality Engineer' 'Data Science Consultant'\n",
            " 'Data Science Director' 'Data Science Engineer' 'Data Science Lead'\n",
            " 'Data Science Manager' 'Data Science Practitioner'\n",
            " 'Data Science Tech Lead' 'Data Scientist' 'Data Scientist Lead'\n",
            " 'Data Specialist' 'Data Strategist' 'Data Strategy Manager'\n",
            " 'Data Visualization Analyst' 'Data Visualization Engineer'\n",
            " 'Data Visualization Specialist' 'Decision Scientist'\n",
            " 'Deep Learning Engineer' 'Deep Learning Researcher'\n",
            " 'Director of Data Science' 'ETL Developer' 'ETL Engineer'\n",
            " 'Finance Data Analyst' 'Financial Data Analyst' 'Head of Data'\n",
            " 'Head of Data Science' 'Head of Machine Learning' 'Insight Analyst'\n",
            " 'Lead Data Analyst' 'Lead Data Engineer' 'Lead Data Scientist'\n",
            " 'Lead Machine Learning Engineer' 'ML Engineer' 'MLOps Engineer'\n",
            " 'Machine Learning Developer' 'Machine Learning Engineer'\n",
            " 'Machine Learning Infrastructure Engineer' 'Machine Learning Manager'\n",
            " 'Machine Learning Modeler' 'Machine Learning Operations Engineer'\n",
            " 'Machine Learning Research Engineer' 'Machine Learning Researcher'\n",
            " 'Machine Learning Scientist' 'Machine Learning Software Engineer'\n",
            " 'Machine Learning Specialist' 'Manager Data Management'\n",
            " 'Managing Director Data Science' 'Marketing Data Analyst'\n",
            " 'Marketing Data Engineer' 'NLP Engineer' 'Power BI Developer'\n",
            " 'Principal Data Analyst' 'Principal Data Architect'\n",
            " 'Principal Data Engineer' 'Principal Data Scientist'\n",
            " 'Principal Machine Learning Engineer' 'Product Data Analyst'\n",
            " 'Research Analyst' 'Research Engineer' 'Research Scientist'\n",
            " 'Sales Data Analyst' 'Software Data Engineer' 'Staff Data Analyst'\n",
            " 'Staff Data Scientist' 'Staff Machine Learning Engineer']\n"
          ]
        }
      ]
    },
    {
      "cell_type": "code",
      "source": [
        "# Faz contagem (value_counts) da coluna \"Acompanhado\" e organiza em formato decrescente (sort = True) com base nos indices (sort_index)\n",
        "salarios['job_title'].value_counts(sort = True).sort_index()"
      ],
      "metadata": {
        "colab": {
          "base_uri": "https://localhost:8080/"
        },
        "id": "w8obnAnpM8h8",
        "outputId": "e7363ff4-9e84-45e0-fe8e-b76af010e356"
      },
      "execution_count": null,
      "outputs": [
        {
          "output_type": "execute_result",
          "data": {
            "text/plain": [
              "AI Architect                       12\n",
              "AI Developer                       18\n",
              "AI Engineer                        34\n",
              "AI Programmer                       6\n",
              "AI Research Engineer                5\n",
              "                                   ..\n",
              "Sales Data Analyst                  1\n",
              "Software Data Engineer              3\n",
              "Staff Data Analyst                  3\n",
              "Staff Data Scientist                2\n",
              "Staff Machine Learning Engineer     1\n",
              "Name: job_title, Length: 126, dtype: int64"
            ]
          },
          "metadata": {},
          "execution_count": 8
        }
      ]
    },
    {
      "cell_type": "code",
      "source": [
        "salarios['work_year'].value_counts(sort = True).sort_index()"
      ],
      "metadata": {
        "colab": {
          "base_uri": "https://localhost:8080/"
        },
        "id": "sA5CKkb-N6Ol",
        "outputId": "d7fad823-2b3c-4f85-f5d3-1ee4526e6c3b"
      },
      "execution_count": null,
      "outputs": [
        {
          "output_type": "execute_result",
          "data": {
            "text/plain": [
              "2020      75\n",
              "2021     218\n",
              "2022    1651\n",
              "2023    7273\n",
              "Name: work_year, dtype: int64"
            ]
          },
          "metadata": {},
          "execution_count": 9
        }
      ]
    },
    {
      "cell_type": "code",
      "source": [
        "salarios['employment_type'].value_counts(sort = True).sort_index()"
      ],
      "metadata": {
        "colab": {
          "base_uri": "https://localhost:8080/"
        },
        "id": "G6YmcUA5OEMz",
        "outputId": "6953eebc-7365-4e8f-9908-13e3eb4d8cc0"
      },
      "execution_count": null,
      "outputs": [
        {
          "output_type": "execute_result",
          "data": {
            "text/plain": [
              "CT      19\n",
              "FL      12\n",
              "FT    9171\n",
              "PT      15\n",
              "Name: employment_type, dtype: int64"
            ]
          },
          "metadata": {},
          "execution_count": 10
        }
      ]
    },
    {
      "cell_type": "code",
      "source": [
        "salarios['salary'].value_counts()"
      ],
      "metadata": {
        "colab": {
          "base_uri": "https://localhost:8080/"
        },
        "id": "d7fQGIANOQFy",
        "outputId": "cc73c031-66b0-4198-da97-48cd630c2a7a"
      },
      "execution_count": null,
      "outputs": [
        {
          "output_type": "execute_result",
          "data": {
            "text/plain": [
              "150000    207\n",
              "100000    194\n",
              "130000    189\n",
              "160000    183\n",
              "120000    170\n",
              "         ... \n",
              "167954      1\n",
              "115830      1\n",
              "281700      1\n",
              "79700       1\n",
              "412000      1\n",
              "Name: salary, Length: 1538, dtype: int64"
            ]
          },
          "metadata": {},
          "execution_count": 11
        }
      ]
    },
    {
      "cell_type": "code",
      "source": [
        "import pandas as pd\n",
        "\n",
        "# Supondo que sua coluna de salários seja chamada 'salary'\n",
        "# e que você tenha um DataFrame chamado 'salarios'\n",
        "\n",
        "# Calcule os intervalos começando do menor valor de salário até o máximo\n",
        "intervalo_inicial = salarios['salary'].min()\n",
        "intervalo_final = salarios['salary'].max() + 2000\n",
        "intervalos = list(range(intervalo_inicial, intervalo_final, 2000))\n",
        "\n",
        "# Crie categorias usando o método cut\n",
        "salarios['salary_interval'] = pd.cut(salarios['salary'], bins=intervalos)\n",
        "\n",
        "# Conte a frequência de cada categoria\n",
        "frequencia_por_intervalo = salarios['salary_interval'].value_counts()\n",
        "\n",
        "# Exiba os resultados\n",
        "print(f'Frequência de cada categoria: \\n Intervalo        Total Ocorrencias\\n{frequencia_por_intervalo}')\n"
      ],
      "metadata": {
        "colab": {
          "base_uri": "https://localhost:8080/"
        },
        "id": "DWc03tj2OaMQ",
        "outputId": "716faa4e-6fd8-4399-aebb-721b1e93e532"
      },
      "execution_count": null,
      "outputs": [
        {
          "output_type": "stream",
          "name": "stdout",
          "text": [
            "Frequência de cada categoria: \n",
            " Intervalo        Total Ocorrencias\n",
            "(128000, 130000]        294\n",
            "(148000, 150000]        251\n",
            "(138000, 140000]        246\n",
            "(158000, 160000]        237\n",
            "(134000, 136000]        224\n",
            "                       ... \n",
            "(10458000, 10460000]      0\n",
            "(10460000, 10462000]      0\n",
            "(10462000, 10464000]      0\n",
            "(10464000, 10466000]      0\n",
            "(15206000, 15208000]      0\n",
            "Name: salary_interval, Length: 15193, dtype: int64\n"
          ]
        }
      ]
    },
    {
      "cell_type": "code",
      "source": [
        "#Criando um dataframe só com o conjunto de dados correspondente aos Data Scientist\n",
        "\n",
        "ds = pd.DataFrame(salarios[((salarios['job_title']=='Applied Data Scientist') | (salarios['job_title']=='Applied Scientist') | (salarios['job_title']=='Data Science Consultant') | (salarios['job_title']=='Data Science Engineer') |\n",
        "(salarios['job_title']=='Data Science Lead') | (salarios['job_title']=='Data Science Manager')| (salarios['job_title']=='Data Science Practitioner') | (salarios['job_title']=='Data Science Tech Lead') |\n",
        "(salarios['job_title']=='Data Scientist') | (salarios['job_title']=='Data Scientist Lead') | (salarios['job_title']=='Decision Scientist') | (salarios['job_title']=='Director of Data Science') |\n",
        "(salarios['job_title']=='Head of Data Science') | (salarios['job_title']=='Lead Data Scientist') | (salarios['job_title']=='Managing Director Data Science') | (salarios['job_title']=='Principal Data Scientist') |\n",
        "(salarios['job_title']=='Research Scientist') | (salarios['job_title']=='Staff Data Scientist'))])\n",
        "\n",
        "#Exibindo os 10 primeiros registros\n",
        "ds.head()"
      ],
      "metadata": {
        "colab": {
          "base_uri": "https://localhost:8080/",
          "height": 313
        },
        "id": "wWlkf1EYQBJ0",
        "outputId": "e8553b91-1ac5-49db-bdf4-2287c7598697"
      },
      "execution_count": null,
      "outputs": [
        {
          "output_type": "execute_result",
          "data": {
            "text/plain": [
              "    work_year experience_level employment_type       job_title  salary  \\\n",
              "1        2023               SE              FT  Data Scientist  150200   \n",
              "2        2023               SE              FT  Data Scientist   71000   \n",
              "7        2023               MI              FT  Data Scientist  135000   \n",
              "8        2023               MI              FT  Data Scientist  110000   \n",
              "11       2023               SE              FT  Data Scientist  187415   \n",
              "\n",
              "   salary_currency  salary_in_usd employee_residence  remote_ratio  \\\n",
              "1              USD         150200                 US             0   \n",
              "2              USD          71000                 US             0   \n",
              "7              USD         135000                 US             0   \n",
              "8              USD         110000                 US             0   \n",
              "11             USD         187415                 US             0   \n",
              "\n",
              "   company_location company_size   salary_interval  \n",
              "1                US            M  (150000, 152000]  \n",
              "2                US            M    (70000, 72000]  \n",
              "7                US            M  (134000, 136000]  \n",
              "8                US            M  (108000, 110000]  \n",
              "11               US            M  (186000, 188000]  "
            ],
            "text/html": [
              "\n",
              "  <div id=\"df-fdc899d6-88a8-410d-b207-25c12be68aa6\" class=\"colab-df-container\">\n",
              "    <div>\n",
              "<style scoped>\n",
              "    .dataframe tbody tr th:only-of-type {\n",
              "        vertical-align: middle;\n",
              "    }\n",
              "\n",
              "    .dataframe tbody tr th {\n",
              "        vertical-align: top;\n",
              "    }\n",
              "\n",
              "    .dataframe thead th {\n",
              "        text-align: right;\n",
              "    }\n",
              "</style>\n",
              "<table border=\"1\" class=\"dataframe\">\n",
              "  <thead>\n",
              "    <tr style=\"text-align: right;\">\n",
              "      <th></th>\n",
              "      <th>work_year</th>\n",
              "      <th>experience_level</th>\n",
              "      <th>employment_type</th>\n",
              "      <th>job_title</th>\n",
              "      <th>salary</th>\n",
              "      <th>salary_currency</th>\n",
              "      <th>salary_in_usd</th>\n",
              "      <th>employee_residence</th>\n",
              "      <th>remote_ratio</th>\n",
              "      <th>company_location</th>\n",
              "      <th>company_size</th>\n",
              "      <th>salary_interval</th>\n",
              "    </tr>\n",
              "  </thead>\n",
              "  <tbody>\n",
              "    <tr>\n",
              "      <th>1</th>\n",
              "      <td>2023</td>\n",
              "      <td>SE</td>\n",
              "      <td>FT</td>\n",
              "      <td>Data Scientist</td>\n",
              "      <td>150200</td>\n",
              "      <td>USD</td>\n",
              "      <td>150200</td>\n",
              "      <td>US</td>\n",
              "      <td>0</td>\n",
              "      <td>US</td>\n",
              "      <td>M</td>\n",
              "      <td>(150000, 152000]</td>\n",
              "    </tr>\n",
              "    <tr>\n",
              "      <th>2</th>\n",
              "      <td>2023</td>\n",
              "      <td>SE</td>\n",
              "      <td>FT</td>\n",
              "      <td>Data Scientist</td>\n",
              "      <td>71000</td>\n",
              "      <td>USD</td>\n",
              "      <td>71000</td>\n",
              "      <td>US</td>\n",
              "      <td>0</td>\n",
              "      <td>US</td>\n",
              "      <td>M</td>\n",
              "      <td>(70000, 72000]</td>\n",
              "    </tr>\n",
              "    <tr>\n",
              "      <th>7</th>\n",
              "      <td>2023</td>\n",
              "      <td>MI</td>\n",
              "      <td>FT</td>\n",
              "      <td>Data Scientist</td>\n",
              "      <td>135000</td>\n",
              "      <td>USD</td>\n",
              "      <td>135000</td>\n",
              "      <td>US</td>\n",
              "      <td>0</td>\n",
              "      <td>US</td>\n",
              "      <td>M</td>\n",
              "      <td>(134000, 136000]</td>\n",
              "    </tr>\n",
              "    <tr>\n",
              "      <th>8</th>\n",
              "      <td>2023</td>\n",
              "      <td>MI</td>\n",
              "      <td>FT</td>\n",
              "      <td>Data Scientist</td>\n",
              "      <td>110000</td>\n",
              "      <td>USD</td>\n",
              "      <td>110000</td>\n",
              "      <td>US</td>\n",
              "      <td>0</td>\n",
              "      <td>US</td>\n",
              "      <td>M</td>\n",
              "      <td>(108000, 110000]</td>\n",
              "    </tr>\n",
              "    <tr>\n",
              "      <th>11</th>\n",
              "      <td>2023</td>\n",
              "      <td>SE</td>\n",
              "      <td>FT</td>\n",
              "      <td>Data Scientist</td>\n",
              "      <td>187415</td>\n",
              "      <td>USD</td>\n",
              "      <td>187415</td>\n",
              "      <td>US</td>\n",
              "      <td>0</td>\n",
              "      <td>US</td>\n",
              "      <td>M</td>\n",
              "      <td>(186000, 188000]</td>\n",
              "    </tr>\n",
              "  </tbody>\n",
              "</table>\n",
              "</div>\n",
              "    <div class=\"colab-df-buttons\">\n",
              "\n",
              "  <div class=\"colab-df-container\">\n",
              "    <button class=\"colab-df-convert\" onclick=\"convertToInteractive('df-fdc899d6-88a8-410d-b207-25c12be68aa6')\"\n",
              "            title=\"Convert this dataframe to an interactive table.\"\n",
              "            style=\"display:none;\">\n",
              "\n",
              "  <svg xmlns=\"http://www.w3.org/2000/svg\" height=\"24px\" viewBox=\"0 -960 960 960\">\n",
              "    <path d=\"M120-120v-720h720v720H120Zm60-500h600v-160H180v160Zm220 220h160v-160H400v160Zm0 220h160v-160H400v160ZM180-400h160v-160H180v160Zm440 0h160v-160H620v160ZM180-180h160v-160H180v160Zm440 0h160v-160H620v160Z\"/>\n",
              "  </svg>\n",
              "    </button>\n",
              "\n",
              "  <style>\n",
              "    .colab-df-container {\n",
              "      display:flex;\n",
              "      gap: 12px;\n",
              "    }\n",
              "\n",
              "    .colab-df-convert {\n",
              "      background-color: #E8F0FE;\n",
              "      border: none;\n",
              "      border-radius: 50%;\n",
              "      cursor: pointer;\n",
              "      display: none;\n",
              "      fill: #1967D2;\n",
              "      height: 32px;\n",
              "      padding: 0 0 0 0;\n",
              "      width: 32px;\n",
              "    }\n",
              "\n",
              "    .colab-df-convert:hover {\n",
              "      background-color: #E2EBFA;\n",
              "      box-shadow: 0px 1px 2px rgba(60, 64, 67, 0.3), 0px 1px 3px 1px rgba(60, 64, 67, 0.15);\n",
              "      fill: #174EA6;\n",
              "    }\n",
              "\n",
              "    .colab-df-buttons div {\n",
              "      margin-bottom: 4px;\n",
              "    }\n",
              "\n",
              "    [theme=dark] .colab-df-convert {\n",
              "      background-color: #3B4455;\n",
              "      fill: #D2E3FC;\n",
              "    }\n",
              "\n",
              "    [theme=dark] .colab-df-convert:hover {\n",
              "      background-color: #434B5C;\n",
              "      box-shadow: 0px 1px 3px 1px rgba(0, 0, 0, 0.15);\n",
              "      filter: drop-shadow(0px 1px 2px rgba(0, 0, 0, 0.3));\n",
              "      fill: #FFFFFF;\n",
              "    }\n",
              "  </style>\n",
              "\n",
              "    <script>\n",
              "      const buttonEl =\n",
              "        document.querySelector('#df-fdc899d6-88a8-410d-b207-25c12be68aa6 button.colab-df-convert');\n",
              "      buttonEl.style.display =\n",
              "        google.colab.kernel.accessAllowed ? 'block' : 'none';\n",
              "\n",
              "      async function convertToInteractive(key) {\n",
              "        const element = document.querySelector('#df-fdc899d6-88a8-410d-b207-25c12be68aa6');\n",
              "        const dataTable =\n",
              "          await google.colab.kernel.invokeFunction('convertToInteractive',\n",
              "                                                    [key], {});\n",
              "        if (!dataTable) return;\n",
              "\n",
              "        const docLinkHtml = 'Like what you see? Visit the ' +\n",
              "          '<a target=\"_blank\" href=https://colab.research.google.com/notebooks/data_table.ipynb>data table notebook</a>'\n",
              "          + ' to learn more about interactive tables.';\n",
              "        element.innerHTML = '';\n",
              "        dataTable['output_type'] = 'display_data';\n",
              "        await google.colab.output.renderOutput(dataTable, element);\n",
              "        const docLink = document.createElement('div');\n",
              "        docLink.innerHTML = docLinkHtml;\n",
              "        element.appendChild(docLink);\n",
              "      }\n",
              "    </script>\n",
              "  </div>\n",
              "\n",
              "\n",
              "<div id=\"df-ae10af79-a5fa-49a5-a166-60fd91f34b51\">\n",
              "  <button class=\"colab-df-quickchart\" onclick=\"quickchart('df-ae10af79-a5fa-49a5-a166-60fd91f34b51')\"\n",
              "            title=\"Suggest charts\"\n",
              "            style=\"display:none;\">\n",
              "\n",
              "<svg xmlns=\"http://www.w3.org/2000/svg\" height=\"24px\"viewBox=\"0 0 24 24\"\n",
              "     width=\"24px\">\n",
              "    <g>\n",
              "        <path d=\"M19 3H5c-1.1 0-2 .9-2 2v14c0 1.1.9 2 2 2h14c1.1 0 2-.9 2-2V5c0-1.1-.9-2-2-2zM9 17H7v-7h2v7zm4 0h-2V7h2v10zm4 0h-2v-4h2v4z\"/>\n",
              "    </g>\n",
              "</svg>\n",
              "  </button>\n",
              "\n",
              "<style>\n",
              "  .colab-df-quickchart {\n",
              "      --bg-color: #E8F0FE;\n",
              "      --fill-color: #1967D2;\n",
              "      --hover-bg-color: #E2EBFA;\n",
              "      --hover-fill-color: #174EA6;\n",
              "      --disabled-fill-color: #AAA;\n",
              "      --disabled-bg-color: #DDD;\n",
              "  }\n",
              "\n",
              "  [theme=dark] .colab-df-quickchart {\n",
              "      --bg-color: #3B4455;\n",
              "      --fill-color: #D2E3FC;\n",
              "      --hover-bg-color: #434B5C;\n",
              "      --hover-fill-color: #FFFFFF;\n",
              "      --disabled-bg-color: #3B4455;\n",
              "      --disabled-fill-color: #666;\n",
              "  }\n",
              "\n",
              "  .colab-df-quickchart {\n",
              "    background-color: var(--bg-color);\n",
              "    border: none;\n",
              "    border-radius: 50%;\n",
              "    cursor: pointer;\n",
              "    display: none;\n",
              "    fill: var(--fill-color);\n",
              "    height: 32px;\n",
              "    padding: 0;\n",
              "    width: 32px;\n",
              "  }\n",
              "\n",
              "  .colab-df-quickchart:hover {\n",
              "    background-color: var(--hover-bg-color);\n",
              "    box-shadow: 0 1px 2px rgba(60, 64, 67, 0.3), 0 1px 3px 1px rgba(60, 64, 67, 0.15);\n",
              "    fill: var(--button-hover-fill-color);\n",
              "  }\n",
              "\n",
              "  .colab-df-quickchart-complete:disabled,\n",
              "  .colab-df-quickchart-complete:disabled:hover {\n",
              "    background-color: var(--disabled-bg-color);\n",
              "    fill: var(--disabled-fill-color);\n",
              "    box-shadow: none;\n",
              "  }\n",
              "\n",
              "  .colab-df-spinner {\n",
              "    border: 2px solid var(--fill-color);\n",
              "    border-color: transparent;\n",
              "    border-bottom-color: var(--fill-color);\n",
              "    animation:\n",
              "      spin 1s steps(1) infinite;\n",
              "  }\n",
              "\n",
              "  @keyframes spin {\n",
              "    0% {\n",
              "      border-color: transparent;\n",
              "      border-bottom-color: var(--fill-color);\n",
              "      border-left-color: var(--fill-color);\n",
              "    }\n",
              "    20% {\n",
              "      border-color: transparent;\n",
              "      border-left-color: var(--fill-color);\n",
              "      border-top-color: var(--fill-color);\n",
              "    }\n",
              "    30% {\n",
              "      border-color: transparent;\n",
              "      border-left-color: var(--fill-color);\n",
              "      border-top-color: var(--fill-color);\n",
              "      border-right-color: var(--fill-color);\n",
              "    }\n",
              "    40% {\n",
              "      border-color: transparent;\n",
              "      border-right-color: var(--fill-color);\n",
              "      border-top-color: var(--fill-color);\n",
              "    }\n",
              "    60% {\n",
              "      border-color: transparent;\n",
              "      border-right-color: var(--fill-color);\n",
              "    }\n",
              "    80% {\n",
              "      border-color: transparent;\n",
              "      border-right-color: var(--fill-color);\n",
              "      border-bottom-color: var(--fill-color);\n",
              "    }\n",
              "    90% {\n",
              "      border-color: transparent;\n",
              "      border-bottom-color: var(--fill-color);\n",
              "    }\n",
              "  }\n",
              "</style>\n",
              "\n",
              "  <script>\n",
              "    async function quickchart(key) {\n",
              "      const quickchartButtonEl =\n",
              "        document.querySelector('#' + key + ' button');\n",
              "      quickchartButtonEl.disabled = true;  // To prevent multiple clicks.\n",
              "      quickchartButtonEl.classList.add('colab-df-spinner');\n",
              "      try {\n",
              "        const charts = await google.colab.kernel.invokeFunction(\n",
              "            'suggestCharts', [key], {});\n",
              "      } catch (error) {\n",
              "        console.error('Error during call to suggestCharts:', error);\n",
              "      }\n",
              "      quickchartButtonEl.classList.remove('colab-df-spinner');\n",
              "      quickchartButtonEl.classList.add('colab-df-quickchart-complete');\n",
              "    }\n",
              "    (() => {\n",
              "      let quickchartButtonEl =\n",
              "        document.querySelector('#df-ae10af79-a5fa-49a5-a166-60fd91f34b51 button');\n",
              "      quickchartButtonEl.style.display =\n",
              "        google.colab.kernel.accessAllowed ? 'block' : 'none';\n",
              "    })();\n",
              "  </script>\n",
              "</div>\n",
              "    </div>\n",
              "  </div>\n"
            ]
          },
          "metadata": {},
          "execution_count": 13
        }
      ]
    },
    {
      "cell_type": "code",
      "source": [
        "#Analisando o espaço amostral dos dados do novo dataframe ds.\n",
        "print('Espaço amostral Data Scientist: ')\n",
        "print(ds.shape)"
      ],
      "metadata": {
        "colab": {
          "base_uri": "https://localhost:8080/"
        },
        "id": "0o8sNoUjRNoT",
        "outputId": "050b00bb-5d6c-4ea2-80ad-0d2f39c7e5da"
      },
      "execution_count": null,
      "outputs": [
        {
          "output_type": "stream",
          "name": "stdout",
          "text": [
            "Espaço amostral Data Scientist: \n",
            "(2785, 12)\n"
          ]
        }
      ]
    },
    {
      "cell_type": "code",
      "source": [
        "#Analisando os cargos contemplados no espaço amostral do dataframe ds.\n",
        "print('Job_title filtrados: ')\n",
        "print(ds['job_title'].sort_values().unique())"
      ],
      "metadata": {
        "colab": {
          "base_uri": "https://localhost:8080/"
        },
        "id": "FONE_8rJRr8G",
        "outputId": "04efc243-6d66-47f5-a10c-aea5210bf80e"
      },
      "execution_count": null,
      "outputs": [
        {
          "output_type": "stream",
          "name": "stdout",
          "text": [
            "Job_title filtrados: \n",
            "['Applied Data Scientist' 'Applied Scientist' 'Data Science Consultant'\n",
            " 'Data Science Engineer' 'Data Science Lead' 'Data Science Manager'\n",
            " 'Data Science Practitioner' 'Data Science Tech Lead' 'Data Scientist'\n",
            " 'Data Scientist Lead' 'Decision Scientist' 'Director of Data Science'\n",
            " 'Head of Data Science' 'Lead Data Scientist'\n",
            " 'Managing Director Data Science' 'Principal Data Scientist'\n",
            " 'Research Scientist' 'Staff Data Scientist']\n"
          ]
        }
      ]
    },
    {
      "cell_type": "code",
      "source": [
        "ds['job_title'].value_counts()"
      ],
      "metadata": {
        "colab": {
          "base_uri": "https://localhost:8080/"
        },
        "id": "21PYajv-R5pf",
        "outputId": "759476e3-66af-4f4e-a67b-ac18e330aadd"
      },
      "execution_count": null,
      "outputs": [
        {
          "output_type": "execute_result",
          "data": {
            "text/plain": [
              "Data Scientist                    1962\n",
              "Applied Scientist                  270\n",
              "Research Scientist                 257\n",
              "Data Science Manager                92\n",
              "Data Science Consultant             45\n",
              "Decision Scientist                  38\n",
              "Director of Data Science            29\n",
              "Data Science Lead                   20\n",
              "Head of Data Science                12\n",
              "Data Science Engineer               12\n",
              "Applied Data Scientist              12\n",
              "Lead Data Scientist                 10\n",
              "Principal Data Scientist            10\n",
              "Data Science Practitioner           10\n",
              "Staff Data Scientist                 2\n",
              "Data Scientist Lead                  2\n",
              "Managing Director Data Science       1\n",
              "Data Science Tech Lead               1\n",
              "Name: job_title, dtype: int64"
            ]
          },
          "metadata": {},
          "execution_count": 16
        }
      ]
    },
    {
      "cell_type": "code",
      "source": [
        "ds['remote_ratio'].value_counts()"
      ],
      "metadata": {
        "colab": {
          "base_uri": "https://localhost:8080/"
        },
        "id": "Upetat--ebyC",
        "outputId": "29f27d35-18aa-428b-bbe5-f7aadf5f37ca"
      },
      "execution_count": null,
      "outputs": [
        {
          "output_type": "execute_result",
          "data": {
            "text/plain": [
              "0      1677\n",
              "100    1020\n",
              "50       88\n",
              "Name: remote_ratio, dtype: int64"
            ]
          },
          "metadata": {},
          "execution_count": 17
        }
      ]
    },
    {
      "cell_type": "code",
      "source": [
        "#Quantidade de Data Scientist por tamanho da empresa\n",
        "ds['company_size'].value_counts()/len(ds)\n",
        "\n",
        "#Probabilidade simples por tamanho da empresa - Chance de trabalhar em cada nível de empresa\n",
        "ds['company_size'].value_counts()/len(ds)*100"
      ],
      "metadata": {
        "colab": {
          "base_uri": "https://localhost:8080/"
        },
        "id": "vauhta8uSPxi",
        "outputId": "0c711846-07c2-4794-8a56-2490b74bfb8f"
      },
      "execution_count": null,
      "outputs": [
        {
          "output_type": "execute_result",
          "data": {
            "text/plain": [
              "M    85.745063\n",
              "L    12.531418\n",
              "S     1.723519\n",
              "Name: company_size, dtype: float64"
            ]
          },
          "metadata": {},
          "execution_count": 18
        }
      ]
    },
    {
      "cell_type": "code",
      "source": [
        "#Quantidade de Data Scientis por nível de experiência\n",
        "ds['experience_level'].value_counts()\n",
        "\n",
        "#Probabilidade simples por nível de experiência - Chance de ser júnior (EN), pleno (MI), sênior (SE) ou especialista (EX).\n",
        "ds['experience_level'].value_counts()/len(ds)*100"
      ],
      "metadata": {
        "colab": {
          "base_uri": "https://localhost:8080/"
        },
        "id": "4IQeOXMHcbIO",
        "outputId": "fc8ba6e6-4406-4831-acdc-7c9299d9442d"
      },
      "execution_count": null,
      "outputs": [
        {
          "output_type": "execute_result",
          "data": {
            "text/plain": [
              "SE    75.763016\n",
              "MI    16.588869\n",
              "EN     4.847397\n",
              "EX     2.800718\n",
              "Name: experience_level, dtype: float64"
            ]
          },
          "metadata": {},
          "execution_count": 19
        }
      ]
    },
    {
      "cell_type": "markdown",
      "source": [
        "# **Probabilidade Simples**"
      ],
      "metadata": {
        "id": "G4W3nfGklFDu"
      }
    },
    {
      "cell_type": "code",
      "source": [
        "#Vamos verificar a quantidade de pesquisas que foram realizadas no dataset\n",
        "pesquisas_realizadas = len(salarios)\n",
        "\n",
        "#Vamos verificar a quantidade de pesquisas que foram realizadas a profissionais Data Scientist\n",
        "pesquisas_ds = len(ds['job_title']=='Data Scientist')\n",
        "\n",
        "print(f'Total de pesquisas realizadas: {pesquisas_realizadas}')\n",
        "print(f'Total de pesquisas realizadas a profissionais Data Scientist: {pesquisas_ds}')"
      ],
      "metadata": {
        "colab": {
          "base_uri": "https://localhost:8080/"
        },
        "id": "79TJkiFUcwA_",
        "outputId": "3de4221e-5ae1-4de0-bbb3-7810ef7371c3"
      },
      "execution_count": null,
      "outputs": [
        {
          "output_type": "stream",
          "name": "stdout",
          "text": [
            "Total de pesquisas realizadas: 9217\n",
            "Total de pesquisas realizadas a profissionais Data Scientist: 2785\n"
          ]
        }
      ]
    },
    {
      "cell_type": "markdown",
      "source": [
        "1° Análise: Qual a probabilidade do profissional entrevistado ser um Data Scientist?"
      ],
      "metadata": {
        "id": "0dBeuiJggXhd"
      }
    },
    {
      "cell_type": "code",
      "source": [
        "prob_ser_ds = pesquisas_ds/pesquisas_realizadas\n",
        "\n",
        "print('A probabilidade de ser um Data Scientist é: ' + str(round(prob_ser_ds*100,2))+ '%')"
      ],
      "metadata": {
        "colab": {
          "base_uri": "https://localhost:8080/"
        },
        "id": "KPjxpL0fc_x-",
        "outputId": "fa743cce-e95e-4d0f-975a-9c2f18c69f7f"
      },
      "execution_count": null,
      "outputs": [
        {
          "output_type": "stream",
          "name": "stdout",
          "text": [
            "A probabilidade de ser um Data Scientist é: 30.22%\n"
          ]
        }
      ]
    },
    {
      "cell_type": "markdown",
      "source": [
        "2° Análise: Qual a probabilidade de um empregado trabalhar 100% remoto?"
      ],
      "metadata": {
        "id": "FqPyIORhdEHM"
      }
    },
    {
      "cell_type": "code",
      "source": [
        "# 0 (Presencial), 50 (Hibrido) e 100 (100% remoto)\n",
        "remote = 100\n",
        "prob_remote_100 = len(ds[ds['remote_ratio'] == remote]) / len(ds)\n",
        "\n",
        "print(f\"Probabilidade de trabalho {remote}% remoto: {prob_remote_100:.2%}\")"
      ],
      "metadata": {
        "colab": {
          "base_uri": "https://localhost:8080/"
        },
        "id": "Ysa851yZj2Pv",
        "outputId": "3c5c52e8-4b8a-44e7-b42b-2ca9c9b9a499"
      },
      "execution_count": null,
      "outputs": [
        {
          "output_type": "stream",
          "name": "stdout",
          "text": [
            "Probabilidade de trabalho 100% remoto: 36.62%\n"
          ]
        }
      ]
    },
    {
      "cell_type": "markdown",
      "source": [
        "3° Análise: Qual a probabilidade de um empregado trabalhar em Período integral (FT)?"
      ],
      "metadata": {
        "id": "mGPFKi4EdFn1"
      }
    },
    {
      "cell_type": "code",
      "source": [
        "# PT: Meio período FT: Período integral CT: Contrato FL: Freelance\n",
        "chorario = 'FT'\n",
        "prob_chorario = len(ds[ds['employment_type'] == chorario]) / len(ds)\n",
        "\n",
        "print(f\"Probabilidade de trabalho Período integral({chorario}): {prob_chorario:.2%}\")\n"
      ],
      "metadata": {
        "colab": {
          "base_uri": "https://localhost:8080/"
        },
        "id": "unMOz85hXUhL",
        "outputId": "8f2c79d9-90d9-4b5b-aaaa-19957f11e8c5"
      },
      "execution_count": null,
      "outputs": [
        {
          "output_type": "stream",
          "name": "stdout",
          "text": [
            "Probabilidade de trabalho Período integral(FT): 99.68%\n"
          ]
        }
      ]
    },
    {
      "cell_type": "markdown",
      "source": [
        "4° Análise: Qual a probabilidade de um empregado trabalhar numa empresa médio porte?"
      ],
      "metadata": {
        "id": "Xua0Inv2dHHd"
      }
    },
    {
      "cell_type": "code",
      "source": [
        "# S: Menos de 50 funcionários (pequena) M: De 50 a 250 funcionários (média) L: Mais de 250 funcionários (grande)\n",
        "porte = 'M'\n",
        "prob_portEmpresa = len(ds[ds['company_size'] == porte]) / len(ds)\n",
        "\n",
        "print(f\"Probabilidade de trabalho empresa médio porte ({porte}) : {prob_portEmpresa:.2%}\")"
      ],
      "metadata": {
        "colab": {
          "base_uri": "https://localhost:8080/"
        },
        "id": "SVw9glw7YDd-",
        "outputId": "edcaa459-9f1a-4acf-ea4e-905670adb74a"
      },
      "execution_count": null,
      "outputs": [
        {
          "output_type": "stream",
          "name": "stdout",
          "text": [
            "Probabilidade de trabalho empresa médio porte (M) : 85.75%\n"
          ]
        }
      ]
    },
    {
      "cell_type": "markdown",
      "source": [
        "5° Análise: Qual a probabilidade de um empregado receber salario (anual) maior que 134000?"
      ],
      "metadata": {
        "id": "FqKUgI-wdIGG"
      }
    },
    {
      "cell_type": "code",
      "source": [
        "valSal = 134000\n",
        "prob_salMaior = len(ds[ds['salary'] > valSal]) / len(ds)\n",
        "\n",
        "print(f\"Probabilidade do salario ser maior que {valSal}: {prob_salMaior:.2%}\")"
      ],
      "metadata": {
        "colab": {
          "base_uri": "https://localhost:8080/"
        },
        "id": "bMfrySQPaHNl",
        "outputId": "3c4dd388-2103-49f0-98cb-9dec04d323b4"
      },
      "execution_count": null,
      "outputs": [
        {
          "output_type": "stream",
          "name": "stdout",
          "text": [
            "Probabilidade do salario ser maior que 134000: 70.52%\n"
          ]
        }
      ]
    },
    {
      "cell_type": "markdown",
      "source": [
        "# **Probabilidade da União**"
      ],
      "metadata": {
        "id": "OUYrYtrRjCTf"
      }
    },
    {
      "cell_type": "markdown",
      "source": [
        "6° Análise: Qual a probabilidade de um Data Scientist ser sênior ou trabalhar em uma empresa de médio porte?"
      ],
      "metadata": {
        "id": "UMxE0WkajZmU"
      }
    },
    {
      "cell_type": "code",
      "source": [
        "# experience_level -> EN: Inicial / Júnior MI: Médio / Intermediário SE: Sênior / Especialista EX: Executivo / Diretor\n",
        "# company_size -> S: Menos de 50 funcionários (pequena) M: De 50 a 250 funcionários (média) L: Mais de 250 funcionários (grande)\n",
        "ds_senior_ou_empresamedia = len(ds[(ds['experience_level']=='SE') | (ds['company_size']=='M')])\n",
        "prob_ds_senior_ou_empresamedia = ds_senior_ou_empresamedia/pesquisas_ds\n",
        "\n",
        "print('A probabilidade de um Data Scientist ser sênior ou trabalhar em uma empresa de médio porte é: ' + str(round(prob_ds_senior_ou_empresamedia*100,2))+ '%')"
      ],
      "metadata": {
        "colab": {
          "base_uri": "https://localhost:8080/"
        },
        "id": "r0eiY6kAjQeN",
        "outputId": "0470165b-1f5f-4332-ad06-d0e2b673c06c"
      },
      "execution_count": null,
      "outputs": [
        {
          "output_type": "stream",
          "name": "stdout",
          "text": [
            "A probabilidade de um Data Scientist ser sênior ou trabalhar em uma empresa de médio porte é: 94.29%\n"
          ]
        }
      ]
    },
    {
      "cell_type": "markdown",
      "source": [
        "7° Análise: Qual a probabilidade  de ser um Data Scientist ou trabalhar modelo presencial?"
      ],
      "metadata": {
        "id": "Uq1wDNH1nOYd"
      }
    },
    {
      "cell_type": "code",
      "source": [
        "# remote_ratio -> 0 (Presencial), 50 (Hibrido) e 100 (100% remoto)\n",
        "prob_Ds_ou_ModPresencial = len(ds[(ds['job_title'] == 'Data Scientist') | (ds['remote_ratio'] == 0)]) / len(ds)\n",
        "\n",
        "print(f\"Probabilidade de ser um Data Scientist ou trabalhar modelo presencial: {prob_Ds_ou_ModPresencial:.2%}\")"
      ],
      "metadata": {
        "colab": {
          "base_uri": "https://localhost:8080/"
        },
        "id": "cOQbtjz2nck1",
        "outputId": "69374429-20d0-4652-845f-8f5e95a842da"
      },
      "execution_count": null,
      "outputs": [
        {
          "output_type": "stream",
          "name": "stdout",
          "text": [
            "Probabilidade de ser um Data Scientist ou trabalhar modelo presencial: 90.59%\n"
          ]
        }
      ]
    },
    {
      "cell_type": "markdown",
      "source": [
        "8° Análise: Qual a probabilidade um empregado ser junior ou trabalhar período integral?\n",
        "\n"
      ],
      "metadata": {
        "id": "1R_IWrmHnOru"
      }
    },
    {
      "cell_type": "code",
      "source": [
        "# experience_level ->  EN: Inicial / Júnior MI: Médio / Intermediário SE: Sênior / Especialista EX: Executivo / Diretor\n",
        "# employment_type ->  PT: Meio período FT: Período integral CT: Contrato FL: Freelance\n",
        "\n",
        "prob_JR_ou_Integral = len(ds[(ds['experience_level'] == 'EN') | (ds['employment_type'] == 'FT')]) / len(ds)\n",
        "\n",
        "print(f\"Probabilidade um empregado ser junior ou trabalhar período integral: {prob_JR_ou_Integral:.2%}\")"
      ],
      "metadata": {
        "colab": {
          "base_uri": "https://localhost:8080/"
        },
        "id": "uhlq6NOyrAVp",
        "outputId": "62e0a38f-50ef-4c68-88b6-af1042d1f9d5"
      },
      "execution_count": null,
      "outputs": [
        {
          "output_type": "stream",
          "name": "stdout",
          "text": [
            "Probabilidade um empregado ser junior ou trabalhar período integral: 99.86%\n"
          ]
        }
      ]
    },
    {
      "cell_type": "markdown",
      "source": [
        "9° Análise: Qual a probabilidade de um empregado trabalhar numa empresa pequeno porte ou modelo hibrido?"
      ],
      "metadata": {
        "id": "A7CSw8kgnO3W"
      }
    },
    {
      "cell_type": "code",
      "source": [
        "# company_size -> S: Menos de 50 funcionários (pequena) M: De 50 a 250 funcionários (média) L: Mais de 250 funcionários (grande)\n",
        "# remote_ratio -> 0 (Presencial), 50 (Hibrido) e 100 (100% remoto)\n",
        "\n",
        "prob_PeqPort_ou_Hibrido = len(ds[(ds['company_size'] == 'S') | (ds['remote_ratio'] == 50)]) / len(ds)\n",
        "\n",
        "print(f\"Probabilidade de um empregado trabalhar numa empresa pequeno porte ou modelo hibrido: {prob_PeqPort_ou_Hibrido:.2%}\")"
      ],
      "metadata": {
        "colab": {
          "base_uri": "https://localhost:8080/"
        },
        "id": "KUOqePVxsgRz",
        "outputId": "df6cb539-d359-4f61-9b53-c8da5a108c97"
      },
      "execution_count": null,
      "outputs": [
        {
          "output_type": "stream",
          "name": "stdout",
          "text": [
            "Probabilidade de um empregado trabalhar numa empresa pequeno porte ou modelo hibrido: 4.38%\n"
          ]
        }
      ]
    },
    {
      "cell_type": "markdown",
      "source": [
        "10° Análise: Qual a probabilidade ser um Diretor ou trabalhar 100% remoto?"
      ],
      "metadata": {
        "id": "RNUpruQfnPJF"
      }
    },
    {
      "cell_type": "code",
      "source": [
        "# experience_level ->  EN: Inicial / Júnior MI: Médio / Intermediário SE: Sênior / Especialista EX: Executivo / Diretor\n",
        "# remote_ratio -> 0 (Presencial), 50 (Hibrido) e 100 (100% remoto)\n",
        "\n",
        "prob_dir_ou_remoto = len(ds[(ds['experience_level'] == 'EX') | (ds['remote_ratio'] == 100)]) / len(ds)\n",
        "\n",
        "print(f\"Probabilidade ser um Diretor ou trabalhar 100% remoto: {prob_dir_ou_remoto:.2%}\")"
      ],
      "metadata": {
        "colab": {
          "base_uri": "https://localhost:8080/"
        },
        "id": "kgm6yny525Mm",
        "outputId": "c3209056-33b0-44bb-8f92-55bb3fffdfc1"
      },
      "execution_count": null,
      "outputs": [
        {
          "output_type": "stream",
          "name": "stdout",
          "text": [
            "Probabilidade ser um Diretor ou trabalhar 100% remoto: 38.31%\n"
          ]
        }
      ]
    },
    {
      "cell_type": "markdown",
      "source": [
        "# **Probabilidade da Intersecção**\n"
      ],
      "metadata": {
        "id": "RHCw6xfs263z"
      }
    },
    {
      "cell_type": "markdown",
      "source": [
        "11° Análise: Qual é a probabilidade de um Data Scientist ser sênior e trabalhar em uma empresa de médio porte?"
      ],
      "metadata": {
        "id": "cS7dNNPT3AmK"
      }
    },
    {
      "cell_type": "code",
      "source": [
        "ds_senior_e_empresamedia = len(ds[(ds['company_size']=='M') & (ds['experience_level']=='SE')]) #((ds['experience_level']=='EN') | (ds['experience_level']=='MI') | (ds['experience_level']=='EX'))])\n",
        "prob_ds_senior_e_empresamedia = ds_senior_e_empresamedia/pesquisas_ds\n",
        "\n",
        "print('A probabilidade de um Data Scientist trabalhar em uma empresa de médio porte e ser sênior é: ' + str(round(prob_ds_senior_e_empresamedia*100,2))+ '%')"
      ],
      "metadata": {
        "colab": {
          "base_uri": "https://localhost:8080/"
        },
        "id": "FoOpsKol7EVw",
        "outputId": "539e6140-eb5b-4306-cde7-758bc21a93d8"
      },
      "execution_count": null,
      "outputs": [
        {
          "output_type": "stream",
          "name": "stdout",
          "text": [
            "A probabilidade de um Data Scientist trabalhar em uma empresa de médio porte e ser sênior é: 67.22%\n"
          ]
        }
      ]
    },
    {
      "cell_type": "markdown",
      "source": [
        "12° Análise: Qual a probabilidade  de ser um Data Scientist e trabalhar modelo presencial?"
      ],
      "metadata": {
        "id": "gIDxND7L3AyZ"
      }
    },
    {
      "cell_type": "code",
      "source": [
        "# remote_ratio -> 0 (Presencial), 50 (Hibrido) e 100 (100% remoto)\n",
        "prob_Ds_ou_ModPresencial = len(ds[(ds['job_title'] == 'Data Scientist') & (ds['remote_ratio'] == 0)]) / len(ds)\n",
        "\n",
        "print(f\"Probabilidade de ser um Data Scientist e trabalhar modelo presencial: {prob_Ds_ou_ModPresencial:.2%}\")"
      ],
      "metadata": {
        "colab": {
          "base_uri": "https://localhost:8080/"
        },
        "id": "0Nds-t1e7_F7",
        "outputId": "ecf33346-92f6-43f9-e499-a03ab9bacd3b"
      },
      "execution_count": null,
      "outputs": [
        {
          "output_type": "stream",
          "name": "stdout",
          "text": [
            "Probabilidade de ser um Data Scientist e trabalhar modelo presencial: 40.07%\n"
          ]
        }
      ]
    },
    {
      "cell_type": "markdown",
      "source": [
        "13° Análise: Qual a probabilidade um Data Scientist ser junior e trabalhar período integral?\n"
      ],
      "metadata": {
        "id": "e-sB9fgq3BEx"
      }
    },
    {
      "cell_type": "code",
      "source": [
        "\n",
        "# experience_level ->  EN: Inicial / Júnior MI: Médio / Intermediário SE: Sênior / Especialista EX: Executivo / Diretor\n",
        "# employment_type ->  PT: Meio período FT: Período integral CT: Contrato FL: Freelance\n",
        "\n",
        "prob_JR_ou_Integral = len(ds[(ds['experience_level'] == 'EN') & (ds['employment_type'] == 'FT')]) / len(ds)\n",
        "\n",
        "print(f\"Probabilidade um empregado ser junior e trabalhar período integral: {prob_JR_ou_Integral:.2%}\")\n"
      ],
      "metadata": {
        "colab": {
          "base_uri": "https://localhost:8080/"
        },
        "id": "I0fOUPMZ8N3Z",
        "outputId": "6710685f-f86e-433c-96c3-1779302fcf72"
      },
      "execution_count": null,
      "outputs": [
        {
          "output_type": "stream",
          "name": "stdout",
          "text": [
            "Probabilidade um empregado ser junior e trabalhar período integral: 4.67%\n"
          ]
        }
      ]
    },
    {
      "cell_type": "markdown",
      "source": [
        "14° Análise: Qual a probabilidade de um empregado trabalhar numa empresa pequeno porte e modelo hibrido?"
      ],
      "metadata": {
        "id": "xTOQR_T03BQZ"
      }
    },
    {
      "cell_type": "code",
      "source": [
        "# company_size -> S: Menos de 50 funcionários (pequena) M: De 50 a 250 funcionários (média) L: Mais de 250 funcionários (grande)\n",
        "# remote_ratio -> 0 (Presencial), 50 (Hibrido) e 100 (100% remoto)\n",
        "\n",
        "prob_PeqPort_ou_Hibrido = len(ds[(ds['company_size'] == 'S') & (ds['remote_ratio'] == 50)]) / len(ds)\n",
        "\n",
        "print(f\"Probabilidade de um empregado trabalhar numa empresa pequeno porte e modelo hibrido: {prob_PeqPort_ou_Hibrido:.2%}\")\n"
      ],
      "metadata": {
        "colab": {
          "base_uri": "https://localhost:8080/"
        },
        "id": "4EbWEXZu8QTr",
        "outputId": "d165b145-4e4b-4526-d5a1-3c9913833553"
      },
      "execution_count": null,
      "outputs": [
        {
          "output_type": "stream",
          "name": "stdout",
          "text": [
            "Probabilidade de um empregado trabalhar numa empresa pequeno porte e modelo hibrido: 0.50%\n"
          ]
        }
      ]
    },
    {
      "cell_type": "markdown",
      "source": [
        "15° Análise: Qual a probabilidade um Data Scientist ser Diretor e trabalhar 100% remoto?\n"
      ],
      "metadata": {
        "id": "kMMgUOq_3Bj4"
      }
    },
    {
      "cell_type": "code",
      "source": [
        "# experience_level ->  EN: Inicial / Júnior MI: Médio / Intermediário SE: Sênior / Especialista EX: Executivo / Diretor\n",
        "# remote_ratio -> 0 (Presencial), 50 (Hibrido) e 100 (100% remoto)\n",
        "\n",
        "prob_dir_ou_remoto = len(ds[(ds['experience_level'] == 'EX') & (ds['remote_ratio'] == 100)]) / len(ds)\n",
        "\n",
        "print(f\"Probabilidade ser um Diretor e trabalhar 100% remoto: {prob_dir_ou_remoto:.2%}\")"
      ],
      "metadata": {
        "colab": {
          "base_uri": "https://localhost:8080/"
        },
        "id": "KCBV6LH78TjA",
        "outputId": "fcdf55ec-c12b-4458-83da-58909000706f"
      },
      "execution_count": null,
      "outputs": [
        {
          "output_type": "stream",
          "name": "stdout",
          "text": [
            "Probabilidade ser um Diretor e trabalhar 100% remoto: 1.11%\n"
          ]
        }
      ]
    },
    {
      "cell_type": "markdown",
      "source": [
        "# **Probabilidade do Complemento**"
      ],
      "metadata": {
        "id": "cgvxU_W2E4-N"
      }
    },
    {
      "cell_type": "markdown",
      "source": [
        "16° Análise: Qual a probabilidade do Data Scientist ser sênior?"
      ],
      "metadata": {
        "id": "PZXQvEPSZ7rM"
      }
    },
    {
      "cell_type": "code",
      "source": [
        "ds_not_senior = len(ds[(ds['experience_level']!='SE')])\n",
        "\n",
        "prob_ser_senior = 1 - ds_not_senior/len(ds)\n",
        "\n",
        "print('A probabilidade de um Data Scientist ser sênior é: ' + str(round(prob_ser_senior*100,2))+ '%')\n"
      ],
      "metadata": {
        "colab": {
          "base_uri": "https://localhost:8080/"
        },
        "id": "hpZTWcdCE-60",
        "outputId": "df098f95-292f-4ff3-9bbe-f317d9589509"
      },
      "execution_count": null,
      "outputs": [
        {
          "output_type": "stream",
          "name": "stdout",
          "text": [
            "A probabilidade de um Data Scientist ser sênior é: 75.76%\n"
          ]
        }
      ]
    },
    {
      "cell_type": "markdown",
      "source": [
        "17° Análise: Qual a probabilidade de trabalhar em uma empresa de médio porte?"
      ],
      "metadata": {
        "id": "Q02L4uXiFbgY"
      }
    },
    {
      "cell_type": "code",
      "source": [
        "prob_ser_empresamedio = 1 - len(ds[(ds['company_size']!='M')]) /len(ds)\n",
        "\n",
        "print('A probabilidade complemento de trabalhar em uma empresa de médio porte é: ' + str(round(prob_ser_empresamedio * 100, 2)) + '%')\n"
      ],
      "metadata": {
        "colab": {
          "base_uri": "https://localhost:8080/"
        },
        "id": "CxRUlI6FFjOw",
        "outputId": "7f04d2f7-4847-404b-8bfb-246751b45738"
      },
      "execution_count": null,
      "outputs": [
        {
          "output_type": "stream",
          "name": "stdout",
          "text": [
            "A probabilidade complemento de trabalhar em uma empresa de médio porte é: 85.75%\n"
          ]
        }
      ]
    },
    {
      "cell_type": "markdown",
      "source": [
        "18° Análise: Qual a probabilidade de trabalhar modelo presencial?"
      ],
      "metadata": {
        "id": "VKlN4KcHFcFg"
      }
    },
    {
      "cell_type": "code",
      "source": [
        "prob_ser_modpresencial = 1 - len(ds[(ds['remote_ratio']!= 0)]) /len(ds)\n",
        "\n",
        "print(f\"Probabilidade do complemento de trabalhar modelo presencial: {prob_ser_modpresencial:.2%}\")\n"
      ],
      "metadata": {
        "colab": {
          "base_uri": "https://localhost:8080/"
        },
        "id": "UxmJdlCiGcjY",
        "outputId": "63adc297-3e72-4fec-fb17-f2224db654cd"
      },
      "execution_count": null,
      "outputs": [
        {
          "output_type": "stream",
          "name": "stdout",
          "text": [
            "Probabilidade do complemento de trabalhar modelo presencial: 60.22%\n"
          ]
        }
      ]
    },
    {
      "cell_type": "markdown",
      "source": [
        "19° Análise: Qual a probabilidade de trabalhar período integral?"
      ],
      "metadata": {
        "id": "qoUxkAdvFc9f"
      }
    },
    {
      "cell_type": "code",
      "source": [
        "prob_ser_intergral = 1 - len(ds[(ds['employment_type']!= 'FT')]) /len(ds)\n",
        "\n",
        "print(f\"Probabilidade do complemento de probabilidade de trabalhar período integral: {prob_ser_intergral:.2%}\")\n"
      ],
      "metadata": {
        "colab": {
          "base_uri": "https://localhost:8080/"
        },
        "id": "rtf_h07xGeww",
        "outputId": "1bd37a4a-5362-4cd1-831b-4e9ef465ffdb"
      },
      "execution_count": null,
      "outputs": [
        {
          "output_type": "stream",
          "name": "stdout",
          "text": [
            "Probabilidade do complemento de probabilidade de trabalhar período integral: 99.68%\n"
          ]
        }
      ]
    },
    {
      "cell_type": "markdown",
      "source": [
        "20° Análise: Qual a probabilidade de ser diretor?"
      ],
      "metadata": {
        "id": "-ucyl9YWGpNe"
      }
    },
    {
      "cell_type": "code",
      "source": [
        "# Probabilidade do complemento de ser diretor dado que trabalha 100% remoto\n",
        "prob_ser_diretor = 1 - len(ds[(ds['experience_level']!= 'EX')]) /len(ds)\n",
        "\n",
        "print(f\"Probabilidade do complemento de ser diretor: {prob_ser_diretor:.2%}\")\n"
      ],
      "metadata": {
        "colab": {
          "base_uri": "https://localhost:8080/"
        },
        "id": "Qq2NoFN-GlyQ",
        "outputId": "feb6104c-5b56-4fc5-99ea-de3c9c47f715"
      },
      "execution_count": null,
      "outputs": [
        {
          "output_type": "stream",
          "name": "stdout",
          "text": [
            "Probabilidade do complemento de ser diretor: 2.80%\n"
          ]
        }
      ]
    },
    {
      "cell_type": "markdown",
      "source": [
        "# **Probabilidade da Diferença**"
      ],
      "metadata": {
        "id": "tVgkVsykMgwC"
      }
    },
    {
      "cell_type": "markdown",
      "source": [
        "21° Análise: Qual a probabilidade do Data Scientist ser sênior e não trabalhar em uma empresa de médio porte?"
      ],
      "metadata": {
        "id": "fG5sOq8kMgwF"
      }
    },
    {
      "cell_type": "code",
      "source": [
        "pesquisas_empresasmedia = len(ds[(ds['company_size']=='M')])\n",
        "\n",
        "ds_senior_not_empresamedia = ds_senior_ou_empresamedia - pesquisas_empresasmedia\n",
        "\n",
        "prob_ser_senior_not_mediaempresa = ds_senior_not_empresamedia/len(ds)\n",
        "\n",
        "print('A probabilidade de um Data Scientist ser sênior e não trabalhar em uma empresa de médio porte é: ' + str(round(prob_ser_senior_not_mediaempresa*100,2))+ '%')"
      ],
      "metadata": {
        "colab": {
          "base_uri": "https://localhost:8080/"
        },
        "outputId": "2e60c0bb-120f-4273-c49a-b6a72020f016",
        "id": "S7H8MK-bMgwG"
      },
      "execution_count": null,
      "outputs": [
        {
          "output_type": "stream",
          "name": "stdout",
          "text": [
            "A probabilidade de um Data Scientist ser sênior e não trabalhar em uma empresa de médio porte é: 8.55%\n"
          ]
        }
      ]
    },
    {
      "cell_type": "markdown",
      "source": [
        "22° Análise: Qual a probabilidade de ser Data Scientist e não trabalhar modelo presencial?"
      ],
      "metadata": {
        "id": "wvn1tBoPMgwH"
      }
    },
    {
      "cell_type": "code",
      "source": [
        "prob_Ds_not_ModPresencial = len(ds[(ds['job_title'] == 'Data Scientist') & (ds['remote_ratio'] != 0)]) / len(ds)\n",
        "\n",
        "print(f\"Probabilidade do Data Scientist ser e não trabalhar modelo presencial: {prob_Ds_not_ModPresencial:.2%}\")\n"
      ],
      "metadata": {
        "colab": {
          "base_uri": "https://localhost:8080/"
        },
        "outputId": "b8c326a4-b13c-4f90-bfad-56418ac4731c",
        "id": "ukvmGhqIMgwH"
      },
      "execution_count": null,
      "outputs": [
        {
          "output_type": "stream",
          "name": "stdout",
          "text": [
            "Probabilidade do Data Scientist ser e não trabalhar modelo presencial: 30.38%\n"
          ]
        }
      ]
    },
    {
      "cell_type": "markdown",
      "source": [
        "23° Análise: Probabilidade de ser Data Scientist júnior e não trabalhar período integral"
      ],
      "metadata": {
        "id": "XItrPkBWMgwI"
      }
    },
    {
      "cell_type": "code",
      "source": [
        "prob_JR_not_Integral = len(ds[(ds['experience_level'] == 'EN') & (ds['employment_type'] != 'FT')]) / len(ds)\n",
        "\n",
        "print(f\"Probabilidade do Data Scientist ser júnior e não trabalhar período integral: {prob_JR_not_Integral:.2%}\")\n"
      ],
      "metadata": {
        "colab": {
          "base_uri": "https://localhost:8080/"
        },
        "outputId": "7a8e5ebd-0389-4b29-9732-96b0ff12c5e0",
        "id": "Rl1MjZGDMgwJ"
      },
      "execution_count": null,
      "outputs": [
        {
          "output_type": "stream",
          "name": "stdout",
          "text": [
            "Probabilidade do Data Scientist ser júnior e não trabalhar período integral: 0.18%\n"
          ]
        }
      ]
    },
    {
      "cell_type": "markdown",
      "source": [
        "24° Análise: Qual a probabilidade do empregado trabalhar numa empresa pequeno porte e não com modelo híbrido?"
      ],
      "metadata": {
        "id": "FJe88WLwMgwK"
      }
    },
    {
      "cell_type": "code",
      "source": [
        "prob_not_PeqPort_ou_Hibrido = len(ds[(ds['company_size'] == 'S') | (ds['remote_ratio'] != 50)]) / len(ds)\n",
        "\n",
        "print(f\"Probabilidade do empregado não trabalhar numa empresa pequeno porte e modelo híbrido: {prob_not_PeqPort_ou_Hibrido:.2%}\")\n"
      ],
      "metadata": {
        "colab": {
          "base_uri": "https://localhost:8080/"
        },
        "outputId": "d0a0a828-f062-4b11-eee4-8caa43e3c425",
        "id": "gH-XF6iYMgwL"
      },
      "execution_count": null,
      "outputs": [
        {
          "output_type": "stream",
          "name": "stdout",
          "text": [
            "Probabilidade do empregado não trabalhar numa empresa pequeno porte e modelo híbrido: 97.34%\n"
          ]
        }
      ]
    },
    {
      "cell_type": "markdown",
      "source": [
        "25° Análise: Qual a probabilidade de ser Diretor e nao trabalhar 100% remoto ?"
      ],
      "metadata": {
        "id": "isTBLCrGMgwL"
      }
    },
    {
      "cell_type": "code",
      "source": [
        "prob_not_dir_not_remoto = len(ds[(ds['experience_level'] != 'EX') | (ds['remote_ratio'] != 100)]) / len(ds)\n",
        "\n",
        "print(f\"Probabilidade de ser Diretor e nao trabalhar 100% remoto: {prob_not_dir_not_remoto:.2%}\")\n"
      ],
      "metadata": {
        "colab": {
          "base_uri": "https://localhost:8080/"
        },
        "outputId": "08dc60a4-4592-4405-ae43-96ae9667b0bd",
        "id": "8R43USD4MgwL"
      },
      "execution_count": null,
      "outputs": [
        {
          "output_type": "stream",
          "name": "stdout",
          "text": [
            "Probabilidade de ser Diretor e nao trabalhar 100% remoto: 98.89%\n"
          ]
        }
      ]
    },
    {
      "cell_type": "markdown",
      "source": [
        "# **Probabilidade Condicional**"
      ],
      "metadata": {
        "id": "Q2ccXtdGlJQd"
      }
    },
    {
      "cell_type": "markdown",
      "source": [
        "26° Análise: Qual a probabilidade de um empregado trabalhar remotamente 100%, dado que o nível de experiência é sênior?"
      ],
      "metadata": {
        "id": "U_xex7vX-3kk"
      }
    },
    {
      "cell_type": "code",
      "source": [
        "prob_remote_dado_senior = len(salarios[(salarios['remote_ratio'] == 100) & (salarios['experience_level'] == 'SE')]) / len(salarios[salarios['experience_level'] == 'SE'])\n",
        "\n",
        "print(f\"Probabilidade de trabalho remoto 100% dado experiência sênior: {prob_remote_dado_senior:.2%}\")\n"
      ],
      "metadata": {
        "colab": {
          "base_uri": "https://localhost:8080/"
        },
        "id": "_-iEoliEmEUd",
        "outputId": "35347459-27fb-4213-8b99-88ca8cc1a4e5"
      },
      "execution_count": null,
      "outputs": [
        {
          "output_type": "stream",
          "name": "stdout",
          "text": [
            "Probabilidade de trabalho remoto 100% dado experiência sênior: 37.22%\n"
          ]
        }
      ]
    },
    {
      "cell_type": "markdown",
      "source": [
        "27° Análise: Qual a probabilidade de ser sênior dado que trabalha em uma empresa de médio porte?"
      ],
      "metadata": {
        "id": "rMYiTKFXDZvZ"
      }
    },
    {
      "cell_type": "code",
      "source": [
        "prob_ds_senior_dado_empresamedia = len(salarios[(salarios['experience_level'] == 'SE') & (salarios['company_size'] == 'M')]) / len(salarios[salarios['company_size'] == 'M'])\n",
        "\n",
        "print('A probabilidade condicional de um Data Scientist ser sênior dado que trabalha em uma empresa de médio porte é: ' + str(round(prob_ds_senior_dado_empresamedia * 100, 2)) + '%')\n"
      ],
      "metadata": {
        "colab": {
          "base_uri": "https://localhost:8080/"
        },
        "id": "G8ZBePTT_EMa",
        "outputId": "8e98ec72-896f-4c76-a887-051a332a59ac"
      },
      "execution_count": null,
      "outputs": [
        {
          "output_type": "stream",
          "name": "stdout",
          "text": [
            "A probabilidade condicional de um Data Scientist ser sênior dado que trabalha em uma empresa de médio porte é: 73.68%\n"
          ]
        }
      ]
    },
    {
      "cell_type": "markdown",
      "source": [
        "28° Análise: Qual a probabilidade de trabalhar modelo presencial dado que é um Data Scientist?"
      ],
      "metadata": {
        "id": "2Wp3gbiFDacY"
      }
    },
    {
      "cell_type": "code",
      "source": [
        "prob_modpresencial_dado_ds = len(ds[(ds['job_title'] == 'Data Scientist') & (ds['remote_ratio'] == 0)]) / len(ds[ds['job_title'] == 'Data Scientist'])\n",
        "\n",
        "print(f\"Probabilidade condicional de ser um Data Scientist e trabalhar modelo presencial: {prob_modpresencial_dado_ds:.2%}\")\n"
      ],
      "metadata": {
        "colab": {
          "base_uri": "https://localhost:8080/"
        },
        "id": "i_G-S7Gf_FWY",
        "outputId": "5bbc6fd6-5d52-42c6-8473-838d87b9965c"
      },
      "execution_count": null,
      "outputs": [
        {
          "output_type": "stream",
          "name": "stdout",
          "text": [
            "Probabilidade condicional de ser um Data Scientist e trabalhar modelo presencial: 56.88%\n"
          ]
        }
      ]
    },
    {
      "cell_type": "markdown",
      "source": [
        "29° Análise: Qual a probabilidade de ser júnior dado que é um Data Scientist e trabalha período integral?"
      ],
      "metadata": {
        "id": "jPVNxSgQDa7o"
      }
    },
    {
      "cell_type": "code",
      "source": [
        "prob_jr_dado_integral = len(ds[(ds['experience_level'] == 'EN') & (ds['employment_type'] == 'FT')]) / len(ds[(ds['experience_level'] == 'EN') & (ds['employment_type'].isin(['FT', 'PT']))])\n",
        "\n",
        "print(f\"Probabilidade condicional de um empregado ser júnior e trabalhar período integral: {prob_jr_dado_integral:.2%}\")\n"
      ],
      "metadata": {
        "colab": {
          "base_uri": "https://localhost:8080/"
        },
        "id": "F0Hm0mKtBg-O",
        "outputId": "e21b2391-0fb7-4c16-fe3f-6a4280a8592d"
      },
      "execution_count": null,
      "outputs": [
        {
          "output_type": "stream",
          "name": "stdout",
          "text": [
            "Probabilidade condicional de um empregado ser júnior e trabalhar período integral: 96.30%\n"
          ]
        }
      ]
    },
    {
      "cell_type": "markdown",
      "source": [
        "30° Análise: Qual a probabilidade de ser pequeno porte dado que trabalha modelo híbrido?"
      ],
      "metadata": {
        "id": "r5jjTGK_DbWg"
      }
    },
    {
      "cell_type": "code",
      "source": [
        "prob_peqport_dado_hibrido = len(ds[(ds['company_size'] == 'S') & (ds['remote_ratio'] == 50)]) / len(ds[ds['remote_ratio'] == 50])\n",
        "\n",
        "print(f\"Probabilidade condicional de um empregado trabalhar numa empresa de pequeno porte e modelo híbrido: {prob_peqport_dado_hibrido:.2%}\")\n"
      ],
      "metadata": {
        "colab": {
          "base_uri": "https://localhost:8080/"
        },
        "id": "oWfWiQrcDJDL",
        "outputId": "007f1c34-57d2-42a7-bb36-6ec849243645"
      },
      "execution_count": null,
      "outputs": [
        {
          "output_type": "stream",
          "name": "stdout",
          "text": [
            "Probabilidade condicional de um empregado trabalhar numa empresa de pequeno porte e modelo híbrido: 15.91%\n"
          ]
        }
      ]
    },
    {
      "cell_type": "markdown",
      "source": [
        "31° Análise: Qual a probabilidade de ser diretor dado que trabalha 100% remoto?"
      ],
      "metadata": {
        "id": "vAVh4c5uDcnR"
      }
    },
    {
      "cell_type": "code",
      "source": [
        "prob_dir_dado_remoto = len(ds[(ds['job_title'] == 'Data Scientist') & (ds['remote_ratio'] == 100)]) / len(ds[ds['job_title'] == 'Data Scientist'])\n",
        "\n",
        "print(f\"Probabilidade condicional de ser um Data Scientist e trabalhar 100% remoto: {prob_dir_dado_remoto:.2%}\")\n"
      ],
      "metadata": {
        "colab": {
          "base_uri": "https://localhost:8080/"
        },
        "id": "44qccx2iDNBq",
        "outputId": "e30539d8-2c8c-40ae-c6e9-42bc445e71d7"
      },
      "execution_count": null,
      "outputs": [
        {
          "output_type": "stream",
          "name": "stdout",
          "text": [
            "Probabilidade condicional de ser um Data Scientist e trabalhar 100% remoto: 40.62%\n"
          ]
        }
      ]
    },
    {
      "cell_type": "markdown",
      "source": [
        "# **Teorema de Bayes**"
      ],
      "metadata": {
        "id": "xtkX2BmxlO1E"
      }
    },
    {
      "cell_type": "markdown",
      "source": [
        "32° Análise: Qual a probabilidade de ser Senior dado que trabalha 100% remoto?"
      ],
      "metadata": {
        "id": "b7Ky9ZnLZ42-"
      }
    },
    {
      "cell_type": "code",
      "source": [
        "# Probabilidades\n",
        "p_experience_senior = len(salarios[salarios['experience_level'] == 'SE']) / len(salarios)\n",
        "p_remote_given_senior = len(salarios[(salarios['remote_ratio'] == 100) & (salarios['experience_level'] == 'SE')]) / len(salarios[salarios['experience_level'] == 'SE'])\n",
        "\n",
        "# Probabilidade usando o Teorema de Bayes\n",
        "p_senior_given_remote = (p_remote_given_senior * p_experience_senior) / p_remote_given_senior\n",
        "\n",
        "print(f\"Probabilidade de experiência sênior dado trabalho remoto 100%: {p_senior_given_remote:.2%}\")\n"
      ],
      "metadata": {
        "colab": {
          "base_uri": "https://localhost:8080/"
        },
        "id": "FKe9sLJjmVsH",
        "outputId": "a125479a-605a-4f90-da65-36dd6993f757"
      },
      "execution_count": null,
      "outputs": [
        {
          "output_type": "stream",
          "name": "stdout",
          "text": [
            "Probabilidade de experiência sênior dado trabalho remoto 100%: 71.68%\n"
          ]
        }
      ]
    },
    {
      "cell_type": "markdown",
      "source": [
        "33° Análise: Qual a probabilidade de trabalho remoto 100% dado experiência sênior?"
      ],
      "metadata": {
        "id": "DY4zpMR7hCC9"
      }
    },
    {
      "cell_type": "code",
      "source": [
        "prob_remote_dado_senior = len(salarios[(salarios['remote_ratio'] == 100) & (salarios['experience_level'] == 'SE')]) / len(salarios[salarios['experience_level'] == 'SE'])\n",
        "\n",
        "prob_senior_dado_remote = (prob_remote_dado_senior * len(salarios[salarios['experience_level'] == 'SE']) / len(salarios))\n",
        "\n",
        "print(f\"Probabilidade de ser sênior dado trabalho remoto 100%: {prob_senior_dado_remote:.2%}\")\n"
      ],
      "metadata": {
        "colab": {
          "base_uri": "https://localhost:8080/"
        },
        "id": "loURk6zvgZgW",
        "outputId": "70aa2faa-b226-4563-ec14-72c9393c2d3d"
      },
      "execution_count": null,
      "outputs": [
        {
          "output_type": "stream",
          "name": "stdout",
          "text": [
            "Probabilidade de ser sênior dado trabalho remoto 100%: 26.68%\n"
          ]
        }
      ]
    },
    {
      "cell_type": "markdown",
      "source": [
        "34° Análise: Qual a probabilidade de ser sênior dado que trabalha em uma empresa de médio porte?"
      ],
      "metadata": {
        "id": "04a86H3phM6D"
      }
    },
    {
      "cell_type": "code",
      "source": [
        "prob_ds_senior_dado_empresamedia = len(salarios[(salarios['experience_level'] == 'SE') & (salarios['company_size'] == 'M')]) / len(salarios[salarios['company_size'] == 'M'])\n",
        "\n",
        "prob_empresamedia_dado_senior = (prob_ds_senior_dado_empresamedia * len(salarios[salarios['company_size'] == 'M']) / len(salarios))\n",
        "\n",
        "print(f\"Probabilidade de trabalhar em uma empresa de médio porte dado ser sênior: {prob_empresamedia_dado_senior:.2%}\")\n"
      ],
      "metadata": {
        "colab": {
          "base_uri": "https://localhost:8080/"
        },
        "id": "Ab4gnB5-gmjc",
        "outputId": "0a8ad06b-484b-4a8c-8622-65b85b51069a"
      },
      "execution_count": null,
      "outputs": [
        {
          "output_type": "stream",
          "name": "stdout",
          "text": [
            "Probabilidade de trabalhar em uma empresa de médio porte dado ser sênior: 66.05%\n"
          ]
        }
      ]
    },
    {
      "cell_type": "markdown",
      "source": [
        "35° Análise: Qual a probabilidade de trabalhar modelo presencial dado que é um Data Scientist?"
      ],
      "metadata": {
        "id": "WwFMJysIhOLX"
      }
    },
    {
      "cell_type": "code",
      "source": [
        "prob_modpresencial_dado_ds = len(ds[(ds['job_title'] == 'Data Scientist') & (ds['remote_ratio'] == 0)]) / len(ds[ds['job_title'] == 'Data Scientist'])\n",
        "\n",
        "prob_ds_dado_modpresencial = (prob_modpresencial_dado_ds * len(ds[ds['job_title'] == 'Data Scientist']) / len(ds))\n",
        "\n",
        "print(f\"Probabilidade de ser um Data Scientist dado trabalhar modelo presencial: {prob_ds_dado_modpresencial:.2%}\")\n"
      ],
      "metadata": {
        "colab": {
          "base_uri": "https://localhost:8080/"
        },
        "id": "7b8H-S7Ugtep",
        "outputId": "9846663c-36a1-4ac0-de05-225a5ede0c70"
      },
      "execution_count": null,
      "outputs": [
        {
          "output_type": "stream",
          "name": "stdout",
          "text": [
            "Probabilidade de ser um Data Scientist dado trabalhar modelo presencial: 40.07%\n"
          ]
        }
      ]
    },
    {
      "cell_type": "markdown",
      "source": [
        "36° Análise: Qual a probabilidade de ser júnior dado que é um Data Scientist e trabalha período integral?"
      ],
      "metadata": {
        "id": "2k4Hlvi5hPDD"
      }
    },
    {
      "cell_type": "code",
      "source": [
        "prob_jr_dado_integral = len(ds[(ds['experience_level'] == 'EN') & (ds['employment_type'] == 'FT')]) / len(ds[(ds['experience_level'] == 'EN') & (ds['employment_type'].isin(['FT', 'PT']))])\n",
        "\n",
        "prob_ds_dado_jr_integral = (prob_jr_dado_integral * len(ds[(ds['experience_level'] == 'EN') & (ds['employment_type'].isin(['FT', 'PT']))]) / len(ds))\n",
        "\n",
        "print(f\"Probabilidade de ser um Data Scientist dado ser júnior e trabalhar período integral: {prob_ds_dado_jr_integral:.2%}\")\n"
      ],
      "metadata": {
        "colab": {
          "base_uri": "https://localhost:8080/"
        },
        "id": "1cJTmH3cgwuY",
        "outputId": "0f7ebbc9-1a62-4016-95fd-72bc96391cd0"
      },
      "execution_count": null,
      "outputs": [
        {
          "output_type": "stream",
          "name": "stdout",
          "text": [
            "Probabilidade de ser um Data Scientist dado ser júnior e trabalhar período integral: 4.67%\n"
          ]
        }
      ]
    },
    {
      "cell_type": "markdown",
      "source": [
        "37° Análise: Qual a probabilidade de ser pequeno porte dado que trabalha modelo híbrido?"
      ],
      "metadata": {
        "id": "qrGDVH7DhP0L"
      }
    },
    {
      "cell_type": "code",
      "source": [
        "prob_peqport_dado_hibrido = len(ds[(ds['company_size'] == 'S') & (ds['remote_ratio'] == 50)]) / len(ds[ds['remote_ratio'] == 50])\n",
        "\n",
        "prob_hibrido_dado_peqport = (prob_peqport_dado_hibrido * len(ds[ds['remote_ratio'] == 50]) / len(ds))\n",
        "\n",
        "print(f\"Probabilidade de trabalhar modelo híbrido dado ser de pequeno porte: {prob_hibrido_dado_peqport:.2%}\")\n"
      ],
      "metadata": {
        "colab": {
          "base_uri": "https://localhost:8080/"
        },
        "id": "SFn1zBGggyAQ",
        "outputId": "186103f7-ff54-4c91-a3e8-74706b688e05"
      },
      "execution_count": null,
      "outputs": [
        {
          "output_type": "stream",
          "name": "stdout",
          "text": [
            "Probabilidade de trabalhar modelo híbrido dado ser de pequeno porte: 0.50%\n"
          ]
        }
      ]
    },
    {
      "cell_type": "markdown",
      "source": [
        "38° Análise: Qual a probabilidade de ser diretor dado que trabalha 100% remoto?"
      ],
      "metadata": {
        "id": "KAaHskDShQj_"
      }
    },
    {
      "cell_type": "code",
      "source": [
        "prob_dir_dado_remoto = len(ds[(ds['job_title'] == 'Data Scientist') & (ds['remote_ratio'] == 100)]) / len(ds[ds['job_title'] == 'Data Scientist'])\n",
        "\n",
        "prob_remoto_dado_dir = (prob_dir_dado_remoto * len(ds[ds['job_title'] == 'Data Scientist']) / len(ds))\n",
        "\n",
        "print(f\"Probabilidade de ser um Data Scientist dado trabalhar 100% remoto: {prob_remoto_dado_dir:.2%}\")"
      ],
      "metadata": {
        "colab": {
          "base_uri": "https://localhost:8080/"
        },
        "id": "3Hm6rLiHg2pH",
        "outputId": "b3042e8d-b94c-454d-f226-6885351631b5"
      },
      "execution_count": null,
      "outputs": [
        {
          "output_type": "stream",
          "name": "stdout",
          "text": [
            "Probabilidade de ser um Data Scientist dado trabalhar 100% remoto: 28.62%\n"
          ]
        }
      ]
    },
    {
      "cell_type": "markdown",
      "source": [
        "# **Variáveis aleatórias**"
      ],
      "metadata": {
        "id": "7vVrutZOvoPY"
      }
    },
    {
      "cell_type": "code",
      "source": [
        "# Exemplo: Criar uma variável que indica se o salário é acima da média\n",
        "media_salario = salarios['salary'].mean()\n",
        "salarios['above_average_salary'] = salarios['salary'] > media_salario\n",
        "\n",
        "print(salarios['above_average_salary'])\n"
      ],
      "metadata": {
        "colab": {
          "base_uri": "https://localhost:8080/"
        },
        "id": "smJOVWdRmpGi",
        "outputId": "d2d7e882-3b0c-452b-92e7-07c3598032e1"
      },
      "execution_count": null,
      "outputs": [
        {
          "output_type": "stream",
          "name": "stdout",
          "text": [
            "0       False\n",
            "1       False\n",
            "2       False\n",
            "3       False\n",
            "4       False\n",
            "        ...  \n",
            "9212     True\n",
            "9213    False\n",
            "9214    False\n",
            "9215    False\n",
            "9216     True\n",
            "Name: above_average_salary, Length: 9217, dtype: bool\n"
          ]
        }
      ]
    },
    {
      "cell_type": "code",
      "source": [
        "#O valor salary corresponde ao salário recebido a.a. Logo, para encontrar a média, basta dividir esse valor por 12.\n",
        "ds['avg_salarial'] = ds['salary_in_usd']/12\n",
        "\n",
        "#Convertendo o campo avg_salarial para inteiro\n",
        "ds['avg_salarial'] = ds['avg_salarial'].astype(int)\n",
        "\n",
        "ds.head()"
      ],
      "metadata": {
        "colab": {
          "base_uri": "https://localhost:8080/",
          "height": 313
        },
        "id": "Nft1NmgwxkXu",
        "outputId": "04b3b05d-620f-4334-d8b5-917475073afb"
      },
      "execution_count": null,
      "outputs": [
        {
          "output_type": "execute_result",
          "data": {
            "text/plain": [
              "    work_year experience_level employment_type       job_title  salary  \\\n",
              "1        2023               SE              FT  Data Scientist  150200   \n",
              "2        2023               SE              FT  Data Scientist   71000   \n",
              "7        2023               MI              FT  Data Scientist  135000   \n",
              "8        2023               MI              FT  Data Scientist  110000   \n",
              "11       2023               SE              FT  Data Scientist  187415   \n",
              "\n",
              "   salary_currency  salary_in_usd employee_residence  remote_ratio  \\\n",
              "1              USD         150200                 US             0   \n",
              "2              USD          71000                 US             0   \n",
              "7              USD         135000                 US             0   \n",
              "8              USD         110000                 US             0   \n",
              "11             USD         187415                 US             0   \n",
              "\n",
              "   company_location company_size   salary_interval  avg_salarial  \n",
              "1                US            M  (150000, 152000]         12516  \n",
              "2                US            M    (70000, 72000]          5916  \n",
              "7                US            M  (134000, 136000]         11250  \n",
              "8                US            M  (108000, 110000]          9166  \n",
              "11               US            M  (186000, 188000]         15617  "
            ],
            "text/html": [
              "\n",
              "  <div id=\"df-2ef6ac4f-5a22-4db3-bd35-6342ad1a3a9e\" class=\"colab-df-container\">\n",
              "    <div>\n",
              "<style scoped>\n",
              "    .dataframe tbody tr th:only-of-type {\n",
              "        vertical-align: middle;\n",
              "    }\n",
              "\n",
              "    .dataframe tbody tr th {\n",
              "        vertical-align: top;\n",
              "    }\n",
              "\n",
              "    .dataframe thead th {\n",
              "        text-align: right;\n",
              "    }\n",
              "</style>\n",
              "<table border=\"1\" class=\"dataframe\">\n",
              "  <thead>\n",
              "    <tr style=\"text-align: right;\">\n",
              "      <th></th>\n",
              "      <th>work_year</th>\n",
              "      <th>experience_level</th>\n",
              "      <th>employment_type</th>\n",
              "      <th>job_title</th>\n",
              "      <th>salary</th>\n",
              "      <th>salary_currency</th>\n",
              "      <th>salary_in_usd</th>\n",
              "      <th>employee_residence</th>\n",
              "      <th>remote_ratio</th>\n",
              "      <th>company_location</th>\n",
              "      <th>company_size</th>\n",
              "      <th>salary_interval</th>\n",
              "      <th>avg_salarial</th>\n",
              "    </tr>\n",
              "  </thead>\n",
              "  <tbody>\n",
              "    <tr>\n",
              "      <th>1</th>\n",
              "      <td>2023</td>\n",
              "      <td>SE</td>\n",
              "      <td>FT</td>\n",
              "      <td>Data Scientist</td>\n",
              "      <td>150200</td>\n",
              "      <td>USD</td>\n",
              "      <td>150200</td>\n",
              "      <td>US</td>\n",
              "      <td>0</td>\n",
              "      <td>US</td>\n",
              "      <td>M</td>\n",
              "      <td>(150000, 152000]</td>\n",
              "      <td>12516</td>\n",
              "    </tr>\n",
              "    <tr>\n",
              "      <th>2</th>\n",
              "      <td>2023</td>\n",
              "      <td>SE</td>\n",
              "      <td>FT</td>\n",
              "      <td>Data Scientist</td>\n",
              "      <td>71000</td>\n",
              "      <td>USD</td>\n",
              "      <td>71000</td>\n",
              "      <td>US</td>\n",
              "      <td>0</td>\n",
              "      <td>US</td>\n",
              "      <td>M</td>\n",
              "      <td>(70000, 72000]</td>\n",
              "      <td>5916</td>\n",
              "    </tr>\n",
              "    <tr>\n",
              "      <th>7</th>\n",
              "      <td>2023</td>\n",
              "      <td>MI</td>\n",
              "      <td>FT</td>\n",
              "      <td>Data Scientist</td>\n",
              "      <td>135000</td>\n",
              "      <td>USD</td>\n",
              "      <td>135000</td>\n",
              "      <td>US</td>\n",
              "      <td>0</td>\n",
              "      <td>US</td>\n",
              "      <td>M</td>\n",
              "      <td>(134000, 136000]</td>\n",
              "      <td>11250</td>\n",
              "    </tr>\n",
              "    <tr>\n",
              "      <th>8</th>\n",
              "      <td>2023</td>\n",
              "      <td>MI</td>\n",
              "      <td>FT</td>\n",
              "      <td>Data Scientist</td>\n",
              "      <td>110000</td>\n",
              "      <td>USD</td>\n",
              "      <td>110000</td>\n",
              "      <td>US</td>\n",
              "      <td>0</td>\n",
              "      <td>US</td>\n",
              "      <td>M</td>\n",
              "      <td>(108000, 110000]</td>\n",
              "      <td>9166</td>\n",
              "    </tr>\n",
              "    <tr>\n",
              "      <th>11</th>\n",
              "      <td>2023</td>\n",
              "      <td>SE</td>\n",
              "      <td>FT</td>\n",
              "      <td>Data Scientist</td>\n",
              "      <td>187415</td>\n",
              "      <td>USD</td>\n",
              "      <td>187415</td>\n",
              "      <td>US</td>\n",
              "      <td>0</td>\n",
              "      <td>US</td>\n",
              "      <td>M</td>\n",
              "      <td>(186000, 188000]</td>\n",
              "      <td>15617</td>\n",
              "    </tr>\n",
              "  </tbody>\n",
              "</table>\n",
              "</div>\n",
              "    <div class=\"colab-df-buttons\">\n",
              "\n",
              "  <div class=\"colab-df-container\">\n",
              "    <button class=\"colab-df-convert\" onclick=\"convertToInteractive('df-2ef6ac4f-5a22-4db3-bd35-6342ad1a3a9e')\"\n",
              "            title=\"Convert this dataframe to an interactive table.\"\n",
              "            style=\"display:none;\">\n",
              "\n",
              "  <svg xmlns=\"http://www.w3.org/2000/svg\" height=\"24px\" viewBox=\"0 -960 960 960\">\n",
              "    <path d=\"M120-120v-720h720v720H120Zm60-500h600v-160H180v160Zm220 220h160v-160H400v160Zm0 220h160v-160H400v160ZM180-400h160v-160H180v160Zm440 0h160v-160H620v160ZM180-180h160v-160H180v160Zm440 0h160v-160H620v160Z\"/>\n",
              "  </svg>\n",
              "    </button>\n",
              "\n",
              "  <style>\n",
              "    .colab-df-container {\n",
              "      display:flex;\n",
              "      gap: 12px;\n",
              "    }\n",
              "\n",
              "    .colab-df-convert {\n",
              "      background-color: #E8F0FE;\n",
              "      border: none;\n",
              "      border-radius: 50%;\n",
              "      cursor: pointer;\n",
              "      display: none;\n",
              "      fill: #1967D2;\n",
              "      height: 32px;\n",
              "      padding: 0 0 0 0;\n",
              "      width: 32px;\n",
              "    }\n",
              "\n",
              "    .colab-df-convert:hover {\n",
              "      background-color: #E2EBFA;\n",
              "      box-shadow: 0px 1px 2px rgba(60, 64, 67, 0.3), 0px 1px 3px 1px rgba(60, 64, 67, 0.15);\n",
              "      fill: #174EA6;\n",
              "    }\n",
              "\n",
              "    .colab-df-buttons div {\n",
              "      margin-bottom: 4px;\n",
              "    }\n",
              "\n",
              "    [theme=dark] .colab-df-convert {\n",
              "      background-color: #3B4455;\n",
              "      fill: #D2E3FC;\n",
              "    }\n",
              "\n",
              "    [theme=dark] .colab-df-convert:hover {\n",
              "      background-color: #434B5C;\n",
              "      box-shadow: 0px 1px 3px 1px rgba(0, 0, 0, 0.15);\n",
              "      filter: drop-shadow(0px 1px 2px rgba(0, 0, 0, 0.3));\n",
              "      fill: #FFFFFF;\n",
              "    }\n",
              "  </style>\n",
              "\n",
              "    <script>\n",
              "      const buttonEl =\n",
              "        document.querySelector('#df-2ef6ac4f-5a22-4db3-bd35-6342ad1a3a9e button.colab-df-convert');\n",
              "      buttonEl.style.display =\n",
              "        google.colab.kernel.accessAllowed ? 'block' : 'none';\n",
              "\n",
              "      async function convertToInteractive(key) {\n",
              "        const element = document.querySelector('#df-2ef6ac4f-5a22-4db3-bd35-6342ad1a3a9e');\n",
              "        const dataTable =\n",
              "          await google.colab.kernel.invokeFunction('convertToInteractive',\n",
              "                                                    [key], {});\n",
              "        if (!dataTable) return;\n",
              "\n",
              "        const docLinkHtml = 'Like what you see? Visit the ' +\n",
              "          '<a target=\"_blank\" href=https://colab.research.google.com/notebooks/data_table.ipynb>data table notebook</a>'\n",
              "          + ' to learn more about interactive tables.';\n",
              "        element.innerHTML = '';\n",
              "        dataTable['output_type'] = 'display_data';\n",
              "        await google.colab.output.renderOutput(dataTable, element);\n",
              "        const docLink = document.createElement('div');\n",
              "        docLink.innerHTML = docLinkHtml;\n",
              "        element.appendChild(docLink);\n",
              "      }\n",
              "    </script>\n",
              "  </div>\n",
              "\n",
              "\n",
              "<div id=\"df-4291be8b-07e4-4c9a-9f9c-dab24faedd6d\">\n",
              "  <button class=\"colab-df-quickchart\" onclick=\"quickchart('df-4291be8b-07e4-4c9a-9f9c-dab24faedd6d')\"\n",
              "            title=\"Suggest charts\"\n",
              "            style=\"display:none;\">\n",
              "\n",
              "<svg xmlns=\"http://www.w3.org/2000/svg\" height=\"24px\"viewBox=\"0 0 24 24\"\n",
              "     width=\"24px\">\n",
              "    <g>\n",
              "        <path d=\"M19 3H5c-1.1 0-2 .9-2 2v14c0 1.1.9 2 2 2h14c1.1 0 2-.9 2-2V5c0-1.1-.9-2-2-2zM9 17H7v-7h2v7zm4 0h-2V7h2v10zm4 0h-2v-4h2v4z\"/>\n",
              "    </g>\n",
              "</svg>\n",
              "  </button>\n",
              "\n",
              "<style>\n",
              "  .colab-df-quickchart {\n",
              "      --bg-color: #E8F0FE;\n",
              "      --fill-color: #1967D2;\n",
              "      --hover-bg-color: #E2EBFA;\n",
              "      --hover-fill-color: #174EA6;\n",
              "      --disabled-fill-color: #AAA;\n",
              "      --disabled-bg-color: #DDD;\n",
              "  }\n",
              "\n",
              "  [theme=dark] .colab-df-quickchart {\n",
              "      --bg-color: #3B4455;\n",
              "      --fill-color: #D2E3FC;\n",
              "      --hover-bg-color: #434B5C;\n",
              "      --hover-fill-color: #FFFFFF;\n",
              "      --disabled-bg-color: #3B4455;\n",
              "      --disabled-fill-color: #666;\n",
              "  }\n",
              "\n",
              "  .colab-df-quickchart {\n",
              "    background-color: var(--bg-color);\n",
              "    border: none;\n",
              "    border-radius: 50%;\n",
              "    cursor: pointer;\n",
              "    display: none;\n",
              "    fill: var(--fill-color);\n",
              "    height: 32px;\n",
              "    padding: 0;\n",
              "    width: 32px;\n",
              "  }\n",
              "\n",
              "  .colab-df-quickchart:hover {\n",
              "    background-color: var(--hover-bg-color);\n",
              "    box-shadow: 0 1px 2px rgba(60, 64, 67, 0.3), 0 1px 3px 1px rgba(60, 64, 67, 0.15);\n",
              "    fill: var(--button-hover-fill-color);\n",
              "  }\n",
              "\n",
              "  .colab-df-quickchart-complete:disabled,\n",
              "  .colab-df-quickchart-complete:disabled:hover {\n",
              "    background-color: var(--disabled-bg-color);\n",
              "    fill: var(--disabled-fill-color);\n",
              "    box-shadow: none;\n",
              "  }\n",
              "\n",
              "  .colab-df-spinner {\n",
              "    border: 2px solid var(--fill-color);\n",
              "    border-color: transparent;\n",
              "    border-bottom-color: var(--fill-color);\n",
              "    animation:\n",
              "      spin 1s steps(1) infinite;\n",
              "  }\n",
              "\n",
              "  @keyframes spin {\n",
              "    0% {\n",
              "      border-color: transparent;\n",
              "      border-bottom-color: var(--fill-color);\n",
              "      border-left-color: var(--fill-color);\n",
              "    }\n",
              "    20% {\n",
              "      border-color: transparent;\n",
              "      border-left-color: var(--fill-color);\n",
              "      border-top-color: var(--fill-color);\n",
              "    }\n",
              "    30% {\n",
              "      border-color: transparent;\n",
              "      border-left-color: var(--fill-color);\n",
              "      border-top-color: var(--fill-color);\n",
              "      border-right-color: var(--fill-color);\n",
              "    }\n",
              "    40% {\n",
              "      border-color: transparent;\n",
              "      border-right-color: var(--fill-color);\n",
              "      border-top-color: var(--fill-color);\n",
              "    }\n",
              "    60% {\n",
              "      border-color: transparent;\n",
              "      border-right-color: var(--fill-color);\n",
              "    }\n",
              "    80% {\n",
              "      border-color: transparent;\n",
              "      border-right-color: var(--fill-color);\n",
              "      border-bottom-color: var(--fill-color);\n",
              "    }\n",
              "    90% {\n",
              "      border-color: transparent;\n",
              "      border-bottom-color: var(--fill-color);\n",
              "    }\n",
              "  }\n",
              "</style>\n",
              "\n",
              "  <script>\n",
              "    async function quickchart(key) {\n",
              "      const quickchartButtonEl =\n",
              "        document.querySelector('#' + key + ' button');\n",
              "      quickchartButtonEl.disabled = true;  // To prevent multiple clicks.\n",
              "      quickchartButtonEl.classList.add('colab-df-spinner');\n",
              "      try {\n",
              "        const charts = await google.colab.kernel.invokeFunction(\n",
              "            'suggestCharts', [key], {});\n",
              "      } catch (error) {\n",
              "        console.error('Error during call to suggestCharts:', error);\n",
              "      }\n",
              "      quickchartButtonEl.classList.remove('colab-df-spinner');\n",
              "      quickchartButtonEl.classList.add('colab-df-quickchart-complete');\n",
              "    }\n",
              "    (() => {\n",
              "      let quickchartButtonEl =\n",
              "        document.querySelector('#df-4291be8b-07e4-4c9a-9f9c-dab24faedd6d button');\n",
              "      quickchartButtonEl.style.display =\n",
              "        google.colab.kernel.accessAllowed ? 'block' : 'none';\n",
              "    })();\n",
              "  </script>\n",
              "</div>\n",
              "    </div>\n",
              "  </div>\n"
            ]
          },
          "metadata": {},
          "execution_count": 70
        }
      ]
    },
    {
      "cell_type": "code",
      "source": [
        "#Criando uma nova coluna faixa-salarial\n",
        "ds['faixa_salarial'] = 0\n",
        "\n",
        "#Atualizando a faixa salarial baseado na média do salário de cada row\n",
        "for index, row in ds.iterrows():\n",
        "  if row['avg_salarial'] <= 5000:\n",
        "    ds.loc[index,'faixa_salarial'] = '0-5000'\n",
        "  elif row['avg_salarial'] > 5000 and row['avg_salarial'] <= 10000:\n",
        "    ds.loc[index,'faixa_salarial'] = '5000-10000'\n",
        "  elif row['avg_salarial'] > 10000 and row['avg_salarial'] <= 15000:\n",
        "    ds.loc[index,'faixa_salarial'] = '10000-15000'\n",
        "  elif row['avg_salarial'] > 15000 and row['avg_salarial'] <= 20000:\n",
        "    ds.loc[index,'faixa_salarial'] = '15000-20000'\n",
        "  elif row['avg_salarial'] > 2000 and row['avg_salarial'] <= 25000:\n",
        "    ds.loc[index,'faixa_salarial'] = '20000-25000'\n",
        "  elif row['avg_salarial'] > 25000 and row['avg_salarial'] <= 30000:\n",
        "    ds.loc[index,'faixa_salarial'] = '25000-30000'\n",
        "  else:\n",
        "    ds.loc[index,'faixa_salarial'] = '>30000'\n",
        "\n",
        "\n",
        "ds.head()"
      ],
      "metadata": {
        "colab": {
          "base_uri": "https://localhost:8080/",
          "height": 313
        },
        "id": "E3DPk-jMx6u-",
        "outputId": "30ae31b3-7d37-4dc6-aa91-f4649a0ee9e6"
      },
      "execution_count": null,
      "outputs": [
        {
          "output_type": "execute_result",
          "data": {
            "text/plain": [
              "    work_year experience_level employment_type       job_title  salary  \\\n",
              "1        2023               SE              FT  Data Scientist  150200   \n",
              "2        2023               SE              FT  Data Scientist   71000   \n",
              "7        2023               MI              FT  Data Scientist  135000   \n",
              "8        2023               MI              FT  Data Scientist  110000   \n",
              "11       2023               SE              FT  Data Scientist  187415   \n",
              "\n",
              "   salary_currency  salary_in_usd employee_residence  remote_ratio  \\\n",
              "1              USD         150200                 US             0   \n",
              "2              USD          71000                 US             0   \n",
              "7              USD         135000                 US             0   \n",
              "8              USD         110000                 US             0   \n",
              "11             USD         187415                 US             0   \n",
              "\n",
              "   company_location company_size   salary_interval  avg_salarial  \\\n",
              "1                US            M  (150000, 152000]         12516   \n",
              "2                US            M    (70000, 72000]          5916   \n",
              "7                US            M  (134000, 136000]         11250   \n",
              "8                US            M  (108000, 110000]          9166   \n",
              "11               US            M  (186000, 188000]         15617   \n",
              "\n",
              "   faixa_salarial  \n",
              "1     10000-15000  \n",
              "2      5000-10000  \n",
              "7     10000-15000  \n",
              "8      5000-10000  \n",
              "11    15000-20000  "
            ],
            "text/html": [
              "\n",
              "  <div id=\"df-b2484ddf-93ec-4a17-aedf-dd47f752c44e\" class=\"colab-df-container\">\n",
              "    <div>\n",
              "<style scoped>\n",
              "    .dataframe tbody tr th:only-of-type {\n",
              "        vertical-align: middle;\n",
              "    }\n",
              "\n",
              "    .dataframe tbody tr th {\n",
              "        vertical-align: top;\n",
              "    }\n",
              "\n",
              "    .dataframe thead th {\n",
              "        text-align: right;\n",
              "    }\n",
              "</style>\n",
              "<table border=\"1\" class=\"dataframe\">\n",
              "  <thead>\n",
              "    <tr style=\"text-align: right;\">\n",
              "      <th></th>\n",
              "      <th>work_year</th>\n",
              "      <th>experience_level</th>\n",
              "      <th>employment_type</th>\n",
              "      <th>job_title</th>\n",
              "      <th>salary</th>\n",
              "      <th>salary_currency</th>\n",
              "      <th>salary_in_usd</th>\n",
              "      <th>employee_residence</th>\n",
              "      <th>remote_ratio</th>\n",
              "      <th>company_location</th>\n",
              "      <th>company_size</th>\n",
              "      <th>salary_interval</th>\n",
              "      <th>avg_salarial</th>\n",
              "      <th>faixa_salarial</th>\n",
              "    </tr>\n",
              "  </thead>\n",
              "  <tbody>\n",
              "    <tr>\n",
              "      <th>1</th>\n",
              "      <td>2023</td>\n",
              "      <td>SE</td>\n",
              "      <td>FT</td>\n",
              "      <td>Data Scientist</td>\n",
              "      <td>150200</td>\n",
              "      <td>USD</td>\n",
              "      <td>150200</td>\n",
              "      <td>US</td>\n",
              "      <td>0</td>\n",
              "      <td>US</td>\n",
              "      <td>M</td>\n",
              "      <td>(150000, 152000]</td>\n",
              "      <td>12516</td>\n",
              "      <td>10000-15000</td>\n",
              "    </tr>\n",
              "    <tr>\n",
              "      <th>2</th>\n",
              "      <td>2023</td>\n",
              "      <td>SE</td>\n",
              "      <td>FT</td>\n",
              "      <td>Data Scientist</td>\n",
              "      <td>71000</td>\n",
              "      <td>USD</td>\n",
              "      <td>71000</td>\n",
              "      <td>US</td>\n",
              "      <td>0</td>\n",
              "      <td>US</td>\n",
              "      <td>M</td>\n",
              "      <td>(70000, 72000]</td>\n",
              "      <td>5916</td>\n",
              "      <td>5000-10000</td>\n",
              "    </tr>\n",
              "    <tr>\n",
              "      <th>7</th>\n",
              "      <td>2023</td>\n",
              "      <td>MI</td>\n",
              "      <td>FT</td>\n",
              "      <td>Data Scientist</td>\n",
              "      <td>135000</td>\n",
              "      <td>USD</td>\n",
              "      <td>135000</td>\n",
              "      <td>US</td>\n",
              "      <td>0</td>\n",
              "      <td>US</td>\n",
              "      <td>M</td>\n",
              "      <td>(134000, 136000]</td>\n",
              "      <td>11250</td>\n",
              "      <td>10000-15000</td>\n",
              "    </tr>\n",
              "    <tr>\n",
              "      <th>8</th>\n",
              "      <td>2023</td>\n",
              "      <td>MI</td>\n",
              "      <td>FT</td>\n",
              "      <td>Data Scientist</td>\n",
              "      <td>110000</td>\n",
              "      <td>USD</td>\n",
              "      <td>110000</td>\n",
              "      <td>US</td>\n",
              "      <td>0</td>\n",
              "      <td>US</td>\n",
              "      <td>M</td>\n",
              "      <td>(108000, 110000]</td>\n",
              "      <td>9166</td>\n",
              "      <td>5000-10000</td>\n",
              "    </tr>\n",
              "    <tr>\n",
              "      <th>11</th>\n",
              "      <td>2023</td>\n",
              "      <td>SE</td>\n",
              "      <td>FT</td>\n",
              "      <td>Data Scientist</td>\n",
              "      <td>187415</td>\n",
              "      <td>USD</td>\n",
              "      <td>187415</td>\n",
              "      <td>US</td>\n",
              "      <td>0</td>\n",
              "      <td>US</td>\n",
              "      <td>M</td>\n",
              "      <td>(186000, 188000]</td>\n",
              "      <td>15617</td>\n",
              "      <td>15000-20000</td>\n",
              "    </tr>\n",
              "  </tbody>\n",
              "</table>\n",
              "</div>\n",
              "    <div class=\"colab-df-buttons\">\n",
              "\n",
              "  <div class=\"colab-df-container\">\n",
              "    <button class=\"colab-df-convert\" onclick=\"convertToInteractive('df-b2484ddf-93ec-4a17-aedf-dd47f752c44e')\"\n",
              "            title=\"Convert this dataframe to an interactive table.\"\n",
              "            style=\"display:none;\">\n",
              "\n",
              "  <svg xmlns=\"http://www.w3.org/2000/svg\" height=\"24px\" viewBox=\"0 -960 960 960\">\n",
              "    <path d=\"M120-120v-720h720v720H120Zm60-500h600v-160H180v160Zm220 220h160v-160H400v160Zm0 220h160v-160H400v160ZM180-400h160v-160H180v160Zm440 0h160v-160H620v160ZM180-180h160v-160H180v160Zm440 0h160v-160H620v160Z\"/>\n",
              "  </svg>\n",
              "    </button>\n",
              "\n",
              "  <style>\n",
              "    .colab-df-container {\n",
              "      display:flex;\n",
              "      gap: 12px;\n",
              "    }\n",
              "\n",
              "    .colab-df-convert {\n",
              "      background-color: #E8F0FE;\n",
              "      border: none;\n",
              "      border-radius: 50%;\n",
              "      cursor: pointer;\n",
              "      display: none;\n",
              "      fill: #1967D2;\n",
              "      height: 32px;\n",
              "      padding: 0 0 0 0;\n",
              "      width: 32px;\n",
              "    }\n",
              "\n",
              "    .colab-df-convert:hover {\n",
              "      background-color: #E2EBFA;\n",
              "      box-shadow: 0px 1px 2px rgba(60, 64, 67, 0.3), 0px 1px 3px 1px rgba(60, 64, 67, 0.15);\n",
              "      fill: #174EA6;\n",
              "    }\n",
              "\n",
              "    .colab-df-buttons div {\n",
              "      margin-bottom: 4px;\n",
              "    }\n",
              "\n",
              "    [theme=dark] .colab-df-convert {\n",
              "      background-color: #3B4455;\n",
              "      fill: #D2E3FC;\n",
              "    }\n",
              "\n",
              "    [theme=dark] .colab-df-convert:hover {\n",
              "      background-color: #434B5C;\n",
              "      box-shadow: 0px 1px 3px 1px rgba(0, 0, 0, 0.15);\n",
              "      filter: drop-shadow(0px 1px 2px rgba(0, 0, 0, 0.3));\n",
              "      fill: #FFFFFF;\n",
              "    }\n",
              "  </style>\n",
              "\n",
              "    <script>\n",
              "      const buttonEl =\n",
              "        document.querySelector('#df-b2484ddf-93ec-4a17-aedf-dd47f752c44e button.colab-df-convert');\n",
              "      buttonEl.style.display =\n",
              "        google.colab.kernel.accessAllowed ? 'block' : 'none';\n",
              "\n",
              "      async function convertToInteractive(key) {\n",
              "        const element = document.querySelector('#df-b2484ddf-93ec-4a17-aedf-dd47f752c44e');\n",
              "        const dataTable =\n",
              "          await google.colab.kernel.invokeFunction('convertToInteractive',\n",
              "                                                    [key], {});\n",
              "        if (!dataTable) return;\n",
              "\n",
              "        const docLinkHtml = 'Like what you see? Visit the ' +\n",
              "          '<a target=\"_blank\" href=https://colab.research.google.com/notebooks/data_table.ipynb>data table notebook</a>'\n",
              "          + ' to learn more about interactive tables.';\n",
              "        element.innerHTML = '';\n",
              "        dataTable['output_type'] = 'display_data';\n",
              "        await google.colab.output.renderOutput(dataTable, element);\n",
              "        const docLink = document.createElement('div');\n",
              "        docLink.innerHTML = docLinkHtml;\n",
              "        element.appendChild(docLink);\n",
              "      }\n",
              "    </script>\n",
              "  </div>\n",
              "\n",
              "\n",
              "<div id=\"df-b31c6797-4830-47b1-bdc8-c725a8782fed\">\n",
              "  <button class=\"colab-df-quickchart\" onclick=\"quickchart('df-b31c6797-4830-47b1-bdc8-c725a8782fed')\"\n",
              "            title=\"Suggest charts\"\n",
              "            style=\"display:none;\">\n",
              "\n",
              "<svg xmlns=\"http://www.w3.org/2000/svg\" height=\"24px\"viewBox=\"0 0 24 24\"\n",
              "     width=\"24px\">\n",
              "    <g>\n",
              "        <path d=\"M19 3H5c-1.1 0-2 .9-2 2v14c0 1.1.9 2 2 2h14c1.1 0 2-.9 2-2V5c0-1.1-.9-2-2-2zM9 17H7v-7h2v7zm4 0h-2V7h2v10zm4 0h-2v-4h2v4z\"/>\n",
              "    </g>\n",
              "</svg>\n",
              "  </button>\n",
              "\n",
              "<style>\n",
              "  .colab-df-quickchart {\n",
              "      --bg-color: #E8F0FE;\n",
              "      --fill-color: #1967D2;\n",
              "      --hover-bg-color: #E2EBFA;\n",
              "      --hover-fill-color: #174EA6;\n",
              "      --disabled-fill-color: #AAA;\n",
              "      --disabled-bg-color: #DDD;\n",
              "  }\n",
              "\n",
              "  [theme=dark] .colab-df-quickchart {\n",
              "      --bg-color: #3B4455;\n",
              "      --fill-color: #D2E3FC;\n",
              "      --hover-bg-color: #434B5C;\n",
              "      --hover-fill-color: #FFFFFF;\n",
              "      --disabled-bg-color: #3B4455;\n",
              "      --disabled-fill-color: #666;\n",
              "  }\n",
              "\n",
              "  .colab-df-quickchart {\n",
              "    background-color: var(--bg-color);\n",
              "    border: none;\n",
              "    border-radius: 50%;\n",
              "    cursor: pointer;\n",
              "    display: none;\n",
              "    fill: var(--fill-color);\n",
              "    height: 32px;\n",
              "    padding: 0;\n",
              "    width: 32px;\n",
              "  }\n",
              "\n",
              "  .colab-df-quickchart:hover {\n",
              "    background-color: var(--hover-bg-color);\n",
              "    box-shadow: 0 1px 2px rgba(60, 64, 67, 0.3), 0 1px 3px 1px rgba(60, 64, 67, 0.15);\n",
              "    fill: var(--button-hover-fill-color);\n",
              "  }\n",
              "\n",
              "  .colab-df-quickchart-complete:disabled,\n",
              "  .colab-df-quickchart-complete:disabled:hover {\n",
              "    background-color: var(--disabled-bg-color);\n",
              "    fill: var(--disabled-fill-color);\n",
              "    box-shadow: none;\n",
              "  }\n",
              "\n",
              "  .colab-df-spinner {\n",
              "    border: 2px solid var(--fill-color);\n",
              "    border-color: transparent;\n",
              "    border-bottom-color: var(--fill-color);\n",
              "    animation:\n",
              "      spin 1s steps(1) infinite;\n",
              "  }\n",
              "\n",
              "  @keyframes spin {\n",
              "    0% {\n",
              "      border-color: transparent;\n",
              "      border-bottom-color: var(--fill-color);\n",
              "      border-left-color: var(--fill-color);\n",
              "    }\n",
              "    20% {\n",
              "      border-color: transparent;\n",
              "      border-left-color: var(--fill-color);\n",
              "      border-top-color: var(--fill-color);\n",
              "    }\n",
              "    30% {\n",
              "      border-color: transparent;\n",
              "      border-left-color: var(--fill-color);\n",
              "      border-top-color: var(--fill-color);\n",
              "      border-right-color: var(--fill-color);\n",
              "    }\n",
              "    40% {\n",
              "      border-color: transparent;\n",
              "      border-right-color: var(--fill-color);\n",
              "      border-top-color: var(--fill-color);\n",
              "    }\n",
              "    60% {\n",
              "      border-color: transparent;\n",
              "      border-right-color: var(--fill-color);\n",
              "    }\n",
              "    80% {\n",
              "      border-color: transparent;\n",
              "      border-right-color: var(--fill-color);\n",
              "      border-bottom-color: var(--fill-color);\n",
              "    }\n",
              "    90% {\n",
              "      border-color: transparent;\n",
              "      border-bottom-color: var(--fill-color);\n",
              "    }\n",
              "  }\n",
              "</style>\n",
              "\n",
              "  <script>\n",
              "    async function quickchart(key) {\n",
              "      const quickchartButtonEl =\n",
              "        document.querySelector('#' + key + ' button');\n",
              "      quickchartButtonEl.disabled = true;  // To prevent multiple clicks.\n",
              "      quickchartButtonEl.classList.add('colab-df-spinner');\n",
              "      try {\n",
              "        const charts = await google.colab.kernel.invokeFunction(\n",
              "            'suggestCharts', [key], {});\n",
              "      } catch (error) {\n",
              "        console.error('Error during call to suggestCharts:', error);\n",
              "      }\n",
              "      quickchartButtonEl.classList.remove('colab-df-spinner');\n",
              "      quickchartButtonEl.classList.add('colab-df-quickchart-complete');\n",
              "    }\n",
              "    (() => {\n",
              "      let quickchartButtonEl =\n",
              "        document.querySelector('#df-b31c6797-4830-47b1-bdc8-c725a8782fed button');\n",
              "      quickchartButtonEl.style.display =\n",
              "        google.colab.kernel.accessAllowed ? 'block' : 'none';\n",
              "    })();\n",
              "  </script>\n",
              "</div>\n",
              "    </div>\n",
              "  </div>\n"
            ]
          },
          "metadata": {},
          "execution_count": 74
        }
      ]
    },
    {
      "cell_type": "code",
      "source": [
        "#Quantidade geral por faixa\n",
        "ds['faixa_salarial'].value_counts()"
      ],
      "metadata": {
        "colab": {
          "base_uri": "https://localhost:8080/"
        },
        "id": "unHodTI3yL6Y",
        "outputId": "e80b74a2-e07d-4859-bc5c-7670c185118b"
      },
      "execution_count": null,
      "outputs": [
        {
          "output_type": "execute_result",
          "data": {
            "text/plain": [
              "10000-15000    1149\n",
              "15000-20000     719\n",
              "5000-10000      457\n",
              "20000-25000     231\n",
              "0-5000          161\n",
              "25000-30000      53\n",
              ">30000           15\n",
              "Name: faixa_salarial, dtype: int64"
            ]
          },
          "metadata": {},
          "execution_count": 75
        }
      ]
    },
    {
      "cell_type": "markdown",
      "source": [
        "**Função probabilidade**"
      ],
      "metadata": {
        "id": "QcHPzHBI4loA"
      }
    },
    {
      "cell_type": "code",
      "source": [
        "#Calculando a função probabilidade em todos os Data Scientists\n",
        "fp_geral = (ds['faixa_salarial'].value_counts()/len(ds))*100\n",
        "print(fp_geral)"
      ],
      "metadata": {
        "colab": {
          "base_uri": "https://localhost:8080/"
        },
        "id": "qCC49m_SyR1Y",
        "outputId": "df2e6735-004e-402c-d6e1-c8eafc639efe"
      },
      "execution_count": null,
      "outputs": [
        {
          "output_type": "stream",
          "name": "stdout",
          "text": [
            "10000-15000    41.256732\n",
            "15000-20000    25.816876\n",
            "5000-10000     16.409336\n",
            "20000-25000     8.294434\n",
            "0-5000          5.780969\n",
            "25000-30000     1.903052\n",
            ">30000          0.538600\n",
            "Name: faixa_salarial, dtype: float64\n"
          ]
        }
      ]
    },
    {
      "cell_type": "code",
      "source": [
        "#Calculando a função probabilidade apenas nos Data Scientists que possuem experiência como sênior\n",
        "fp_senior = (ds['faixa_salarial'][(ds['experience_level']=='SE')].value_counts()/len(ds[(ds['experience_level']=='SE')]))*100\n",
        "print(fp_senior)"
      ],
      "metadata": {
        "colab": {
          "base_uri": "https://localhost:8080/"
        },
        "id": "F6y42Rn6ykmv",
        "outputId": "b0ff3f7d-4f4b-4a12-e284-3dacd7110098"
      },
      "execution_count": null,
      "outputs": [
        {
          "output_type": "stream",
          "name": "stdout",
          "text": [
            "10000-15000    44.549763\n",
            "15000-20000    29.952607\n",
            "5000-10000     10.710900\n",
            "20000-25000     9.194313\n",
            "0-5000          2.890995\n",
            "25000-30000     2.180095\n",
            ">30000          0.521327\n",
            "Name: faixa_salarial, dtype: float64\n"
          ]
        }
      ]
    },
    {
      "cell_type": "markdown",
      "source": [
        "# **Função de Repartição (Cumulativa)**"
      ],
      "metadata": {
        "id": "nSzsumhLlPIk"
      }
    },
    {
      "cell_type": "code",
      "source": [
        "# Exemplo: CDF da variável 'salary'\n",
        "cdf_salary = salarios['salary'].value_counts(normalize=True).sort_index().cumsum()\n",
        "\n",
        "print(cdf_salary)\n"
      ],
      "metadata": {
        "colab": {
          "base_uri": "https://localhost:8080/"
        },
        "id": "i-mYIL1Jm5gn",
        "outputId": "9497f00f-2064-4e45-e0ff-691e4429fddb"
      },
      "execution_count": null,
      "outputs": [
        {
          "output_type": "stream",
          "name": "stdout",
          "text": [
            "14000       0.000108\n",
            "15000       0.000542\n",
            "15662       0.000651\n",
            "16000       0.000759\n",
            "17000       0.000868\n",
            "              ...   \n",
            "7000000     0.999458\n",
            "7500000     0.999566\n",
            "8500000     0.999675\n",
            "11000000    0.999892\n",
            "30400000    1.000000\n",
            "Name: salary, Length: 1538, dtype: float64\n"
          ]
        }
      ]
    },
    {
      "cell_type": "code",
      "source": [
        "#Acumulado geral\n",
        "print(fp_geral.cumsum)"
      ],
      "metadata": {
        "colab": {
          "base_uri": "https://localhost:8080/"
        },
        "id": "om1dZByKzflv",
        "outputId": "34ecbcbd-5d15-4e7d-bc2e-a686b6eb704f"
      },
      "execution_count": null,
      "outputs": [
        {
          "output_type": "stream",
          "name": "stdout",
          "text": [
            "<bound method NDFrame._add_numeric_operations.<locals>.cumsum of 10000-15000    41.256732\n",
            "15000-20000    25.816876\n",
            "5000-10000     16.409336\n",
            "20000-25000     8.294434\n",
            "0-5000          5.780969\n",
            "25000-30000     1.903052\n",
            ">30000          0.538600\n",
            "Name: faixa_salarial, dtype: float64>\n"
          ]
        }
      ]
    },
    {
      "cell_type": "code",
      "source": [
        "#Acumulado apenas dos sêniors\n",
        "print(fp_senior.cumsum)"
      ],
      "metadata": {
        "colab": {
          "base_uri": "https://localhost:8080/"
        },
        "id": "qJ-gtuwVz3nt",
        "outputId": "c60ccb9f-7891-455a-bc16-179384aa207e"
      },
      "execution_count": null,
      "outputs": [
        {
          "output_type": "stream",
          "name": "stdout",
          "text": [
            "<bound method NDFrame._add_numeric_operations.<locals>.cumsum of 10000-15000    44.549763\n",
            "15000-20000    29.952607\n",
            "5000-10000     10.710900\n",
            "20000-25000     9.194313\n",
            "0-5000          2.890995\n",
            "25000-30000     2.180095\n",
            ">30000          0.521327\n",
            "Name: faixa_salarial, dtype: float64>\n"
          ]
        }
      ]
    },
    {
      "cell_type": "markdown",
      "source": [
        "# **Estatística Descritiva**"
      ],
      "metadata": {
        "id": "8VMeap5Lld5i"
      }
    },
    {
      "cell_type": "code",
      "source": [
        "import seaborn as sns\n",
        "import matplotlib.pyplot as plt"
      ],
      "metadata": {
        "id": "O3Zs2t4unDqP"
      },
      "execution_count": null,
      "outputs": []
    },
    {
      "cell_type": "code",
      "source": [
        "plt.figure(figsize=(12,6))\n",
        "plt.title('Probabilidade Salarial')\n",
        "plt.ylabel('% de probabilidade')\n",
        "plt.xlabel('Faixa salarial')\n",
        "plt.plot(fp_geral, marker='o', alpha=0.5, color='gray', label='Todos')\n",
        "plt.plot(fp_senior, marker='o',color='y', label='Sêniors')\n",
        "plt.legend(title='Data Scientists')"
      ],
      "metadata": {
        "colab": {
          "base_uri": "https://localhost:8080/",
          "height": 582
        },
        "id": "sSWVJWxD0k-j",
        "outputId": "a6c720a7-448f-411d-8b54-4ce3ffcc8085"
      },
      "execution_count": null,
      "outputs": [
        {
          "output_type": "execute_result",
          "data": {
            "text/plain": [
              "<matplotlib.legend.Legend at 0x7dca98e6a2f0>"
            ]
          },
          "metadata": {},
          "execution_count": 88
        },
        {
          "output_type": "display_data",
          "data": {
            "text/plain": [
              "<Figure size 1200x600 with 1 Axes>"
            ],
            "image/png": "[encoded data removed]"
          },
          "metadata": {}
        }
      ]
    },
    {
      "cell_type": "code",
      "source": [
        "acumulado_geral=fp_geral.cumsum()\n",
        "acumulado_senior=fp_senior.cumsum()"
      ],
      "metadata": {
        "id": "kUMfOdIk0nDO"
      },
      "execution_count": null,
      "outputs": []
    },
    {
      "cell_type": "code",
      "source": [
        "plt.figure(figsize=(12,6))\n",
        "plt.xlabel('Média salarial')\n",
        "plt.ylabel('% de probabilidade Acumulada')\n",
        "plt.title('Probabilidade Salarial Acumulada')\n",
        "plt.plot(acumulado_geral, marker='o',alpha=0.5, color='gray', label='Todos')\n",
        "plt.plot(acumulado_senior, marker='o',color='y', label='Sêniors')\n",
        "plt.legend(title='Data Scientists')"
      ],
      "metadata": {
        "colab": {
          "base_uri": "https://localhost:8080/",
          "height": 582
        },
        "id": "FCCtx5P60sml",
        "outputId": "1ce440b6-efee-43c3-99e1-b7a7e8b68b0e"
      },
      "execution_count": null,
      "outputs": [
        {
          "output_type": "execute_result",
          "data": {
            "text/plain": [
              "<matplotlib.legend.Legend at 0x7dca97b95960>"
            ]
          },
          "metadata": {},
          "execution_count": 90
        },
        {
          "output_type": "display_data",
          "data": {
            "text/plain": [
              "<Figure size 1200x600 with 1 Axes>"
            ],
            "image/png": "[encoded data removed]"
          },
          "metadata": {}
        }
      ]
    },
    {
      "cell_type": "markdown",
      "source": [
        "# **Covariância**"
      ],
      "metadata": {
        "id": "_SRnQXTf1ngP"
      }
    },
    {
      "cell_type": "code",
      "source": [
        "#Para avaliar a covariância e a correlação entre os níveis de experiência, tamanho de empresa, faixa salarial, vamos transforma-los em números\n",
        "\n",
        "#Criando uma nova coluna para transformar a experiência em valor numérico\n",
        "ds['de_para_xp'] = 0\n",
        "\n",
        "for index, row in ds.iterrows():\n",
        "  if row['experience_level'] == 'EN':\n",
        "    ds.loc[index,'de_para_xp'] = 0\n",
        "  elif row['experience_level'] == 'MI':\n",
        "    ds.loc[index,'de_para_xp'] = 1\n",
        "  elif row['experience_level'] == 'SE':\n",
        "    ds.loc[index,'de_para_xp'] = 2\n",
        "  else:\n",
        "    ds.loc[index,'de_para_xp'] = 3\n",
        "\n",
        "\n",
        "#Criando uma nova coluna para transformar a o tamanho da empresa em valor numérico\n",
        "ds['de_para_emp'] = 0\n",
        "\n",
        "for index, row in ds.iterrows():\n",
        "  if row['company_size'] == 'S':\n",
        "    ds.loc[index,'de_para_emp'] = 0\n",
        "  elif row['company_size'] == 'M':\n",
        "    ds.loc[index,'de_para_emp'] = 1\n",
        "  else:\n",
        "    ds.loc[index,'de_para_emp'] = 2\n",
        "\n",
        "#Criando uma nova coluna para transformar a o employment_type em valor numérico\n",
        "ds['de_para_employment'] = 0\n",
        "\n",
        "for index, row in ds.iterrows():\n",
        "  if row['employment_type'] == 'PT':\n",
        "    ds.loc[index,'de_para_employment'] = 0\n",
        "  elif row['employment_type'] == 'FT':\n",
        "    ds.loc[index,'de_para_employment'] = 1\n",
        "  elif row['employment_type'] == 'CT':\n",
        "    ds.loc[index,'de_para_employment'] = 2\n",
        "  else:\n",
        "    ds.loc[index,'de_para_employment'] = 3\n",
        "\n",
        "#Criando uma nova coluna para transformar a a faixa salarial em valor numérico\n",
        "ds['de_para_faixasalarial'] = 0\n",
        "\n",
        "for index, row in ds.iterrows():\n",
        "  if row['faixa_salarial'] == '0-5000':\n",
        "    ds.loc[index,'de_para_faixasalarial'] = 0\n",
        "  elif row['faixa_salarial'] == '5000-10000':\n",
        "    ds.loc[index,'de_para_faixasalarial'] = 1\n",
        "  elif row['faixa_salarial'] == '10000-15000':\n",
        "    ds.loc[index,'de_para_faixasalarial'] = 2\n",
        "  elif row['faixa_salarial'] == '15000-20000':\n",
        "    ds.loc[index,'de_para_faixasalarial'] = 3\n",
        "  elif row['faixa_salarial'] == '20000-25000':\n",
        "    ds.loc[index,'de_para_faixasalarial'] = 4\n",
        "  elif row['faixa_salarial'] == '25000-30000':\n",
        "    ds.loc[index,'de_para_faixasalarial'] = 5\n",
        "  else:\n",
        "    ds.loc[index,'de_para_faixasalarial'] = 6"
      ],
      "metadata": {
        "id": "C-IFt33s1fd2"
      },
      "execution_count": null,
      "outputs": []
    },
    {
      "cell_type": "code",
      "source": [
        "ds.head()"
      ],
      "metadata": {
        "colab": {
          "base_uri": "https://localhost:8080/",
          "height": 313
        },
        "id": "19aurVzM15El",
        "outputId": "c246b55f-cc52-41db-c75c-dc6a0114bc7a"
      },
      "execution_count": null,
      "outputs": [
        {
          "output_type": "execute_result",
          "data": {
            "text/plain": [
              "    work_year experience_level employment_type       job_title  salary  \\\n",
              "1        2023               SE              FT  Data Scientist  150200   \n",
              "2        2023               SE              FT  Data Scientist   71000   \n",
              "7        2023               MI              FT  Data Scientist  135000   \n",
              "8        2023               MI              FT  Data Scientist  110000   \n",
              "11       2023               SE              FT  Data Scientist  187415   \n",
              "\n",
              "   salary_currency  salary_in_usd employee_residence  remote_ratio  \\\n",
              "1              USD         150200                 US             0   \n",
              "2              USD          71000                 US             0   \n",
              "7              USD         135000                 US             0   \n",
              "8              USD         110000                 US             0   \n",
              "11             USD         187415                 US             0   \n",
              "\n",
              "   company_location company_size   salary_interval  avg_salarial  \\\n",
              "1                US            M  (150000, 152000]         12516   \n",
              "2                US            M    (70000, 72000]          5916   \n",
              "7                US            M  (134000, 136000]         11250   \n",
              "8                US            M  (108000, 110000]          9166   \n",
              "11               US            M  (186000, 188000]         15617   \n",
              "\n",
              "   faixa_salarial  de_para_xp  de_para_emp  de_para_employment  \\\n",
              "1     10000-15000           2            1                   1   \n",
              "2      5000-10000           2            1                   1   \n",
              "7     10000-15000           1            1                   1   \n",
              "8      5000-10000           1            1                   1   \n",
              "11    15000-20000           2            1                   1   \n",
              "\n",
              "    de_para_faixasalarial  \n",
              "1                       2  \n",
              "2                       1  \n",
              "7                       2  \n",
              "8                       1  \n",
              "11                      3  "
            ],
            "text/html": [
              "\n",
              "  <div id=\"df-8c4ed329-bcc0-4d02-b995-12a752a243cf\" class=\"colab-df-container\">\n",
              "    <div>\n",
              "<style scoped>\n",
              "    .dataframe tbody tr th:only-of-type {\n",
              "        vertical-align: middle;\n",
              "    }\n",
              "\n",
              "    .dataframe tbody tr th {\n",
              "        vertical-align: top;\n",
              "    }\n",
              "\n",
              "    .dataframe thead th {\n",
              "        text-align: right;\n",
              "    }\n",
              "</style>\n",
              "<table border=\"1\" class=\"dataframe\">\n",
              "  <thead>\n",
              "    <tr style=\"text-align: right;\">\n",
              "      <th></th>\n",
              "      <th>work_year</th>\n",
              "      <th>experience_level</th>\n",
              "      <th>employment_type</th>\n",
              "      <th>job_title</th>\n",
              "      <th>salary</th>\n",
              "      <th>salary_currency</th>\n",
              "      <th>salary_in_usd</th>\n",
              "      <th>employee_residence</th>\n",
              "      <th>remote_ratio</th>\n",
              "      <th>company_location</th>\n",
              "      <th>company_size</th>\n",
              "      <th>salary_interval</th>\n",
              "      <th>avg_salarial</th>\n",
              "      <th>faixa_salarial</th>\n",
              "      <th>de_para_xp</th>\n",
              "      <th>de_para_emp</th>\n",
              "      <th>de_para_employment</th>\n",
              "      <th>de_para_faixasalarial</th>\n",
              "    </tr>\n",
              "  </thead>\n",
              "  <tbody>\n",
              "    <tr>\n",
              "      <th>1</th>\n",
              "      <td>2023</td>\n",
              "      <td>SE</td>\n",
              "      <td>FT</td>\n",
              "      <td>Data Scientist</td>\n",
              "      <td>150200</td>\n",
              "      <td>USD</td>\n",
              "      <td>150200</td>\n",
              "      <td>US</td>\n",
              "      <td>0</td>\n",
              "      <td>US</td>\n",
              "      <td>M</td>\n",
              "      <td>(150000, 152000]</td>\n",
              "      <td>12516</td>\n",
              "      <td>10000-15000</td>\n",
              "      <td>2</td>\n",
              "      <td>1</td>\n",
              "      <td>1</td>\n",
              "      <td>2</td>\n",
              "    </tr>\n",
              "    <tr>\n",
              "      <th>2</th>\n",
              "      <td>2023</td>\n",
              "      <td>SE</td>\n",
              "      <td>FT</td>\n",
              "      <td>Data Scientist</td>\n",
              "      <td>71000</td>\n",
              "      <td>USD</td>\n",
              "      <td>71000</td>\n",
              "      <td>US</td>\n",
              "      <td>0</td>\n",
              "      <td>US</td>\n",
              "      <td>M</td>\n",
              "      <td>(70000, 72000]</td>\n",
              "      <td>5916</td>\n",
              "      <td>5000-10000</td>\n",
              "      <td>2</td>\n",
              "      <td>1</td>\n",
              "      <td>1</td>\n",
              "      <td>1</td>\n",
              "    </tr>\n",
              "    <tr>\n",
              "      <th>7</th>\n",
              "      <td>2023</td>\n",
              "      <td>MI</td>\n",
              "      <td>FT</td>\n",
              "      <td>Data Scientist</td>\n",
              "      <td>135000</td>\n",
              "      <td>USD</td>\n",
              "      <td>135000</td>\n",
              "      <td>US</td>\n",
              "      <td>0</td>\n",
              "      <td>US</td>\n",
              "      <td>M</td>\n",
              "      <td>(134000, 136000]</td>\n",
              "      <td>11250</td>\n",
              "      <td>10000-15000</td>\n",
              "      <td>1</td>\n",
              "      <td>1</td>\n",
              "      <td>1</td>\n",
              "      <td>2</td>\n",
              "    </tr>\n",
              "    <tr>\n",
              "      <th>8</th>\n",
              "      <td>2023</td>\n",
              "      <td>MI</td>\n",
              "      <td>FT</td>\n",
              "      <td>Data Scientist</td>\n",
              "      <td>110000</td>\n",
              "      <td>USD</td>\n",
              "      <td>110000</td>\n",
              "      <td>US</td>\n",
              "      <td>0</td>\n",
              "      <td>US</td>\n",
              "      <td>M</td>\n",
              "      <td>(108000, 110000]</td>\n",
              "      <td>9166</td>\n",
              "      <td>5000-10000</td>\n",
              "      <td>1</td>\n",
              "      <td>1</td>\n",
              "      <td>1</td>\n",
              "      <td>1</td>\n",
              "    </tr>\n",
              "    <tr>\n",
              "      <th>11</th>\n",
              "      <td>2023</td>\n",
              "      <td>SE</td>\n",
              "      <td>FT</td>\n",
              "      <td>Data Scientist</td>\n",
              "      <td>187415</td>\n",
              "      <td>USD</td>\n",
              "      <td>187415</td>\n",
              "      <td>US</td>\n",
              "      <td>0</td>\n",
              "      <td>US</td>\n",
              "      <td>M</td>\n",
              "      <td>(186000, 188000]</td>\n",
              "      <td>15617</td>\n",
              "      <td>15000-20000</td>\n",
              "      <td>2</td>\n",
              "      <td>1</td>\n",
              "      <td>1</td>\n",
              "      <td>3</td>\n",
              "    </tr>\n",
              "  </tbody>\n",
              "</table>\n",
              "</div>\n",
              "    <div class=\"colab-df-buttons\">\n",
              "\n",
              "  <div class=\"colab-df-container\">\n",
              "    <button class=\"colab-df-convert\" onclick=\"convertToInteractive('df-8c4ed329-bcc0-4d02-b995-12a752a243cf')\"\n",
              "            title=\"Convert this dataframe to an interactive table.\"\n",
              "            style=\"display:none;\">\n",
              "\n",
              "  <svg xmlns=\"http://www.w3.org/2000/svg\" height=\"24px\" viewBox=\"0 -960 960 960\">\n",
              "    <path d=\"M120-120v-720h720v720H120Zm60-500h600v-160H180v160Zm220 220h160v-160H400v160Zm0 220h160v-160H400v160ZM180-400h160v-160H180v160Zm440 0h160v-160H620v160ZM180-180h160v-160H180v160Zm440 0h160v-160H620v160Z\"/>\n",
              "  </svg>\n",
              "    </button>\n",
              "\n",
              "  <style>\n",
              "    .colab-df-container {\n",
              "      display:flex;\n",
              "      gap: 12px;\n",
              "    }\n",
              "\n",
              "    .colab-df-convert {\n",
              "      background-color: #E8F0FE;\n",
              "      border: none;\n",
              "      border-radius: 50%;\n",
              "      cursor: pointer;\n",
              "      display: none;\n",
              "      fill: #1967D2;\n",
              "      height: 32px;\n",
              "      padding: 0 0 0 0;\n",
              "      width: 32px;\n",
              "    }\n",
              "\n",
              "    .colab-df-convert:hover {\n",
              "      background-color: #E2EBFA;\n",
              "      box-shadow: 0px 1px 2px rgba(60, 64, 67, 0.3), 0px 1px 3px 1px rgba(60, 64, 67, 0.15);\n",
              "      fill: #174EA6;\n",
              "    }\n",
              "\n",
              "    .colab-df-buttons div {\n",
              "      margin-bottom: 4px;\n",
              "    }\n",
              "\n",
              "    [theme=dark] .colab-df-convert {\n",
              "      background-color: #3B4455;\n",
              "      fill: #D2E3FC;\n",
              "    }\n",
              "\n",
              "    [theme=dark] .colab-df-convert:hover {\n",
              "      background-color: #434B5C;\n",
              "      box-shadow: 0px 1px 3px 1px rgba(0, 0, 0, 0.15);\n",
              "      filter: drop-shadow(0px 1px 2px rgba(0, 0, 0, 0.3));\n",
              "      fill: #FFFFFF;\n",
              "    }\n",
              "  </style>\n",
              "\n",
              "    <script>\n",
              "      const buttonEl =\n",
              "        document.querySelector('#df-8c4ed329-bcc0-4d02-b995-12a752a243cf button.colab-df-convert');\n",
              "      buttonEl.style.display =\n",
              "        google.colab.kernel.accessAllowed ? 'block' : 'none';\n",
              "\n",
              "      async function convertToInteractive(key) {\n",
              "        const element = document.querySelector('#df-8c4ed329-bcc0-4d02-b995-12a752a243cf');\n",
              "        const dataTable =\n",
              "          await google.colab.kernel.invokeFunction('convertToInteractive',\n",
              "                                                    [key], {});\n",
              "        if (!dataTable) return;\n",
              "\n",
              "        const docLinkHtml = 'Like what you see? Visit the ' +\n",
              "          '<a target=\"_blank\" href=https://colab.research.google.com/notebooks/data_table.ipynb>data table notebook</a>'\n",
              "          + ' to learn more about interactive tables.';\n",
              "        element.innerHTML = '';\n",
              "        dataTable['output_type'] = 'display_data';\n",
              "        await google.colab.output.renderOutput(dataTable, element);\n",
              "        const docLink = document.createElement('div');\n",
              "        docLink.innerHTML = docLinkHtml;\n",
              "        element.appendChild(docLink);\n",
              "      }\n",
              "    </script>\n",
              "  </div>\n",
              "\n",
              "\n",
              "<div id=\"df-46d40f27-3e39-4c01-8c29-b96274aa57db\">\n",
              "  <button class=\"colab-df-quickchart\" onclick=\"quickchart('df-46d40f27-3e39-4c01-8c29-b96274aa57db')\"\n",
              "            title=\"Suggest charts\"\n",
              "            style=\"display:none;\">\n",
              "\n",
              "<svg xmlns=\"http://www.w3.org/2000/svg\" height=\"24px\"viewBox=\"0 0 24 24\"\n",
              "     width=\"24px\">\n",
              "    <g>\n",
              "        <path d=\"M19 3H5c-1.1 0-2 .9-2 2v14c0 1.1.9 2 2 2h14c1.1 0 2-.9 2-2V5c0-1.1-.9-2-2-2zM9 17H7v-7h2v7zm4 0h-2V7h2v10zm4 0h-2v-4h2v4z\"/>\n",
              "    </g>\n",
              "</svg>\n",
              "  </button>\n",
              "\n",
              "<style>\n",
              "  .colab-df-quickchart {\n",
              "      --bg-color: #E8F0FE;\n",
              "      --fill-color: #1967D2;\n",
              "      --hover-bg-color: #E2EBFA;\n",
              "      --hover-fill-color: #174EA6;\n",
              "      --disabled-fill-color: #AAA;\n",
              "      --disabled-bg-color: #DDD;\n",
              "  }\n",
              "\n",
              "  [theme=dark] .colab-df-quickchart {\n",
              "      --bg-color: #3B4455;\n",
              "      --fill-color: #D2E3FC;\n",
              "      --hover-bg-color: #434B5C;\n",
              "      --hover-fill-color: #FFFFFF;\n",
              "      --disabled-bg-color: #3B4455;\n",
              "      --disabled-fill-color: #666;\n",
              "  }\n",
              "\n",
              "  .colab-df-quickchart {\n",
              "    background-color: var(--bg-color);\n",
              "    border: none;\n",
              "    border-radius: 50%;\n",
              "    cursor: pointer;\n",
              "    display: none;\n",
              "    fill: var(--fill-color);\n",
              "    height: 32px;\n",
              "    padding: 0;\n",
              "    width: 32px;\n",
              "  }\n",
              "\n",
              "  .colab-df-quickchart:hover {\n",
              "    background-color: var(--hover-bg-color);\n",
              "    box-shadow: 0 1px 2px rgba(60, 64, 67, 0.3), 0 1px 3px 1px rgba(60, 64, 67, 0.15);\n",
              "    fill: var(--button-hover-fill-color);\n",
              "  }\n",
              "\n",
              "  .colab-df-quickchart-complete:disabled,\n",
              "  .colab-df-quickchart-complete:disabled:hover {\n",
              "    background-color: var(--disabled-bg-color);\n",
              "    fill: var(--disabled-fill-color);\n",
              "    box-shadow: none;\n",
              "  }\n",
              "\n",
              "  .colab-df-spinner {\n",
              "    border: 2px solid var(--fill-color);\n",
              "    border-color: transparent;\n",
              "    border-bottom-color: var(--fill-color);\n",
              "    animation:\n",
              "      spin 1s steps(1) infinite;\n",
              "  }\n",
              "\n",
              "  @keyframes spin {\n",
              "    0% {\n",
              "      border-color: transparent;\n",
              "      border-bottom-color: var(--fill-color);\n",
              "      border-left-color: var(--fill-color);\n",
              "    }\n",
              "    20% {\n",
              "      border-color: transparent;\n",
              "      border-left-color: var(--fill-color);\n",
              "      border-top-color: var(--fill-color);\n",
              "    }\n",
              "    30% {\n",
              "      border-color: transparent;\n",
              "      border-left-color: var(--fill-color);\n",
              "      border-top-color: var(--fill-color);\n",
              "      border-right-color: var(--fill-color);\n",
              "    }\n",
              "    40% {\n",
              "      border-color: transparent;\n",
              "      border-right-color: var(--fill-color);\n",
              "      border-top-color: var(--fill-color);\n",
              "    }\n",
              "    60% {\n",
              "      border-color: transparent;\n",
              "      border-right-color: var(--fill-color);\n",
              "    }\n",
              "    80% {\n",
              "      border-color: transparent;\n",
              "      border-right-color: var(--fill-color);\n",
              "      border-bottom-color: var(--fill-color);\n",
              "    }\n",
              "    90% {\n",
              "      border-color: transparent;\n",
              "      border-bottom-color: var(--fill-color);\n",
              "    }\n",
              "  }\n",
              "</style>\n",
              "\n",
              "  <script>\n",
              "    async function quickchart(key) {\n",
              "      const quickchartButtonEl =\n",
              "        document.querySelector('#' + key + ' button');\n",
              "      quickchartButtonEl.disabled = true;  // To prevent multiple clicks.\n",
              "      quickchartButtonEl.classList.add('colab-df-spinner');\n",
              "      try {\n",
              "        const charts = await google.colab.kernel.invokeFunction(\n",
              "            'suggestCharts', [key], {});\n",
              "      } catch (error) {\n",
              "        console.error('Error during call to suggestCharts:', error);\n",
              "      }\n",
              "      quickchartButtonEl.classList.remove('colab-df-spinner');\n",
              "      quickchartButtonEl.classList.add('colab-df-quickchart-complete');\n",
              "    }\n",
              "    (() => {\n",
              "      let quickchartButtonEl =\n",
              "        document.querySelector('#df-46d40f27-3e39-4c01-8c29-b96274aa57db button');\n",
              "      quickchartButtonEl.style.display =\n",
              "        google.colab.kernel.accessAllowed ? 'block' : 'none';\n",
              "    })();\n",
              "  </script>\n",
              "</div>\n",
              "    </div>\n",
              "  </div>\n"
            ]
          },
          "metadata": {},
          "execution_count": 93
        }
      ]
    },
    {
      "cell_type": "code",
      "source": [
        "ds[['de_para_xp','avg_salarial']].cov()"
      ],
      "metadata": {
        "colab": {
          "base_uri": "https://localhost:8080/",
          "height": 112
        },
        "id": "KpsaVYAN2AFL",
        "outputId": "e2619c98-482e-469e-a4ff-4f3e270d01ab"
      },
      "execution_count": null,
      "outputs": [
        {
          "output_type": "execute_result",
          "data": {
            "text/plain": [
              "               de_para_xp  avg_salarial\n",
              "de_para_xp       0.332766  1.126778e+03\n",
              "avg_salarial  1126.778229  2.868706e+07"
            ],
            "text/html": [
              "\n",
              "  <div id=\"df-08caa231-834a-47e8-a2aa-eac948718d23\" class=\"colab-df-container\">\n",
              "    <div>\n",
              "<style scoped>\n",
              "    .dataframe tbody tr th:only-of-type {\n",
              "        vertical-align: middle;\n",
              "    }\n",
              "\n",
              "    .dataframe tbody tr th {\n",
              "        vertical-align: top;\n",
              "    }\n",
              "\n",
              "    .dataframe thead th {\n",
              "        text-align: right;\n",
              "    }\n",
              "</style>\n",
              "<table border=\"1\" class=\"dataframe\">\n",
              "  <thead>\n",
              "    <tr style=\"text-align: right;\">\n",
              "      <th></th>\n",
              "      <th>de_para_xp</th>\n",
              "      <th>avg_salarial</th>\n",
              "    </tr>\n",
              "  </thead>\n",
              "  <tbody>\n",
              "    <tr>\n",
              "      <th>de_para_xp</th>\n",
              "      <td>0.332766</td>\n",
              "      <td>1.126778e+03</td>\n",
              "    </tr>\n",
              "    <tr>\n",
              "      <th>avg_salarial</th>\n",
              "      <td>1126.778229</td>\n",
              "      <td>2.868706e+07</td>\n",
              "    </tr>\n",
              "  </tbody>\n",
              "</table>\n",
              "</div>\n",
              "    <div class=\"colab-df-buttons\">\n",
              "\n",
              "  <div class=\"colab-df-container\">\n",
              "    <button class=\"colab-df-convert\" onclick=\"convertToInteractive('df-08caa231-834a-47e8-a2aa-eac948718d23')\"\n",
              "            title=\"Convert this dataframe to an interactive table.\"\n",
              "            style=\"display:none;\">\n",
              "\n",
              "  <svg xmlns=\"http://www.w3.org/2000/svg\" height=\"24px\" viewBox=\"0 -960 960 960\">\n",
              "    <path d=\"M120-120v-720h720v720H120Zm60-500h600v-160H180v160Zm220 220h160v-160H400v160Zm0 220h160v-160H400v160ZM180-400h160v-160H180v160Zm440 0h160v-160H620v160ZM180-180h160v-160H180v160Zm440 0h160v-160H620v160Z\"/>\n",
              "  </svg>\n",
              "    </button>\n",
              "\n",
              "  <style>\n",
              "    .colab-df-container {\n",
              "      display:flex;\n",
              "      gap: 12px;\n",
              "    }\n",
              "\n",
              "    .colab-df-convert {\n",
              "      background-color: #E8F0FE;\n",
              "      border: none;\n",
              "      border-radius: 50%;\n",
              "      cursor: pointer;\n",
              "      display: none;\n",
              "      fill: #1967D2;\n",
              "      height: 32px;\n",
              "      padding: 0 0 0 0;\n",
              "      width: 32px;\n",
              "    }\n",
              "\n",
              "    .colab-df-convert:hover {\n",
              "      background-color: #E2EBFA;\n",
              "      box-shadow: 0px 1px 2px rgba(60, 64, 67, 0.3), 0px 1px 3px 1px rgba(60, 64, 67, 0.15);\n",
              "      fill: #174EA6;\n",
              "    }\n",
              "\n",
              "    .colab-df-buttons div {\n",
              "      margin-bottom: 4px;\n",
              "    }\n",
              "\n",
              "    [theme=dark] .colab-df-convert {\n",
              "      background-color: #3B4455;\n",
              "      fill: #D2E3FC;\n",
              "    }\n",
              "\n",
              "    [theme=dark] .colab-df-convert:hover {\n",
              "      background-color: #434B5C;\n",
              "      box-shadow: 0px 1px 3px 1px rgba(0, 0, 0, 0.15);\n",
              "      filter: drop-shadow(0px 1px 2px rgba(0, 0, 0, 0.3));\n",
              "      fill: #FFFFFF;\n",
              "    }\n",
              "  </style>\n",
              "\n",
              "    <script>\n",
              "      const buttonEl =\n",
              "        document.querySelector('#df-08caa231-834a-47e8-a2aa-eac948718d23 button.colab-df-convert');\n",
              "      buttonEl.style.display =\n",
              "        google.colab.kernel.accessAllowed ? 'block' : 'none';\n",
              "\n",
              "      async function convertToInteractive(key) {\n",
              "        const element = document.querySelector('#df-08caa231-834a-47e8-a2aa-eac948718d23');\n",
              "        const dataTable =\n",
              "          await google.colab.kernel.invokeFunction('convertToInteractive',\n",
              "                                                    [key], {});\n",
              "        if (!dataTable) return;\n",
              "\n",
              "        const docLinkHtml = 'Like what you see? Visit the ' +\n",
              "          '<a target=\"_blank\" href=https://colab.research.google.com/notebooks/data_table.ipynb>data table notebook</a>'\n",
              "          + ' to learn more about interactive tables.';\n",
              "        element.innerHTML = '';\n",
              "        dataTable['output_type'] = 'display_data';\n",
              "        await google.colab.output.renderOutput(dataTable, element);\n",
              "        const docLink = document.createElement('div');\n",
              "        docLink.innerHTML = docLinkHtml;\n",
              "        element.appendChild(docLink);\n",
              "      }\n",
              "    </script>\n",
              "  </div>\n",
              "\n",
              "\n",
              "<div id=\"df-f41aee47-c2a1-4d31-8088-278eb600f85d\">\n",
              "  <button class=\"colab-df-quickchart\" onclick=\"quickchart('df-f41aee47-c2a1-4d31-8088-278eb600f85d')\"\n",
              "            title=\"Suggest charts\"\n",
              "            style=\"display:none;\">\n",
              "\n",
              "<svg xmlns=\"http://www.w3.org/2000/svg\" height=\"24px\"viewBox=\"0 0 24 24\"\n",
              "     width=\"24px\">\n",
              "    <g>\n",
              "        <path d=\"M19 3H5c-1.1 0-2 .9-2 2v14c0 1.1.9 2 2 2h14c1.1 0 2-.9 2-2V5c0-1.1-.9-2-2-2zM9 17H7v-7h2v7zm4 0h-2V7h2v10zm4 0h-2v-4h2v4z\"/>\n",
              "    </g>\n",
              "</svg>\n",
              "  </button>\n",
              "\n",
              "<style>\n",
              "  .colab-df-quickchart {\n",
              "      --bg-color: #E8F0FE;\n",
              "      --fill-color: #1967D2;\n",
              "      --hover-bg-color: #E2EBFA;\n",
              "      --hover-fill-color: #174EA6;\n",
              "      --disabled-fill-color: #AAA;\n",
              "      --disabled-bg-color: #DDD;\n",
              "  }\n",
              "\n",
              "  [theme=dark] .colab-df-quickchart {\n",
              "      --bg-color: #3B4455;\n",
              "      --fill-color: #D2E3FC;\n",
              "      --hover-bg-color: #434B5C;\n",
              "      --hover-fill-color: #FFFFFF;\n",
              "      --disabled-bg-color: #3B4455;\n",
              "      --disabled-fill-color: #666;\n",
              "  }\n",
              "\n",
              "  .colab-df-quickchart {\n",
              "    background-color: var(--bg-color);\n",
              "    border: none;\n",
              "    border-radius: 50%;\n",
              "    cursor: pointer;\n",
              "    display: none;\n",
              "    fill: var(--fill-color);\n",
              "    height: 32px;\n",
              "    padding: 0;\n",
              "    width: 32px;\n",
              "  }\n",
              "\n",
              "  .colab-df-quickchart:hover {\n",
              "    background-color: var(--hover-bg-color);\n",
              "    box-shadow: 0 1px 2px rgba(60, 64, 67, 0.3), 0 1px 3px 1px rgba(60, 64, 67, 0.15);\n",
              "    fill: var(--button-hover-fill-color);\n",
              "  }\n",
              "\n",
              "  .colab-df-quickchart-complete:disabled,\n",
              "  .colab-df-quickchart-complete:disabled:hover {\n",
              "    background-color: var(--disabled-bg-color);\n",
              "    fill: var(--disabled-fill-color);\n",
              "    box-shadow: none;\n",
              "  }\n",
              "\n",
              "  .colab-df-spinner {\n",
              "    border: 2px solid var(--fill-color);\n",
              "    border-color: transparent;\n",
              "    border-bottom-color: var(--fill-color);\n",
              "    animation:\n",
              "      spin 1s steps(1) infinite;\n",
              "  }\n",
              "\n",
              "  @keyframes spin {\n",
              "    0% {\n",
              "      border-color: transparent;\n",
              "      border-bottom-color: var(--fill-color);\n",
              "      border-left-color: var(--fill-color);\n",
              "    }\n",
              "    20% {\n",
              "      border-color: transparent;\n",
              "      border-left-color: var(--fill-color);\n",
              "      border-top-color: var(--fill-color);\n",
              "    }\n",
              "    30% {\n",
              "      border-color: transparent;\n",
              "      border-left-color: var(--fill-color);\n",
              "      border-top-color: var(--fill-color);\n",
              "      border-right-color: var(--fill-color);\n",
              "    }\n",
              "    40% {\n",
              "      border-color: transparent;\n",
              "      border-right-color: var(--fill-color);\n",
              "      border-top-color: var(--fill-color);\n",
              "    }\n",
              "    60% {\n",
              "      border-color: transparent;\n",
              "      border-right-color: var(--fill-color);\n",
              "    }\n",
              "    80% {\n",
              "      border-color: transparent;\n",
              "      border-right-color: var(--fill-color);\n",
              "      border-bottom-color: var(--fill-color);\n",
              "    }\n",
              "    90% {\n",
              "      border-color: transparent;\n",
              "      border-bottom-color: var(--fill-color);\n",
              "    }\n",
              "  }\n",
              "</style>\n",
              "\n",
              "  <script>\n",
              "    async function quickchart(key) {\n",
              "      const quickchartButtonEl =\n",
              "        document.querySelector('#' + key + ' button');\n",
              "      quickchartButtonEl.disabled = true;  // To prevent multiple clicks.\n",
              "      quickchartButtonEl.classList.add('colab-df-spinner');\n",
              "      try {\n",
              "        const charts = await google.colab.kernel.invokeFunction(\n",
              "            'suggestCharts', [key], {});\n",
              "      } catch (error) {\n",
              "        console.error('Error during call to suggestCharts:', error);\n",
              "      }\n",
              "      quickchartButtonEl.classList.remove('colab-df-spinner');\n",
              "      quickchartButtonEl.classList.add('colab-df-quickchart-complete');\n",
              "    }\n",
              "    (() => {\n",
              "      let quickchartButtonEl =\n",
              "        document.querySelector('#df-f41aee47-c2a1-4d31-8088-278eb600f85d button');\n",
              "      quickchartButtonEl.style.display =\n",
              "        google.colab.kernel.accessAllowed ? 'block' : 'none';\n",
              "    })();\n",
              "  </script>\n",
              "</div>\n",
              "    </div>\n",
              "  </div>\n"
            ]
          },
          "metadata": {},
          "execution_count": 96
        }
      ]
    },
    {
      "cell_type": "code",
      "source": [],
      "metadata": {
        "id": "LZBSP0QB2k-u"
      },
      "execution_count": null,
      "outputs": []
    },
    {
      "cell_type": "markdown",
      "source": [
        "# **Correlação**"
      ],
      "metadata": {
        "id": "SJ0cUUEo5L0X"
      }
    },
    {
      "cell_type": "code",
      "source": [
        "ds[['de_para_xp','de_para_faixasalarial']].corr()"
      ],
      "metadata": {
        "colab": {
          "base_uri": "https://localhost:8080/",
          "height": 112
        },
        "id": "rnwYSz2r5PYH",
        "outputId": "db26aff4-63a1-4933-e6dd-9a34cf57596b"
      },
      "execution_count": null,
      "outputs": [
        {
          "output_type": "execute_result",
          "data": {
            "text/plain": [
              "                       de_para_xp  de_para_faixasalarial\n",
              "de_para_xp               1.000000               0.365831\n",
              "de_para_faixasalarial    0.365831               1.000000"
            ],
            "text/html": [
              "\n",
              "  <div id=\"df-73edd9bd-23ae-4297-a301-09aa7060fe42\" class=\"colab-df-container\">\n",
              "    <div>\n",
              "<style scoped>\n",
              "    .dataframe tbody tr th:only-of-type {\n",
              "        vertical-align: middle;\n",
              "    }\n",
              "\n",
              "    .dataframe tbody tr th {\n",
              "        vertical-align: top;\n",
              "    }\n",
              "\n",
              "    .dataframe thead th {\n",
              "        text-align: right;\n",
              "    }\n",
              "</style>\n",
              "<table border=\"1\" class=\"dataframe\">\n",
              "  <thead>\n",
              "    <tr style=\"text-align: right;\">\n",
              "      <th></th>\n",
              "      <th>de_para_xp</th>\n",
              "      <th>de_para_faixasalarial</th>\n",
              "    </tr>\n",
              "  </thead>\n",
              "  <tbody>\n",
              "    <tr>\n",
              "      <th>de_para_xp</th>\n",
              "      <td>1.000000</td>\n",
              "      <td>0.365831</td>\n",
              "    </tr>\n",
              "    <tr>\n",
              "      <th>de_para_faixasalarial</th>\n",
              "      <td>0.365831</td>\n",
              "      <td>1.000000</td>\n",
              "    </tr>\n",
              "  </tbody>\n",
              "</table>\n",
              "</div>\n",
              "    <div class=\"colab-df-buttons\">\n",
              "\n",
              "  <div class=\"colab-df-container\">\n",
              "    <button class=\"colab-df-convert\" onclick=\"convertToInteractive('df-73edd9bd-23ae-4297-a301-09aa7060fe42')\"\n",
              "            title=\"Convert this dataframe to an interactive table.\"\n",
              "            style=\"display:none;\">\n",
              "\n",
              "  <svg xmlns=\"http://www.w3.org/2000/svg\" height=\"24px\" viewBox=\"0 -960 960 960\">\n",
              "    <path d=\"M120-120v-720h720v720H120Zm60-500h600v-160H180v160Zm220 220h160v-160H400v160Zm0 220h160v-160H400v160ZM180-400h160v-160H180v160Zm440 0h160v-160H620v160ZM180-180h160v-160H180v160Zm440 0h160v-160H620v160Z\"/>\n",
              "  </svg>\n",
              "    </button>\n",
              "\n",
              "  <style>\n",
              "    .colab-df-container {\n",
              "      display:flex;\n",
              "      gap: 12px;\n",
              "    }\n",
              "\n",
              "    .colab-df-convert {\n",
              "      background-color: #E8F0FE;\n",
              "      border: none;\n",
              "      border-radius: 50%;\n",
              "      cursor: pointer;\n",
              "      display: none;\n",
              "      fill: #1967D2;\n",
              "      height: 32px;\n",
              "      padding: 0 0 0 0;\n",
              "      width: 32px;\n",
              "    }\n",
              "\n",
              "    .colab-df-convert:hover {\n",
              "      background-color: #E2EBFA;\n",
              "      box-shadow: 0px 1px 2px rgba(60, 64, 67, 0.3), 0px 1px 3px 1px rgba(60, 64, 67, 0.15);\n",
              "      fill: #174EA6;\n",
              "    }\n",
              "\n",
              "    .colab-df-buttons div {\n",
              "      margin-bottom: 4px;\n",
              "    }\n",
              "\n",
              "    [theme=dark] .colab-df-convert {\n",
              "      background-color: #3B4455;\n",
              "      fill: #D2E3FC;\n",
              "    }\n",
              "\n",
              "    [theme=dark] .colab-df-convert:hover {\n",
              "      background-color: #434B5C;\n",
              "      box-shadow: 0px 1px 3px 1px rgba(0, 0, 0, 0.15);\n",
              "      filter: drop-shadow(0px 1px 2px rgba(0, 0, 0, 0.3));\n",
              "      fill: #FFFFFF;\n",
              "    }\n",
              "  </style>\n",
              "\n",
              "    <script>\n",
              "      const buttonEl =\n",
              "        document.querySelector('#df-73edd9bd-23ae-4297-a301-09aa7060fe42 button.colab-df-convert');\n",
              "      buttonEl.style.display =\n",
              "        google.colab.kernel.accessAllowed ? 'block' : 'none';\n",
              "\n",
              "      async function convertToInteractive(key) {\n",
              "        const element = document.querySelector('#df-73edd9bd-23ae-4297-a301-09aa7060fe42');\n",
              "        const dataTable =\n",
              "          await google.colab.kernel.invokeFunction('convertToInteractive',\n",
              "                                                    [key], {});\n",
              "        if (!dataTable) return;\n",
              "\n",
              "        const docLinkHtml = 'Like what you see? Visit the ' +\n",
              "          '<a target=\"_blank\" href=https://colab.research.google.com/notebooks/data_table.ipynb>data table notebook</a>'\n",
              "          + ' to learn more about interactive tables.';\n",
              "        element.innerHTML = '';\n",
              "        dataTable['output_type'] = 'display_data';\n",
              "        await google.colab.output.renderOutput(dataTable, element);\n",
              "        const docLink = document.createElement('div');\n",
              "        docLink.innerHTML = docLinkHtml;\n",
              "        element.appendChild(docLink);\n",
              "      }\n",
              "    </script>\n",
              "  </div>\n",
              "\n",
              "\n",
              "<div id=\"df-08ef63b3-5de5-4581-8a77-e26ca921315f\">\n",
              "  <button class=\"colab-df-quickchart\" onclick=\"quickchart('df-08ef63b3-5de5-4581-8a77-e26ca921315f')\"\n",
              "            title=\"Suggest charts\"\n",
              "            style=\"display:none;\">\n",
              "\n",
              "<svg xmlns=\"http://www.w3.org/2000/svg\" height=\"24px\"viewBox=\"0 0 24 24\"\n",
              "     width=\"24px\">\n",
              "    <g>\n",
              "        <path d=\"M19 3H5c-1.1 0-2 .9-2 2v14c0 1.1.9 2 2 2h14c1.1 0 2-.9 2-2V5c0-1.1-.9-2-2-2zM9 17H7v-7h2v7zm4 0h-2V7h2v10zm4 0h-2v-4h2v4z\"/>\n",
              "    </g>\n",
              "</svg>\n",
              "  </button>\n",
              "\n",
              "<style>\n",
              "  .colab-df-quickchart {\n",
              "      --bg-color: #E8F0FE;\n",
              "      --fill-color: #1967D2;\n",
              "      --hover-bg-color: #E2EBFA;\n",
              "      --hover-fill-color: #174EA6;\n",
              "      --disabled-fill-color: #AAA;\n",
              "      --disabled-bg-color: #DDD;\n",
              "  }\n",
              "\n",
              "  [theme=dark] .colab-df-quickchart {\n",
              "      --bg-color: #3B4455;\n",
              "      --fill-color: #D2E3FC;\n",
              "      --hover-bg-color: #434B5C;\n",
              "      --hover-fill-color: #FFFFFF;\n",
              "      --disabled-bg-color: #3B4455;\n",
              "      --disabled-fill-color: #666;\n",
              "  }\n",
              "\n",
              "  .colab-df-quickchart {\n",
              "    background-color: var(--bg-color);\n",
              "    border: none;\n",
              "    border-radius: 50%;\n",
              "    cursor: pointer;\n",
              "    display: none;\n",
              "    fill: var(--fill-color);\n",
              "    height: 32px;\n",
              "    padding: 0;\n",
              "    width: 32px;\n",
              "  }\n",
              "\n",
              "  .colab-df-quickchart:hover {\n",
              "    background-color: var(--hover-bg-color);\n",
              "    box-shadow: 0 1px 2px rgba(60, 64, 67, 0.3), 0 1px 3px 1px rgba(60, 64, 67, 0.15);\n",
              "    fill: var(--button-hover-fill-color);\n",
              "  }\n",
              "\n",
              "  .colab-df-quickchart-complete:disabled,\n",
              "  .colab-df-quickchart-complete:disabled:hover {\n",
              "    background-color: var(--disabled-bg-color);\n",
              "    fill: var(--disabled-fill-color);\n",
              "    box-shadow: none;\n",
              "  }\n",
              "\n",
              "  .colab-df-spinner {\n",
              "    border: 2px solid var(--fill-color);\n",
              "    border-color: transparent;\n",
              "    border-bottom-color: var(--fill-color);\n",
              "    animation:\n",
              "      spin 1s steps(1) infinite;\n",
              "  }\n",
              "\n",
              "  @keyframes spin {\n",
              "    0% {\n",
              "      border-color: transparent;\n",
              "      border-bottom-color: var(--fill-color);\n",
              "      border-left-color: var(--fill-color);\n",
              "    }\n",
              "    20% {\n",
              "      border-color: transparent;\n",
              "      border-left-color: var(--fill-color);\n",
              "      border-top-color: var(--fill-color);\n",
              "    }\n",
              "    30% {\n",
              "      border-color: transparent;\n",
              "      border-left-color: var(--fill-color);\n",
              "      border-top-color: var(--fill-color);\n",
              "      border-right-color: var(--fill-color);\n",
              "    }\n",
              "    40% {\n",
              "      border-color: transparent;\n",
              "      border-right-color: var(--fill-color);\n",
              "      border-top-color: var(--fill-color);\n",
              "    }\n",
              "    60% {\n",
              "      border-color: transparent;\n",
              "      border-right-color: var(--fill-color);\n",
              "    }\n",
              "    80% {\n",
              "      border-color: transparent;\n",
              "      border-right-color: var(--fill-color);\n",
              "      border-bottom-color: var(--fill-color);\n",
              "    }\n",
              "    90% {\n",
              "      border-color: transparent;\n",
              "      border-bottom-color: var(--fill-color);\n",
              "    }\n",
              "  }\n",
              "</style>\n",
              "\n",
              "  <script>\n",
              "    async function quickchart(key) {\n",
              "      const quickchartButtonEl =\n",
              "        document.querySelector('#' + key + ' button');\n",
              "      quickchartButtonEl.disabled = true;  // To prevent multiple clicks.\n",
              "      quickchartButtonEl.classList.add('colab-df-spinner');\n",
              "      try {\n",
              "        const charts = await google.colab.kernel.invokeFunction(\n",
              "            'suggestCharts', [key], {});\n",
              "      } catch (error) {\n",
              "        console.error('Error during call to suggestCharts:', error);\n",
              "      }\n",
              "      quickchartButtonEl.classList.remove('colab-df-spinner');\n",
              "      quickchartButtonEl.classList.add('colab-df-quickchart-complete');\n",
              "    }\n",
              "    (() => {\n",
              "      let quickchartButtonEl =\n",
              "        document.querySelector('#df-08ef63b3-5de5-4581-8a77-e26ca921315f button');\n",
              "      quickchartButtonEl.style.display =\n",
              "        google.colab.kernel.accessAllowed ? 'block' : 'none';\n",
              "    })();\n",
              "  </script>\n",
              "</div>\n",
              "    </div>\n",
              "  </div>\n"
            ]
          },
          "metadata": {},
          "execution_count": 97
        }
      ]
    },
    {
      "cell_type": "code",
      "source": [
        "ds.describe()"
      ],
      "metadata": {
        "colab": {
          "base_uri": "https://localhost:8080/",
          "height": 300
        },
        "id": "qUC276u95RG3",
        "outputId": "c121b7cb-46b8-4f06-d31f-718a3148af5b"
      },
      "execution_count": null,
      "outputs": [
        {
          "output_type": "execute_result",
          "data": {
            "text/plain": [
              "         work_year        salary  salary_in_usd  remote_ratio  avg_salarial  \\\n",
              "count  2785.000000  2.785000e+03    2785.000000   2785.000000   2785.000000   \n",
              "mean   2022.730341  2.029225e+05  163132.670377     38.204668  13594.045242   \n",
              "std       0.566829  6.799168e+05   64272.334688     47.777559   5356.030201   \n",
              "min    2020.000000  1.600000e+04   16000.000000      0.000000   1333.000000   \n",
              "25%    2023.000000  1.293000e+05  126900.000000      0.000000  10575.000000   \n",
              "50%    2023.000000  1.600000e+05  159100.000000      0.000000  13258.000000   \n",
              "75%    2023.000000  2.020000e+05  200000.000000    100.000000  16666.000000   \n",
              "max    2023.000000  3.040000e+07  750000.000000    100.000000  62500.000000   \n",
              "\n",
              "        de_para_xp  de_para_emp  de_para_employment  de_para_faixasalarial  \n",
              "count  2785.000000  2785.000000         2785.000000            2785.000000  \n",
              "mean      1.765171     1.108079            1.000359               2.222980  \n",
              "std       0.576859     0.361822            0.073402               1.092446  \n",
              "min       0.000000     0.000000            0.000000               0.000000  \n",
              "25%       2.000000     1.000000            1.000000               2.000000  \n",
              "50%       2.000000     1.000000            1.000000               2.000000  \n",
              "75%       2.000000     1.000000            1.000000               3.000000  \n",
              "max       3.000000     2.000000            3.000000               6.000000  "
            ],
            "text/html": [
              "\n",
              "  <div id=\"df-3c64da8e-cfb6-4fa9-b99c-ff0608d029f6\" class=\"colab-df-container\">\n",
              "    <div>\n",
              "<style scoped>\n",
              "    .dataframe tbody tr th:only-of-type {\n",
              "        vertical-align: middle;\n",
              "    }\n",
              "\n",
              "    .dataframe tbody tr th {\n",
              "        vertical-align: top;\n",
              "    }\n",
              "\n",
              "    .dataframe thead th {\n",
              "        text-align: right;\n",
              "    }\n",
              "</style>\n",
              "<table border=\"1\" class=\"dataframe\">\n",
              "  <thead>\n",
              "    <tr style=\"text-align: right;\">\n",
              "      <th></th>\n",
              "      <th>work_year</th>\n",
              "      <th>salary</th>\n",
              "      <th>salary_in_usd</th>\n",
              "      <th>remote_ratio</th>\n",
              "      <th>avg_salarial</th>\n",
              "      <th>de_para_xp</th>\n",
              "      <th>de_para_emp</th>\n",
              "      <th>de_para_employment</th>\n",
              "      <th>de_para_faixasalarial</th>\n",
              "    </tr>\n",
              "  </thead>\n",
              "  <tbody>\n",
              "    <tr>\n",
              "      <th>count</th>\n",
              "      <td>2785.000000</td>\n",
              "      <td>2.785000e+03</td>\n",
              "      <td>2785.000000</td>\n",
              "      <td>2785.000000</td>\n",
              "      <td>2785.000000</td>\n",
              "      <td>2785.000000</td>\n",
              "      <td>2785.000000</td>\n",
              "      <td>2785.000000</td>\n",
              "      <td>2785.000000</td>\n",
              "    </tr>\n",
              "    <tr>\n",
              "      <th>mean</th>\n",
              "      <td>2022.730341</td>\n",
              "      <td>2.029225e+05</td>\n",
              "      <td>163132.670377</td>\n",
              "      <td>38.204668</td>\n",
              "      <td>13594.045242</td>\n",
              "      <td>1.765171</td>\n",
              "      <td>1.108079</td>\n",
              "      <td>1.000359</td>\n",
              "      <td>2.222980</td>\n",
              "    </tr>\n",
              "    <tr>\n",
              "      <th>std</th>\n",
              "      <td>0.566829</td>\n",
              "      <td>6.799168e+05</td>\n",
              "      <td>64272.334688</td>\n",
              "      <td>47.777559</td>\n",
              "      <td>5356.030201</td>\n",
              "      <td>0.576859</td>\n",
              "      <td>0.361822</td>\n",
              "      <td>0.073402</td>\n",
              "      <td>1.092446</td>\n",
              "    </tr>\n",
              "    <tr>\n",
              "      <th>min</th>\n",
              "      <td>2020.000000</td>\n",
              "      <td>1.600000e+04</td>\n",
              "      <td>16000.000000</td>\n",
              "      <td>0.000000</td>\n",
              "      <td>1333.000000</td>\n",
              "      <td>0.000000</td>\n",
              "      <td>0.000000</td>\n",
              "      <td>0.000000</td>\n",
              "      <td>0.000000</td>\n",
              "    </tr>\n",
              "    <tr>\n",
              "      <th>25%</th>\n",
              "      <td>2023.000000</td>\n",
              "      <td>1.293000e+05</td>\n",
              "      <td>126900.000000</td>\n",
              "      <td>0.000000</td>\n",
              "      <td>10575.000000</td>\n",
              "      <td>2.000000</td>\n",
              "      <td>1.000000</td>\n",
              "      <td>1.000000</td>\n",
              "      <td>2.000000</td>\n",
              "    </tr>\n",
              "    <tr>\n",
              "      <th>50%</th>\n",
              "      <td>2023.000000</td>\n",
              "      <td>1.600000e+05</td>\n",
              "      <td>159100.000000</td>\n",
              "      <td>0.000000</td>\n",
              "      <td>13258.000000</td>\n",
              "      <td>2.000000</td>\n",
              "      <td>1.000000</td>\n",
              "      <td>1.000000</td>\n",
              "      <td>2.000000</td>\n",
              "    </tr>\n",
              "    <tr>\n",
              "      <th>75%</th>\n",
              "      <td>2023.000000</td>\n",
              "      <td>2.020000e+05</td>\n",
              "      <td>200000.000000</td>\n",
              "      <td>100.000000</td>\n",
              "      <td>16666.000000</td>\n",
              "      <td>2.000000</td>\n",
              "      <td>1.000000</td>\n",
              "      <td>1.000000</td>\n",
              "      <td>3.000000</td>\n",
              "    </tr>\n",
              "    <tr>\n",
              "      <th>max</th>\n",
              "      <td>2023.000000</td>\n",
              "      <td>3.040000e+07</td>\n",
              "      <td>750000.000000</td>\n",
              "      <td>100.000000</td>\n",
              "      <td>62500.000000</td>\n",
              "      <td>3.000000</td>\n",
              "      <td>2.000000</td>\n",
              "      <td>3.000000</td>\n",
              "      <td>6.000000</td>\n",
              "    </tr>\n",
              "  </tbody>\n",
              "</table>\n",
              "</div>\n",
              "    <div class=\"colab-df-buttons\">\n",
              "\n",
              "  <div class=\"colab-df-container\">\n",
              "    <button class=\"colab-df-convert\" onclick=\"convertToInteractive('df-3c64da8e-cfb6-4fa9-b99c-ff0608d029f6')\"\n",
              "            title=\"Convert this dataframe to an interactive table.\"\n",
              "            style=\"display:none;\">\n",
              "\n",
              "  <svg xmlns=\"http://www.w3.org/2000/svg\" height=\"24px\" viewBox=\"0 -960 960 960\">\n",
              "    <path d=\"M120-120v-720h720v720H120Zm60-500h600v-160H180v160Zm220 220h160v-160H400v160Zm0 220h160v-160H400v160ZM180-400h160v-160H180v160Zm440 0h160v-160H620v160ZM180-180h160v-160H180v160Zm440 0h160v-160H620v160Z\"/>\n",
              "  </svg>\n",
              "    </button>\n",
              "\n",
              "  <style>\n",
              "    .colab-df-container {\n",
              "      display:flex;\n",
              "      gap: 12px;\n",
              "    }\n",
              "\n",
              "    .colab-df-convert {\n",
              "      background-color: #E8F0FE;\n",
              "      border: none;\n",
              "      border-radius: 50%;\n",
              "      cursor: pointer;\n",
              "      display: none;\n",
              "      fill: #1967D2;\n",
              "      height: 32px;\n",
              "      padding: 0 0 0 0;\n",
              "      width: 32px;\n",
              "    }\n",
              "\n",
              "    .colab-df-convert:hover {\n",
              "      background-color: #E2EBFA;\n",
              "      box-shadow: 0px 1px 2px rgba(60, 64, 67, 0.3), 0px 1px 3px 1px rgba(60, 64, 67, 0.15);\n",
              "      fill: #174EA6;\n",
              "    }\n",
              "\n",
              "    .colab-df-buttons div {\n",
              "      margin-bottom: 4px;\n",
              "    }\n",
              "\n",
              "    [theme=dark] .colab-df-convert {\n",
              "      background-color: #3B4455;\n",
              "      fill: #D2E3FC;\n",
              "    }\n",
              "\n",
              "    [theme=dark] .colab-df-convert:hover {\n",
              "      background-color: #434B5C;\n",
              "      box-shadow: 0px 1px 3px 1px rgba(0, 0, 0, 0.15);\n",
              "      filter: drop-shadow(0px 1px 2px rgba(0, 0, 0, 0.3));\n",
              "      fill: #FFFFFF;\n",
              "    }\n",
              "  </style>\n",
              "\n",
              "    <script>\n",
              "      const buttonEl =\n",
              "        document.querySelector('#df-3c64da8e-cfb6-4fa9-b99c-ff0608d029f6 button.colab-df-convert');\n",
              "      buttonEl.style.display =\n",
              "        google.colab.kernel.accessAllowed ? 'block' : 'none';\n",
              "\n",
              "      async function convertToInteractive(key) {\n",
              "        const element = document.querySelector('#df-3c64da8e-cfb6-4fa9-b99c-ff0608d029f6');\n",
              "        const dataTable =\n",
              "          await google.colab.kernel.invokeFunction('convertToInteractive',\n",
              "                                                    [key], {});\n",
              "        if (!dataTable) return;\n",
              "\n",
              "        const docLinkHtml = 'Like what you see? Visit the ' +\n",
              "          '<a target=\"_blank\" href=https://colab.research.google.com/notebooks/data_table.ipynb>data table notebook</a>'\n",
              "          + ' to learn more about interactive tables.';\n",
              "        element.innerHTML = '';\n",
              "        dataTable['output_type'] = 'display_data';\n",
              "        await google.colab.output.renderOutput(dataTable, element);\n",
              "        const docLink = document.createElement('div');\n",
              "        docLink.innerHTML = docLinkHtml;\n",
              "        element.appendChild(docLink);\n",
              "      }\n",
              "    </script>\n",
              "  </div>\n",
              "\n",
              "\n",
              "<div id=\"df-923949a9-43f3-4d27-87ef-0aa52925494a\">\n",
              "  <button class=\"colab-df-quickchart\" onclick=\"quickchart('df-923949a9-43f3-4d27-87ef-0aa52925494a')\"\n",
              "            title=\"Suggest charts\"\n",
              "            style=\"display:none;\">\n",
              "\n",
              "<svg xmlns=\"http://www.w3.org/2000/svg\" height=\"24px\"viewBox=\"0 0 24 24\"\n",
              "     width=\"24px\">\n",
              "    <g>\n",
              "        <path d=\"M19 3H5c-1.1 0-2 .9-2 2v14c0 1.1.9 2 2 2h14c1.1 0 2-.9 2-2V5c0-1.1-.9-2-2-2zM9 17H7v-7h2v7zm4 0h-2V7h2v10zm4 0h-2v-4h2v4z\"/>\n",
              "    </g>\n",
              "</svg>\n",
              "  </button>\n",
              "\n",
              "<style>\n",
              "  .colab-df-quickchart {\n",
              "      --bg-color: #E8F0FE;\n",
              "      --fill-color: #1967D2;\n",
              "      --hover-bg-color: #E2EBFA;\n",
              "      --hover-fill-color: #174EA6;\n",
              "      --disabled-fill-color: #AAA;\n",
              "      --disabled-bg-color: #DDD;\n",
              "  }\n",
              "\n",
              "  [theme=dark] .colab-df-quickchart {\n",
              "      --bg-color: #3B4455;\n",
              "      --fill-color: #D2E3FC;\n",
              "      --hover-bg-color: #434B5C;\n",
              "      --hover-fill-color: #FFFFFF;\n",
              "      --disabled-bg-color: #3B4455;\n",
              "      --disabled-fill-color: #666;\n",
              "  }\n",
              "\n",
              "  .colab-df-quickchart {\n",
              "    background-color: var(--bg-color);\n",
              "    border: none;\n",
              "    border-radius: 50%;\n",
              "    cursor: pointer;\n",
              "    display: none;\n",
              "    fill: var(--fill-color);\n",
              "    height: 32px;\n",
              "    padding: 0;\n",
              "    width: 32px;\n",
              "  }\n",
              "\n",
              "  .colab-df-quickchart:hover {\n",
              "    background-color: var(--hover-bg-color);\n",
              "    box-shadow: 0 1px 2px rgba(60, 64, 67, 0.3), 0 1px 3px 1px rgba(60, 64, 67, 0.15);\n",
              "    fill: var(--button-hover-fill-color);\n",
              "  }\n",
              "\n",
              "  .colab-df-quickchart-complete:disabled,\n",
              "  .colab-df-quickchart-complete:disabled:hover {\n",
              "    background-color: var(--disabled-bg-color);\n",
              "    fill: var(--disabled-fill-color);\n",
              "    box-shadow: none;\n",
              "  }\n",
              "\n",
              "  .colab-df-spinner {\n",
              "    border: 2px solid var(--fill-color);\n",
              "    border-color: transparent;\n",
              "    border-bottom-color: var(--fill-color);\n",
              "    animation:\n",
              "      spin 1s steps(1) infinite;\n",
              "  }\n",
              "\n",
              "  @keyframes spin {\n",
              "    0% {\n",
              "      border-color: transparent;\n",
              "      border-bottom-color: var(--fill-color);\n",
              "      border-left-color: var(--fill-color);\n",
              "    }\n",
              "    20% {\n",
              "      border-color: transparent;\n",
              "      border-left-color: var(--fill-color);\n",
              "      border-top-color: var(--fill-color);\n",
              "    }\n",
              "    30% {\n",
              "      border-color: transparent;\n",
              "      border-left-color: var(--fill-color);\n",
              "      border-top-color: var(--fill-color);\n",
              "      border-right-color: var(--fill-color);\n",
              "    }\n",
              "    40% {\n",
              "      border-color: transparent;\n",
              "      border-right-color: var(--fill-color);\n",
              "      border-top-color: var(--fill-color);\n",
              "    }\n",
              "    60% {\n",
              "      border-color: transparent;\n",
              "      border-right-color: var(--fill-color);\n",
              "    }\n",
              "    80% {\n",
              "      border-color: transparent;\n",
              "      border-right-color: var(--fill-color);\n",
              "      border-bottom-color: var(--fill-color);\n",
              "    }\n",
              "    90% {\n",
              "      border-color: transparent;\n",
              "      border-bottom-color: var(--fill-color);\n",
              "    }\n",
              "  }\n",
              "</style>\n",
              "\n",
              "  <script>\n",
              "    async function quickchart(key) {\n",
              "      const quickchartButtonEl =\n",
              "        document.querySelector('#' + key + ' button');\n",
              "      quickchartButtonEl.disabled = true;  // To prevent multiple clicks.\n",
              "      quickchartButtonEl.classList.add('colab-df-spinner');\n",
              "      try {\n",
              "        const charts = await google.colab.kernel.invokeFunction(\n",
              "            'suggestCharts', [key], {});\n",
              "      } catch (error) {\n",
              "        console.error('Error during call to suggestCharts:', error);\n",
              "      }\n",
              "      quickchartButtonEl.classList.remove('colab-df-spinner');\n",
              "      quickchartButtonEl.classList.add('colab-df-quickchart-complete');\n",
              "    }\n",
              "    (() => {\n",
              "      let quickchartButtonEl =\n",
              "        document.querySelector('#df-923949a9-43f3-4d27-87ef-0aa52925494a button');\n",
              "      quickchartButtonEl.style.display =\n",
              "        google.colab.kernel.accessAllowed ? 'block' : 'none';\n",
              "    })();\n",
              "  </script>\n",
              "</div>\n",
              "    </div>\n",
              "  </div>\n"
            ]
          },
          "metadata": {},
          "execution_count": 98
        }
      ]
    },
    {
      "cell_type": "code",
      "source": [
        "import plotly.express as px"
      ],
      "metadata": {
        "id": "EPTnCPYh5Szf"
      },
      "execution_count": null,
      "outputs": []
    },
    {
      "cell_type": "code",
      "source": [
        "histogram_avgsalarial = px.histogram(ds, x='avg_salarial', marginal='rug',labels={'avg_salarial':'média salarial'},color_discrete_sequence=['#a3a2a8'],template='plotly_white')\n",
        "histogram_avgsalarial.update_layout(title={\n",
        "    'text' : 'Frequência dos Data Scientists por média salarial',\n",
        "    'y': 0.95,\n",
        "    'x': 0.5\n",
        "})\n",
        "histogram_avgsalarial.show()"
      ],
      "metadata": {
        "colab": {
          "base_uri": "https://localhost:8080/",
          "height": 542
        },
        "id": "L4NeP4sf5UXR",
        "outputId": "ee147814-4c9f-4f0a-e1b9-4f634ade2e0d"
      },
      "execution_count": null,
      "outputs": [
        {
          "output_type": "display_data",
          "data": {
            "text/html": [
              "<html>\n",
              "<head><meta charset=\"utf-8\" /></head>\n",
              "<body>\n",
              "    <div>            <script src=\"https://cdnjs.cloudflare.com/ajax/libs/mathjax/2.7.5/MathJax.js?config=TeX-AMS-MML_SVG\"></script><script type=\"text/javascript\">if (window.MathJax && window.MathJax.Hub && window.MathJax.Hub.Config) {window.MathJax.Hub.Config({SVG: {font: \"STIX-Web\"}});}</script>                <script type=\"text/javascript\">window.PlotlyConfig = {MathJaxConfig: 'local'};</script>\n",
              "        <script charset=\"utf-8\" src=\"https://cdn.plot.ly/plotly-2.24.1.min.js\"></script>                <div id=\"c7534fea-ed63-434b-b935-30e783310e5f\" class=\"plotly-graph-div\" style=\"height:525px; width:100%;\"></div>            <script type=\"text/javascript\">                                    window.PLOTLYENV=window.PLOTLYENV || {};                                    if (document.getElementById(\"c7534fea-ed63-434b-b935-30e783310e5f\")) {                    Plotly.newPlot(                        \"c7534fea-ed63-434b-b935-30e783310e5f\",                        [{\"alignmentgroup\":\"True\",\"bingroup\":\"x\",\"hovertemplate\":\"m\\u00e9dia salarial=%{x}\\u003cbr\\u003ecount=%{y}\\u003cextra\\u003e\\u003c\\u002fextra\\u003e\",\"legendgroup\":\"\",\"marker\":{\"color\":\"#a3a2a8\",\"pattern\":{\"shape\":\"\"}},\"name\":\"\",\"offsetgroup\":\"\",\"orientation\":\"v\",\"showlegend\":false,\"x\":[12516,5916,11250,9166,15617,9506,15617,9506,15617,9506,15850,7925,13833,6091,17916,11833,22166,13916,18516,11333,20000,17500,9666,7500,12083,10666,12500,20633,10608,5000,4583,16883,14066,16916,10583,11083,4858,10875,9666,15833,13750,17375,13750,21558,14375,13833,6091,17666,7775,23225,13275,15666,11583,62500,12500,21666,11333,15666,11583,13208,9583,18687,10129,13833,6091,17116,7741,13333,9166,20166,8850,18333,10000,21500,14250,16000,14833,21666,11333,15000,11250,16666,10000,17533,14208,17666,7775,15450,6794,18516,11333,13833,6091,13833,6091,17666,7775,20604,9866,14354,10253,18250,11000,10875,9666,26941,15391,11333,7583,15491,10775,11250,9166,11458,6791,11666,10416,14218,10662,10253,7177,8333,18750,14166,11250,8333,24775,16516,18516,11333,18516,11333,5398,4768,1750,15833,13750,23333,15833,17666,7775,19680,13284,21500,14250,16666,12500,10867,7666,15325,9066,13833,6091,19270,9250,21558,14375,13008,8366,18333,13333,9166,7166,17733,10341,17083,13833,19304,15758,13008,8366,11542,7957,19350,11108,18000,15333,13833,8666,16316,13491,18750,13833,5000,4583,18750,13833,18333,12166,30833,16666,15000,13333,20775,12441,18516,11333,20675,12158,14183,6991,13833,7500,13333,7841,20633,10608,18516,11333,21666,11333,18516,11333,21666,11333,15020,9833,17733,9300,10908,6058,11083,4866,25466,14375,17666,7783,9916,5950,18758,11741,9666,7500,17666,7775,20900,13933,12000,6333,13037,9933,12500,10833,18333,15416,25254,16862,16804,10383,17666,7783,15400,13491,12283,8973,18775,16450,21666,11333,27475,16029,15491,10775,14354,10253,10916,9166,23407,15604,12500,6666,14166,10000,22700,11675,25591,18066,12800,8900,15000,13500,11542,7957,11458,6791,24416,15416,13750,9625,18516,11333,20506,15380,14000,10833,8750,5833,23475,11758,17333,11166,21558,13333,21558,15683,23958,14000,12750,11333,11333,8666,11916,9750,18000,15333,10833,9166,6152,4614,22941,15291,19166,16333,13666,10833,16804,10383,12916,11625,10000,8333,17916,15229,20675,12158,17250,11750,7500,4583,14916,14707,16250,11979,15000,13500,16583,16396,12500,10833,15491,10775,17041,11850,24750,11500,10937,10675,9666,7500,18916,15416,17375,13750,4048,3239,11458,6791,19166,16333,18000,15333,15833,11558,25666,12000,18333,15000,24166,14433,19583,17000,12916,8750,1619,15416,10250,12500,10833,12500,10416,12500,10833,13333,10833,18184,14878,18516,11333,26333,16833,18516,11333,15812,9934,11250,9500,18184,14878,20000,13600,17968,13281,22700,11675,17583,15416,21833,20416,15833,12500,22916,14583,17500,15000,14125,11500,23225,13275,24775,16516,17041,11575,21716,14208,17906,15570,17733,10341,20416,15416,16883,14066,13666,10833,14000,10833,16375,8108,18000,15333,13333,11666,14000,10833,33750,22500,12083,9583,10833,9416,16208,9187,24583,14775,11333,8666,18516,11333,16000,13666,29433,20775,12800,8900,18333,13583,14000,10833,8950,8458,25000,8333,13666,10833,25000,17583,13416,9691,12608,10508,16883,14066,20000,13083,14000,10833,15000,13333,11666,11666,17916,13333,16833,11666,8026,17000,10625,15833,13333,11333,8666,18083,16000,19575,9458,14183,6991,25666,12000,18516,11333,20000,15000,17500,13750,25000,12500,17733,9300,19166,12750,17000,10625,20833,10416,20000,15000,17500,13750,18516,11333,11250,9166,12500,10833,15491,10775,17041,11850,15000,13500,13037,9933,20416,15416,12900,6358,14883,7383,20675,12158,17278,15025,19003,16525,4048,3239,6510,3368,15000,13500,15416,10250,24675,12041,8333,14333,10416,12916,11583,19833,13000,14354,10253,21082,13514,17733,9300,15980,11186,19833,13000,16566,7558,14916,9083,15000,11666,18516,11333,19441,12958,18516,11333,17733,9591,17733,9300,13750,9691,27000,13250,12916,11250,14000,10833,13666,10833,17000,12500,18000,15333,18333,13333,18750,13033,24775,16516,16000,13666,21119,17731,18516,11333,22690,14114,16250,17041,11850,15000,13500,18607,10942,18333,11666,21666,13333,12500,10000,14166,12041,6664,4614,15491,10775,26333,16833,11666,8750,12083,9583,17041,11850,15491,10775,17041,11575,21416,16416,11278,8202,12800,8900,25254,16862,17325,13200,25254,16862,14350,10933,8750,5833,20000,11875,2910,20902,11947,16958,13875,15000,13500,13129,8720,17041,11850,10000,8333,15833,14166,18650,14341,21566,16600,14645,11395,19071,12045,12916,10416,14666,12666,18750,14396,11666,8333,31291,20858,9583,7500,18750,9330,4048,3239,25783,13258,15000,13500,2474,22333,11458,18000,15333,15833,12083,18833,13333,16566,10216,19166,16333,15125,10583,12291,9375,19500,14666,8997,3242,15491,10775,10575,6491,3648,14000,10833,12500,11666,18833,13500,13333,12083,10000,8333,17041,11850,19166,15000,13666,10833,17500,11333,11333,8666,16666,13333,18500,9660,17041,11850,10875,9250,18883,11675,18750,13033,18000,15333,19166,16333,18750,12725,16000,13666,17041,11850,20675,12158,15980,11193,11250,5833,14000,10833,29930,24624,4048,3239,21083,13500,13666,10833,29930,24624,12158,10675,11333,8666,16566,10216,15416,10500,13333,10833,10253,6152,20675,12158,14583,12500,15208,11250,17375,13750,17125,11041,17041,11850,21082,13514,18000,15333,25000,13333,13333,11666,22083,12750,19166,12750,12083,9583,18975,12903,30833,25000,17833,12833,17083,13125,15750,11416,14208,9881,17291,14408,11250,5833,21166,15416,18750,13033,2159,11246,15491,13942,24775,16516,15000,11416,22083,14333,13400,11016,17366,11583,7133,4076,22958,17166,19000,11333,14583,12916,17041,11850,19916,11333,14666,9893,17041,11575,19166,16333,22691,18566,16000,13666,15491,10775,23416,15083,26941,15391,20675,12158,15416,11475,17125,11041,23225,13275,15000,11666,19166,14583,21082,13514,25855,19923,21083,14336,20833,18750,17125,11041,12258,7558,15000,13500,14583,10000,16566,8766,15416,10166,15416,10166,17083,12500,3000,18883,11675,18516,11333,20583,9870,17041,11575,14350,10933,9228,7177,20333,13083,11333,7550,23416,15083,20833,13333,15266,10183,10916,8416,15583,10666,11666,10000,15416,12666,15812,12083,29930,25855,6854,5141,17041,11850,14500,11583,17733,10341,15812,9934,17125,11041,19833,13000,19000,11333,19441,12958,15833,12500,12891,9908,13000,8750,17123,13046,19166,14583,22083,12750,11250,8333,5844,4306,7690,6664,5398,18750,13033,12083,9583,13666,10833,10976,26941,15391,12500,10833,16750,10166,11666,10500,14166,10833,15491,10775,18750,13033,18750,13033,15491,10775,17041,11850,5126,4101,18750,13033,15491,10775,24958,20425,12800,8900,5938,10416,7500,18516,11333,13416,12583,17875,12500,15491,13942,21666,11333,18750,13033,16000,13666,14583,10416,17733,9300,17123,13046,13666,10833,15491,10775,20675,12158,20675,12158,22783,15183,23750,12833,18333,14166,20833,10416,22916,16666,22916,16666,14750,11333,11666,10500,24958,20800,11250,8750,22258,13933,16833,11666,12577,11937,23108,17775,15000,11250,21666,11333,15354,13958,19166,14583,11333,8666,15000,10000,15491,10775,12800,8900,19166,16333,15491,10775,20675,12158,20675,12158,16000,13666,13333,21666,11333,19583,17000,16500,11000,11800,7866,17454,13963,13666,19833,12458,21500,16833,18516,11333,19000,11333,14583,12083,18333,15833,23225,13275,26941,15391,14000,10833,18500,13875,11333,8666,12916,11625,16666,10000,10541,6500,13145,8720,14666,11083,15833,13173,20900,13933,20900,13933,13258,10013,18750,13033,21666,11333,18333,12500,16666,12500,10056,6034,16000,13666,20833,14166,20833,16666,11333,8666,19166,14583,29930,25855,29930,24624,14880,12400,23225,13275,26941,15391,16833,11666,19583,16666,29930,24624,26333,16833,21666,11333,15416,7225,18516,11333,12916,11625,18516,11333,17041,10533,25783,13258,15833,14583,24958,20425,19071,12045,17500,12650,10541,6500,4048,3239,8750,5833,26941,15391,17095,13987,22258,13933,18516,11333,23225,13275,18562,15187,8668,4228,17166,11687,16500,10333,18516,11333,7177,4306,21500,15833,15348,13953,2699,11333,8666,11625,7500,15916,12166,12916,11625,17454,13963,1333,19166,14583,25855,21119,23583,15333,18333,15416,20541,11125,14500,11166,29930,25855,29930,24624,27500,19166,25783,13258,10253,6152,29930,24624,18000,15333,17083,13333,18516,11333,17041,10533,25000,20000,13600,18500,13875,28750,19558,14083,10775,15812,10925,24958,20425,30833,16666,15000,11666,15833,10416,19166,14583,14583,13333,21250,13333,25783,13258,12916,8500,31166,16458,21666,11333,20000,15583,1666,16250,9916,18000,15333,22204,14808,20416,15416,18516,11333,15833,17041,10533,8333,10729,6612,15491,10775,17804,11869,15491,10775,16666,8333,21666,11333,14583,12395,11250,7916,18936,16466,13416,11666,17500,14875,21666,11333,25783,13258,12258,7558,20000,11833,22500,18333,18750,13033,15491,10775,18750,13033,8368,4048,3239,15491,10775,23333,6375,20833,15000,20000,13083,18516,11333,2000,21666,11333,15491,10775,16000,14833,18166,7083,21666,11333,18166,7083,10833,7083,15333,10250,14033,7558,21500,15833,14033,8766,20675,12158,20675,12158,14166,10416,18516,11333,20675,12158,21666,16000,10000,7500,18166,9833,17500,14000,21562,15416,18750,12083,4048,3239,15833,13750,14583,13333,13333,11250,15491,10775,14000,10833,15491,10775,20029,14566,14000,10833,16000,13666,19433,11666,12083,10000,16666,14166,12510,10008,16666,14166,15491,10775,21250,14083,12916,8333,12617,9613,20833,10416,20506,16918,21666,11333,20833,14166,16566,8766,18516,11333,21333,13333,18333,12500,16000,13666,17136,11883,20333,16416,27333,17583,19750,16787,19250,11166,23816,12883,2916,18750,13033,16333,10083,18250,11750,16000,13666,15833,13333,19071,12045,11666,9583,21666,11333,23416,15083,16000,13666,3333,4048,3239,11666,8750,10833,5992,12500,10833,21666,11333,6482,4617,21666,11333,23125,17166,18516,11333,19708,14666,14400,9166,21666,11333,12500,8333,3000,14775,11358,15833,13750,18516,11333,28033,16825,15812,10925,22500,7916,20333,16666,17500,13333,17500,13333,17500,13333,17500,13333,17500,13333,17500,13333,17500,13333,17500,13333,19708,14666,8750,8541,30833,16666,24958,20425,13333,10000,14166,12500,18750,14583,15812,10925,23750,16158,17833,13666,14166,12916,15491,10775,18516,11333,4048,3239,23402,14431,16250,13333,22941,15291,14583,12083,14583,13333,12916,10416,18516,11333,15327,10480,7197,14583,10000,18516,11333,18250,11750,12258,7558,17805,10896,14166,12500,17051,9223,17729,15416,21833,20416,22941,15291,18208,16591,21562,15416,14375,9208,25783,13258,19750,16787,5421,4048,3239,8750,5833,18333,12500,10000,11565,6939,16250,13333,1722,25783,13258,18516,11333,5639,4614,19000,15500,15833,14166,18666,14666,5636,20833,13541,16958,12666,19916,10241,19750,12083,15980,11186,7354,14583,12083,4048,3239,21666,11333,21666,11333,10833,9166,17083,15333,16250,13333,14166,11250,14583,12083,16583,13500,18516,11333,17500,11333,14583,8333,20416,15000,17500,12916,13750,11666,4321,10833,5992,7826,4330,16916,11100,17805,10896,15491,10775,19833,13000,11666,9166,16528,8671,13145,8720,15000,11666,16666,12083,4048,3239,21000,12833,15980,11186,14583,12083,19750,12083,16666,14166,14270,9479,18516,11333,21666,11333,17083,15333,21500,15833,14166,11250,16250,13333,29433,20775,24775,16516,17500,12650,16666,14166,26422,14227,18750,14583,16666,12500,22941,15250,20833,16666,15491,10775,14416,11000,22941,15291,12083,8333,8097,6748,22941,15291,6664,4306,15833,10000,7177,4306,9228,6152,10219,6128,14359,5038,16753,11168,14333,9583,19750,12083,21500,15833,19979,13319,15525,8541,15833,10500,14583,10000,24958,20425,12083,8333,17500,13333,12083,8333,18516,11333,16666,12083,17083,11666,24775,16516,11774,7849,1418,8750,5833,12500,8333,4948,4048,12500,19979,13319,10729,8854,24958,20425,8708,5833,7500,5833,15416,10416,17545,12775,16666,12500,14583,12395,17916,12191,15525,10325,28333,12500,5398,12423,6863,12500,8333,12500,8145,16750,10166,9749,6910,15491,10775,16750,10166,15833,11333,22941,15250,14583,13333,18750,13033,20833,16666,21666,15500,16666,12500,4048,3239,12500,10000,15416,10416,8833,12500,7500,3333,2441,11333,8666,15491,10775,16000,13524,10754,12423,6863,14583,10000,14000,12258,7558,25020,16680,25020,16680,30833,20416,24958,20425,10541,6500,12916,11625,1659,20625,14350,18750,13033,15491,10775,6152,5126,17920,13033,17441,15183,7083,21145,14100,21145,14100,14166,10000,19270,11562,18825,13033,12083,11250,14166,7500,12423,6863,14583,12395,30833,16666,19583,15416,18008,11733,9166,20675,12158,12617,9613,10495,20833,13541,15416,10020,15000,7083,5833,18750,13033,18750,13033,1916,26175,16316,17083,15000,13750,12000,8750,5833,15250,11166,29166,21875,18750,13033,19000,12666,17454,13223,12916,5308,19750,12083,20000,11583,23816,12883,5067,18333,16250,10352,6211,22941,15291,22941,15291,12500,10000,11333,8666,9166,7000,15833,13750,18750,13033,6666,21416,11166,6478,3239,24958,20425,17500,12650,4498,19750,12083,10833,7500,15275,15275,17500,15416,10166,7833,18333,12166,2051,12083,10666,15166,11666,25000,16666,9166,11333,8666,14000,10833,12783,10225,15416,13333,17083,15416,4166,18650,14341,15000,12500,15000,12083,14033,8766,11666,8333,12500,10000,24775,16516,24775,16516,9166,7000,19166,16333,15491,10775,10508,6000,15625,13750,17500,13812,11250,9583,14166,11666,4507,8333,16666,12500,20833,16666,22712,16516,15166,11666,10000,8750,11925,9416,15333,11833,11666,10000,15046,9620,11666,10000,20675,12158,10000,9166,10833,10833,7500,12500,11666,10166,7875,12083,10666,12500,10625,10541,4250,3333,22712,16516,7880,4377,18333,12166,4726,2013,11666,10000,12500,9166,15833,12916,7695,5643,14583,10000,15333,11833,12083,8333,2649,16000,13666,15833,12500,3940,3152,14583,11666,20791,12487,20791,12487,17500,12500,15229,13458,17500,12500,11333,8666,13250,10833,10352,6211,3940,3152,10666,6791,14416,9166,13750,10416,19166,16333,15000,10000,5253,4377,10833,7916,16958,12666,10000,5848,4309,15491,10775,3940,3152,11666,10000,9166,5833,5340,5078,10833,7500,11666,10000,15000,10000,15491,10775,14583,12083,2276,3940,3152,16566,10216,12333,8916,24958,20425,14000,10833,11333,8666,17083,15333,15491,10775,20625,14350,17083,15333,19166,16333,6666,17333,10583,25000,16333,3940,3152,17083,15416,15491,10775,15491,10775,17083,15333,1473,31250,18750,13033,15491,10775,11725,7816,29166,11250,20625,14350,14791,11166,15491,10775,20325,13050,7442,10000,8333,7083,6500,11333,8666,3940,3152,20416,15000,16536,12000,16536,12000,4822,3327,13308,11578,15000,11666,18750,13033,15000,8333,14583,10208,16900,8691,15491,10775,2500,7000,4500,6666,6145,13750,2770,15491,10775,18750,13033,15491,10775,12916,3166,12916,3166,12800,8900,15416,4166,12916,3166,14000,10833,10283,7341,10000,4583,15491,10775,11583,10166,15491,10775,18750,13033,16666,14583,15416,4166,3940,3152,12016,9613,6930,9000,16536,12000,15956,11793,6304,13072,16536,12000,10506,7004,17916,13250,15250,19741,13266,20268,14981,12333,10666,15956,11793,18166,12108,15956,11793,17250,12750,15956,11793,15956,11793,15956,11793,15956,11793,17250,12750,15956,11793,15956,11793,15956,11793,8516,1907,15000,13750,14950,12833,18553,15180,7750,6083,11416,8464,15956,11793,4815,14333,11666,15956,11793,17733,11900,6128,4166,12650,10853,14950,12833,15956,11793,15956,11793,15956,11793,15956,11793,15956,11793,15956,11793,15956,11793,15956,11793,2626,17008,11341,9850,9235,15956,11793,15956,11793,15956,11793,14166,10833,14583,11666,2495,13333,9941,12083,18750,13333,4552,6833,9166,16958,12666,13166,11166,14166,10000,9631,7442,17166,14591,10283,7341,20416,17083,7004,5130,15791,11675,15000,11666,4451,4166,7004,10979,21708,14591,4334,13333,8333,5078,20771,15450,6669,13333,7666,13333,9941,2083,12750,13333,7666,11147,15500,12400,25000,16666,4105,17941,13183,14166,10250,17941,11700,21666,15000,5643,3591,5000,20083,13250,15000,6666,5130,3078,13768,10013,15000,10000,10833,7500,11385,8280,9235,8208,12166,10250,13445,11428,13916,10250,17625,11550,12500,7962,18666,13989,17108,11700,14666,12000,17108,11700,11775,8508,19166,12500,13333,10833,17500,11666,17500,11666,17500,11666,17500,11666,19166,11666,18333,11666,14365,7182,16666,10000,15425,8740,16003,2543,1483,13083,9083,5633,4256,6500,3333,7442,6930,13750,8333,2800,5833,5165,12708,10000,11250,20000,6666,31666,10033,14750,4000,18333,8333,8333,8333,12000,12958,6875,4137,3380,9169,5220,20833,10835,5319,5702,7083,37500,10601,12000,6314,12500,8583,4166,4519,12805,6877,3813,4432,6402,15620,6413,2479,8750,2366,5063,7500,3053,13750,8640,3500,9583,5317,9166,6652,8333,1680,4833,8333,6473,6402,8750,2127,1408,15833,11820,2977,11250,4507,12250,8009,14500,4276,3373,5811,3326,7561,3336,7500,5122,3152,34666,4688,2817,9742,7387,4728,27083,13333,4166,3349,3516,5227,7561,1805,10000,7311,12666,10833,14480,12355,3231,3900,7603,5227,9583,19583,6083,15850,9833,11529,14000,9921,34333,12583,8750,7888],\"xaxis\":\"x\",\"yaxis\":\"y\",\"type\":\"histogram\"},{\"alignmentgroup\":\"True\",\"boxpoints\":\"all\",\"fillcolor\":\"rgba(255,255,255,0)\",\"hoveron\":\"points\",\"hovertemplate\":\"m\\u00e9dia salarial=%{x}\\u003cextra\\u003e\\u003c\\u002fextra\\u003e\",\"jitter\":0,\"legendgroup\":\"\",\"line\":{\"color\":\"rgba(255,255,255,0)\"},\"marker\":{\"color\":\"#a3a2a8\",\"symbol\":\"line-ns-open\"},\"name\":\"\",\"offsetgroup\":\"\",\"showlegend\":false,\"x\":[12516,5916,11250,9166,15617,9506,15617,9506,15617,9506,15850,7925,13833,6091,17916,11833,22166,13916,18516,11333,20000,17500,9666,7500,12083,10666,12500,20633,10608,5000,4583,16883,14066,16916,10583,11083,4858,10875,9666,15833,13750,17375,13750,21558,14375,13833,6091,17666,7775,23225,13275,15666,11583,62500,12500,21666,11333,15666,11583,13208,9583,18687,10129,13833,6091,17116,7741,13333,9166,20166,8850,18333,10000,21500,14250,16000,14833,21666,11333,15000,11250,16666,10000,17533,14208,17666,7775,15450,6794,18516,11333,13833,6091,13833,6091,17666,7775,20604,9866,14354,10253,18250,11000,10875,9666,26941,15391,11333,7583,15491,10775,11250,9166,11458,6791,11666,10416,14218,10662,10253,7177,8333,18750,14166,11250,8333,24775,16516,18516,11333,18516,11333,5398,4768,1750,15833,13750,23333,15833,17666,7775,19680,13284,21500,14250,16666,12500,10867,7666,15325,9066,13833,6091,19270,9250,21558,14375,13008,8366,18333,13333,9166,7166,17733,10341,17083,13833,19304,15758,13008,8366,11542,7957,19350,11108,18000,15333,13833,8666,16316,13491,18750,13833,5000,4583,18750,13833,18333,12166,30833,16666,15000,13333,20775,12441,18516,11333,20675,12158,14183,6991,13833,7500,13333,7841,20633,10608,18516,11333,21666,11333,18516,11333,21666,11333,15020,9833,17733,9300,10908,6058,11083,4866,25466,14375,17666,7783,9916,5950,18758,11741,9666,7500,17666,7775,20900,13933,12000,6333,13037,9933,12500,10833,18333,15416,25254,16862,16804,10383,17666,7783,15400,13491,12283,8973,18775,16450,21666,11333,27475,16029,15491,10775,14354,10253,10916,9166,23407,15604,12500,6666,14166,10000,22700,11675,25591,18066,12800,8900,15000,13500,11542,7957,11458,6791,24416,15416,13750,9625,18516,11333,20506,15380,14000,10833,8750,5833,23475,11758,17333,11166,21558,13333,21558,15683,23958,14000,12750,11333,11333,8666,11916,9750,18000,15333,10833,9166,6152,4614,22941,15291,19166,16333,13666,10833,16804,10383,12916,11625,10000,8333,17916,15229,20675,12158,17250,11750,7500,4583,14916,14707,16250,11979,15000,13500,16583,16396,12500,10833,15491,10775,17041,11850,24750,11500,10937,10675,9666,7500,18916,15416,17375,13750,4048,3239,11458,6791,19166,16333,18000,15333,15833,11558,25666,12000,18333,15000,24166,14433,19583,17000,12916,8750,1619,15416,10250,12500,10833,12500,10416,12500,10833,13333,10833,18184,14878,18516,11333,26333,16833,18516,11333,15812,9934,11250,9500,18184,14878,20000,13600,17968,13281,22700,11675,17583,15416,21833,20416,15833,12500,22916,14583,17500,15000,14125,11500,23225,13275,24775,16516,17041,11575,21716,14208,17906,15570,17733,10341,20416,15416,16883,14066,13666,10833,14000,10833,16375,8108,18000,15333,13333,11666,14000,10833,33750,22500,12083,9583,10833,9416,16208,9187,24583,14775,11333,8666,18516,11333,16000,13666,29433,20775,12800,8900,18333,13583,14000,10833,8950,8458,25000,8333,13666,10833,25000,17583,13416,9691,12608,10508,16883,14066,20000,13083,14000,10833,15000,13333,11666,11666,17916,13333,16833,11666,8026,17000,10625,15833,13333,11333,8666,18083,16000,19575,9458,14183,6991,25666,12000,18516,11333,20000,15000,17500,13750,25000,12500,17733,9300,19166,12750,17000,10625,20833,10416,20000,15000,17500,13750,18516,11333,11250,9166,12500,10833,15491,10775,17041,11850,15000,13500,13037,9933,20416,15416,12900,6358,14883,7383,20675,12158,17278,15025,19003,16525,4048,3239,6510,3368,15000,13500,15416,10250,24675,12041,8333,14333,10416,12916,11583,19833,13000,14354,10253,21082,13514,17733,9300,15980,11186,19833,13000,16566,7558,14916,9083,15000,11666,18516,11333,19441,12958,18516,11333,17733,9591,17733,9300,13750,9691,27000,13250,12916,11250,14000,10833,13666,10833,17000,12500,18000,15333,18333,13333,18750,13033,24775,16516,16000,13666,21119,17731,18516,11333,22690,14114,16250,17041,11850,15000,13500,18607,10942,18333,11666,21666,13333,12500,10000,14166,12041,6664,4614,15491,10775,26333,16833,11666,8750,12083,9583,17041,11850,15491,10775,17041,11575,21416,16416,11278,8202,12800,8900,25254,16862,17325,13200,25254,16862,14350,10933,8750,5833,20000,11875,2910,20902,11947,16958,13875,15000,13500,13129,8720,17041,11850,10000,8333,15833,14166,18650,14341,21566,16600,14645,11395,19071,12045,12916,10416,14666,12666,18750,14396,11666,8333,31291,20858,9583,7500,18750,9330,4048,3239,25783,13258,15000,13500,2474,22333,11458,18000,15333,15833,12083,18833,13333,16566,10216,19166,16333,15125,10583,12291,9375,19500,14666,8997,3242,15491,10775,10575,6491,3648,14000,10833,12500,11666,18833,13500,13333,12083,10000,8333,17041,11850,19166,15000,13666,10833,17500,11333,11333,8666,16666,13333,18500,9660,17041,11850,10875,9250,18883,11675,18750,13033,18000,15333,19166,16333,18750,12725,16000,13666,17041,11850,20675,12158,15980,11193,11250,5833,14000,10833,29930,24624,4048,3239,21083,13500,13666,10833,29930,24624,12158,10675,11333,8666,16566,10216,15416,10500,13333,10833,10253,6152,20675,12158,14583,12500,15208,11250,17375,13750,17125,11041,17041,11850,21082,13514,18000,15333,25000,13333,13333,11666,22083,12750,19166,12750,12083,9583,18975,12903,30833,25000,17833,12833,17083,13125,15750,11416,14208,9881,17291,14408,11250,5833,21166,15416,18750,13033,2159,11246,15491,13942,24775,16516,15000,11416,22083,14333,13400,11016,17366,11583,7133,4076,22958,17166,19000,11333,14583,12916,17041,11850,19916,11333,14666,9893,17041,11575,19166,16333,22691,18566,16000,13666,15491,10775,23416,15083,26941,15391,20675,12158,15416,11475,17125,11041,23225,13275,15000,11666,19166,14583,21082,13514,25855,19923,21083,14336,20833,18750,17125,11041,12258,7558,15000,13500,14583,10000,16566,8766,15416,10166,15416,10166,17083,12500,3000,18883,11675,18516,11333,20583,9870,17041,11575,14350,10933,9228,7177,20333,13083,11333,7550,23416,15083,20833,13333,15266,10183,10916,8416,15583,10666,11666,10000,15416,12666,15812,12083,29930,25855,6854,5141,17041,11850,14500,11583,17733,10341,15812,9934,17125,11041,19833,13000,19000,11333,19441,12958,15833,12500,12891,9908,13000,8750,17123,13046,19166,14583,22083,12750,11250,8333,5844,4306,7690,6664,5398,18750,13033,12083,9583,13666,10833,10976,26941,15391,12500,10833,16750,10166,11666,10500,14166,10833,15491,10775,18750,13033,18750,13033,15491,10775,17041,11850,5126,4101,18750,13033,15491,10775,24958,20425,12800,8900,5938,10416,7500,18516,11333,13416,12583,17875,12500,15491,13942,21666,11333,18750,13033,16000,13666,14583,10416,17733,9300,17123,13046,13666,10833,15491,10775,20675,12158,20675,12158,22783,15183,23750,12833,18333,14166,20833,10416,22916,16666,22916,16666,14750,11333,11666,10500,24958,20800,11250,8750,22258,13933,16833,11666,12577,11937,23108,17775,15000,11250,21666,11333,15354,13958,19166,14583,11333,8666,15000,10000,15491,10775,12800,8900,19166,16333,15491,10775,20675,12158,20675,12158,16000,13666,13333,21666,11333,19583,17000,16500,11000,11800,7866,17454,13963,13666,19833,12458,21500,16833,18516,11333,19000,11333,14583,12083,18333,15833,23225,13275,26941,15391,14000,10833,18500,13875,11333,8666,12916,11625,16666,10000,10541,6500,13145,8720,14666,11083,15833,13173,20900,13933,20900,13933,13258,10013,18750,13033,21666,11333,18333,12500,16666,12500,10056,6034,16000,13666,20833,14166,20833,16666,11333,8666,19166,14583,29930,25855,29930,24624,14880,12400,23225,13275,26941,15391,16833,11666,19583,16666,29930,24624,26333,16833,21666,11333,15416,7225,18516,11333,12916,11625,18516,11333,17041,10533,25783,13258,15833,14583,24958,20425,19071,12045,17500,12650,10541,6500,4048,3239,8750,5833,26941,15391,17095,13987,22258,13933,18516,11333,23225,13275,18562,15187,8668,4228,17166,11687,16500,10333,18516,11333,7177,4306,21500,15833,15348,13953,2699,11333,8666,11625,7500,15916,12166,12916,11625,17454,13963,1333,19166,14583,25855,21119,23583,15333,18333,15416,20541,11125,14500,11166,29930,25855,29930,24624,27500,19166,25783,13258,10253,6152,29930,24624,18000,15333,17083,13333,18516,11333,17041,10533,25000,20000,13600,18500,13875,28750,19558,14083,10775,15812,10925,24958,20425,30833,16666,15000,11666,15833,10416,19166,14583,14583,13333,21250,13333,25783,13258,12916,8500,31166,16458,21666,11333,20000,15583,1666,16250,9916,18000,15333,22204,14808,20416,15416,18516,11333,15833,17041,10533,8333,10729,6612,15491,10775,17804,11869,15491,10775,16666,8333,21666,11333,14583,12395,11250,7916,18936,16466,13416,11666,17500,14875,21666,11333,25783,13258,12258,7558,20000,11833,22500,18333,18750,13033,15491,10775,18750,13033,8368,4048,3239,15491,10775,23333,6375,20833,15000,20000,13083,18516,11333,2000,21666,11333,15491,10775,16000,14833,18166,7083,21666,11333,18166,7083,10833,7083,15333,10250,14033,7558,21500,15833,14033,8766,20675,12158,20675,12158,14166,10416,18516,11333,20675,12158,21666,16000,10000,7500,18166,9833,17500,14000,21562,15416,18750,12083,4048,3239,15833,13750,14583,13333,13333,11250,15491,10775,14000,10833,15491,10775,20029,14566,14000,10833,16000,13666,19433,11666,12083,10000,16666,14166,12510,10008,16666,14166,15491,10775,21250,14083,12916,8333,12617,9613,20833,10416,20506,16918,21666,11333,20833,14166,16566,8766,18516,11333,21333,13333,18333,12500,16000,13666,17136,11883,20333,16416,27333,17583,19750,16787,19250,11166,23816,12883,2916,18750,13033,16333,10083,18250,11750,16000,13666,15833,13333,19071,12045,11666,9583,21666,11333,23416,15083,16000,13666,3333,4048,3239,11666,8750,10833,5992,12500,10833,21666,11333,6482,4617,21666,11333,23125,17166,18516,11333,19708,14666,14400,9166,21666,11333,12500,8333,3000,14775,11358,15833,13750,18516,11333,28033,16825,15812,10925,22500,7916,20333,16666,17500,13333,17500,13333,17500,13333,17500,13333,17500,13333,17500,13333,17500,13333,17500,13333,19708,14666,8750,8541,30833,16666,24958,20425,13333,10000,14166,12500,18750,14583,15812,10925,23750,16158,17833,13666,14166,12916,15491,10775,18516,11333,4048,3239,23402,14431,16250,13333,22941,15291,14583,12083,14583,13333,12916,10416,18516,11333,15327,10480,7197,14583,10000,18516,11333,18250,11750,12258,7558,17805,10896,14166,12500,17051,9223,17729,15416,21833,20416,22941,15291,18208,16591,21562,15416,14375,9208,25783,13258,19750,16787,5421,4048,3239,8750,5833,18333,12500,10000,11565,6939,16250,13333,1722,25783,13258,18516,11333,5639,4614,19000,15500,15833,14166,18666,14666,5636,20833,13541,16958,12666,19916,10241,19750,12083,15980,11186,7354,14583,12083,4048,3239,21666,11333,21666,11333,10833,9166,17083,15333,16250,13333,14166,11250,14583,12083,16583,13500,18516,11333,17500,11333,14583,8333,20416,15000,17500,12916,13750,11666,4321,10833,5992,7826,4330,16916,11100,17805,10896,15491,10775,19833,13000,11666,9166,16528,8671,13145,8720,15000,11666,16666,12083,4048,3239,21000,12833,15980,11186,14583,12083,19750,12083,16666,14166,14270,9479,18516,11333,21666,11333,17083,15333,21500,15833,14166,11250,16250,13333,29433,20775,24775,16516,17500,12650,16666,14166,26422,14227,18750,14583,16666,12500,22941,15250,20833,16666,15491,10775,14416,11000,22941,15291,12083,8333,8097,6748,22941,15291,6664,4306,15833,10000,7177,4306,9228,6152,10219,6128,14359,5038,16753,11168,14333,9583,19750,12083,21500,15833,19979,13319,15525,8541,15833,10500,14583,10000,24958,20425,12083,8333,17500,13333,12083,8333,18516,11333,16666,12083,17083,11666,24775,16516,11774,7849,1418,8750,5833,12500,8333,4948,4048,12500,19979,13319,10729,8854,24958,20425,8708,5833,7500,5833,15416,10416,17545,12775,16666,12500,14583,12395,17916,12191,15525,10325,28333,12500,5398,12423,6863,12500,8333,12500,8145,16750,10166,9749,6910,15491,10775,16750,10166,15833,11333,22941,15250,14583,13333,18750,13033,20833,16666,21666,15500,16666,12500,4048,3239,12500,10000,15416,10416,8833,12500,7500,3333,2441,11333,8666,15491,10775,16000,13524,10754,12423,6863,14583,10000,14000,12258,7558,25020,16680,25020,16680,30833,20416,24958,20425,10541,6500,12916,11625,1659,20625,14350,18750,13033,15491,10775,6152,5126,17920,13033,17441,15183,7083,21145,14100,21145,14100,14166,10000,19270,11562,18825,13033,12083,11250,14166,7500,12423,6863,14583,12395,30833,16666,19583,15416,18008,11733,9166,20675,12158,12617,9613,10495,20833,13541,15416,10020,15000,7083,5833,18750,13033,18750,13033,1916,26175,16316,17083,15000,13750,12000,8750,5833,15250,11166,29166,21875,18750,13033,19000,12666,17454,13223,12916,5308,19750,12083,20000,11583,23816,12883,5067,18333,16250,10352,6211,22941,15291,22941,15291,12500,10000,11333,8666,9166,7000,15833,13750,18750,13033,6666,21416,11166,6478,3239,24958,20425,17500,12650,4498,19750,12083,10833,7500,15275,15275,17500,15416,10166,7833,18333,12166,2051,12083,10666,15166,11666,25000,16666,9166,11333,8666,14000,10833,12783,10225,15416,13333,17083,15416,4166,18650,14341,15000,12500,15000,12083,14033,8766,11666,8333,12500,10000,24775,16516,24775,16516,9166,7000,19166,16333,15491,10775,10508,6000,15625,13750,17500,13812,11250,9583,14166,11666,4507,8333,16666,12500,20833,16666,22712,16516,15166,11666,10000,8750,11925,9416,15333,11833,11666,10000,15046,9620,11666,10000,20675,12158,10000,9166,10833,10833,7500,12500,11666,10166,7875,12083,10666,12500,10625,10541,4250,3333,22712,16516,7880,4377,18333,12166,4726,2013,11666,10000,12500,9166,15833,12916,7695,5643,14583,10000,15333,11833,12083,8333,2649,16000,13666,15833,12500,3940,3152,14583,11666,20791,12487,20791,12487,17500,12500,15229,13458,17500,12500,11333,8666,13250,10833,10352,6211,3940,3152,10666,6791,14416,9166,13750,10416,19166,16333,15000,10000,5253,4377,10833,7916,16958,12666,10000,5848,4309,15491,10775,3940,3152,11666,10000,9166,5833,5340,5078,10833,7500,11666,10000,15000,10000,15491,10775,14583,12083,2276,3940,3152,16566,10216,12333,8916,24958,20425,14000,10833,11333,8666,17083,15333,15491,10775,20625,14350,17083,15333,19166,16333,6666,17333,10583,25000,16333,3940,3152,17083,15416,15491,10775,15491,10775,17083,15333,1473,31250,18750,13033,15491,10775,11725,7816,29166,11250,20625,14350,14791,11166,15491,10775,20325,13050,7442,10000,8333,7083,6500,11333,8666,3940,3152,20416,15000,16536,12000,16536,12000,4822,3327,13308,11578,15000,11666,18750,13033,15000,8333,14583,10208,16900,8691,15491,10775,2500,7000,4500,6666,6145,13750,2770,15491,10775,18750,13033,15491,10775,12916,3166,12916,3166,12800,8900,15416,4166,12916,3166,14000,10833,10283,7341,10000,4583,15491,10775,11583,10166,15491,10775,18750,13033,16666,14583,15416,4166,3940,3152,12016,9613,6930,9000,16536,12000,15956,11793,6304,13072,16536,12000,10506,7004,17916,13250,15250,19741,13266,20268,14981,12333,10666,15956,11793,18166,12108,15956,11793,17250,12750,15956,11793,15956,11793,15956,11793,15956,11793,17250,12750,15956,11793,15956,11793,15956,11793,8516,1907,15000,13750,14950,12833,18553,15180,7750,6083,11416,8464,15956,11793,4815,14333,11666,15956,11793,17733,11900,6128,4166,12650,10853,14950,12833,15956,11793,15956,11793,15956,11793,15956,11793,15956,11793,15956,11793,15956,11793,15956,11793,2626,17008,11341,9850,9235,15956,11793,15956,11793,15956,11793,14166,10833,14583,11666,2495,13333,9941,12083,18750,13333,4552,6833,9166,16958,12666,13166,11166,14166,10000,9631,7442,17166,14591,10283,7341,20416,17083,7004,5130,15791,11675,15000,11666,4451,4166,7004,10979,21708,14591,4334,13333,8333,5078,20771,15450,6669,13333,7666,13333,9941,2083,12750,13333,7666,11147,15500,12400,25000,16666,4105,17941,13183,14166,10250,17941,11700,21666,15000,5643,3591,5000,20083,13250,15000,6666,5130,3078,13768,10013,15000,10000,10833,7500,11385,8280,9235,8208,12166,10250,13445,11428,13916,10250,17625,11550,12500,7962,18666,13989,17108,11700,14666,12000,17108,11700,11775,8508,19166,12500,13333,10833,17500,11666,17500,11666,17500,11666,17500,11666,19166,11666,18333,11666,14365,7182,16666,10000,15425,8740,16003,2543,1483,13083,9083,5633,4256,6500,3333,7442,6930,13750,8333,2800,5833,5165,12708,10000,11250,20000,6666,31666,10033,14750,4000,18333,8333,8333,8333,12000,12958,6875,4137,3380,9169,5220,20833,10835,5319,5702,7083,37500,10601,12000,6314,12500,8583,4166,4519,12805,6877,3813,4432,6402,15620,6413,2479,8750,2366,5063,7500,3053,13750,8640,3500,9583,5317,9166,6652,8333,1680,4833,8333,6473,6402,8750,2127,1408,15833,11820,2977,11250,4507,12250,8009,14500,4276,3373,5811,3326,7561,3336,7500,5122,3152,34666,4688,2817,9742,7387,4728,27083,13333,4166,3349,3516,5227,7561,1805,10000,7311,12666,10833,14480,12355,3231,3900,7603,5227,9583,19583,6083,15850,9833,11529,14000,9921,34333,12583,8750,7888],\"xaxis\":\"x2\",\"yaxis\":\"y2\",\"type\":\"box\"}],                        {\"template\":{\"data\":{\"barpolar\":[{\"marker\":{\"line\":{\"color\":\"white\",\"width\":0.5},\"pattern\":{\"fillmode\":\"overlay\",\"size\":10,\"solidity\":0.2}},\"type\":\"barpolar\"}],\"bar\":[{\"error_x\":{\"color\":\"#2a3f5f\"},\"error_y\":{\"color\":\"#2a3f5f\"},\"marker\":{\"line\":{\"color\":\"white\",\"width\":0.5},\"pattern\":{\"fillmode\":\"overlay\",\"size\":10,\"solidity\":0.2}},\"type\":\"bar\"}],\"carpet\":[{\"aaxis\":{\"endlinecolor\":\"#2a3f5f\",\"gridcolor\":\"#C8D4E3\",\"linecolor\":\"#C8D4E3\",\"minorgridcolor\":\"#C8D4E3\",\"startlinecolor\":\"#2a3f5f\"},\"baxis\":{\"endlinecolor\":\"#2a3f5f\",\"gridcolor\":\"#C8D4E3\",\"linecolor\":\"#C8D4E3\",\"minorgridcolor\":\"#C8D4E3\",\"startlinecolor\":\"#2a3f5f\"},\"type\":\"carpet\"}],\"choropleth\":[{\"colorbar\":{\"outlinewidth\":0,\"ticks\":\"\"},\"type\":\"choropleth\"}],\"contourcarpet\":[{\"colorbar\":{\"outlinewidth\":0,\"ticks\":\"\"},\"type\":\"contourcarpet\"}],\"contour\":[{\"colorbar\":{\"outlinewidth\":0,\"ticks\":\"\"},\"colorscale\":[[0.0,\"#0d0887\"],[0.1111111111111111,\"#46039f\"],[0.2222222222222222,\"#7201a8\"],[0.3333333333333333,\"#9c179e\"],[0.4444444444444444,\"#bd3786\"],[0.5555555555555556,\"#d8576b\"],[0.6666666666666666,\"#ed7953\"],[0.7777777777777778,\"#fb9f3a\"],[0.8888888888888888,\"#fdca26\"],[1.0,\"#f0f921\"]],\"type\":\"contour\"}],\"heatmapgl\":[{\"colorbar\":{\"outlinewidth\":0,\"ticks\":\"\"},\"colorscale\":[[0.0,\"#0d0887\"],[0.1111111111111111,\"#46039f\"],[0.2222222222222222,\"#7201a8\"],[0.3333333333333333,\"#9c179e\"],[0.4444444444444444,\"#bd3786\"],[0.5555555555555556,\"#d8576b\"],[0.6666666666666666,\"#ed7953\"],[0.7777777777777778,\"#fb9f3a\"],[0.8888888888888888,\"#fdca26\"],[1.0,\"#f0f921\"]],\"type\":\"heatmapgl\"}],\"heatmap\":[{\"colorbar\":{\"outlinewidth\":0,\"ticks\":\"\"},\"colorscale\":[[0.0,\"#0d0887\"],[0.1111111111111111,\"#46039f\"],[0.2222222222222222,\"#7201a8\"],[0.3333333333333333,\"#9c179e\"],[0.4444444444444444,\"#bd3786\"],[0.5555555555555556,\"#d8576b\"],[0.6666666666666666,\"#ed7953\"],[0.7777777777777778,\"#fb9f3a\"],[0.8888888888888888,\"#fdca26\"],[1.0,\"#f0f921\"]],\"type\":\"heatmap\"}],\"histogram2dcontour\":[{\"colorbar\":{\"outlinewidth\":0,\"ticks\":\"\"},\"colorscale\":[[0.0,\"#0d0887\"],[0.1111111111111111,\"#46039f\"],[0.2222222222222222,\"#7201a8\"],[0.3333333333333333,\"#9c179e\"],[0.4444444444444444,\"#bd3786\"],[0.5555555555555556,\"#d8576b\"],[0.6666666666666666,\"#ed7953\"],[0.7777777777777778,\"#fb9f3a\"],[0.8888888888888888,\"#fdca26\"],[1.0,\"#f0f921\"]],\"type\":\"histogram2dcontour\"}],\"histogram2d\":[{\"colorbar\":{\"outlinewidth\":0,\"ticks\":\"\"},\"colorscale\":[[0.0,\"#0d0887\"],[0.1111111111111111,\"#46039f\"],[0.2222222222222222,\"#7201a8\"],[0.3333333333333333,\"#9c179e\"],[0.4444444444444444,\"#bd3786\"],[0.5555555555555556,\"#d8576b\"],[0.6666666666666666,\"#ed7953\"],[0.7777777777777778,\"#fb9f3a\"],[0.8888888888888888,\"#fdca26\"],[1.0,\"#f0f921\"]],\"type\":\"histogram2d\"}],\"histogram\":[{\"marker\":{\"pattern\":{\"fillmode\":\"overlay\",\"size\":10,\"solidity\":0.2}},\"type\":\"histogram\"}],\"mesh3d\":[{\"colorbar\":{\"outlinewidth\":0,\"ticks\":\"\"},\"type\":\"mesh3d\"}],\"parcoords\":[{\"line\":{\"colorbar\":{\"outlinewidth\":0,\"ticks\":\"\"}},\"type\":\"parcoords\"}],\"pie\":[{\"automargin\":true,\"type\":\"pie\"}],\"scatter3d\":[{\"line\":{\"colorbar\":{\"outlinewidth\":0,\"ticks\":\"\"}},\"marker\":{\"colorbar\":{\"outlinewidth\":0,\"ticks\":\"\"}},\"type\":\"scatter3d\"}],\"scattercarpet\":[{\"marker\":{\"colorbar\":{\"outlinewidth\":0,\"ticks\":\"\"}},\"type\":\"scattercarpet\"}],\"scattergeo\":[{\"marker\":{\"colorbar\":{\"outlinewidth\":0,\"ticks\":\"\"}},\"type\":\"scattergeo\"}],\"scattergl\":[{\"marker\":{\"colorbar\":{\"outlinewidth\":0,\"ticks\":\"\"}},\"type\":\"scattergl\"}],\"scattermapbox\":[{\"marker\":{\"colorbar\":{\"outlinewidth\":0,\"ticks\":\"\"}},\"type\":\"scattermapbox\"}],\"scatterpolargl\":[{\"marker\":{\"colorbar\":{\"outlinewidth\":0,\"ticks\":\"\"}},\"type\":\"scatterpolargl\"}],\"scatterpolar\":[{\"marker\":{\"colorbar\":{\"outlinewidth\":0,\"ticks\":\"\"}},\"type\":\"scatterpolar\"}],\"scatter\":[{\"fillpattern\":{\"fillmode\":\"overlay\",\"size\":10,\"solidity\":0.2},\"type\":\"scatter\"}],\"scatterternary\":[{\"marker\":{\"colorbar\":{\"outlinewidth\":0,\"ticks\":\"\"}},\"type\":\"scatterternary\"}],\"surface\":[{\"colorbar\":{\"outlinewidth\":0,\"ticks\":\"\"},\"colorscale\":[[0.0,\"#0d0887\"],[0.1111111111111111,\"#46039f\"],[0.2222222222222222,\"#7201a8\"],[0.3333333333333333,\"#9c179e\"],[0.4444444444444444,\"#bd3786\"],[0.5555555555555556,\"#d8576b\"],[0.6666666666666666,\"#ed7953\"],[0.7777777777777778,\"#fb9f3a\"],[0.8888888888888888,\"#fdca26\"],[1.0,\"#f0f921\"]],\"type\":\"surface\"}],\"table\":[{\"cells\":{\"fill\":{\"color\":\"#EBF0F8\"},\"line\":{\"color\":\"white\"}},\"header\":{\"fill\":{\"color\":\"#C8D4E3\"},\"line\":{\"color\":\"white\"}},\"type\":\"table\"}]},\"layout\":{\"annotationdefaults\":{\"arrowcolor\":\"#2a3f5f\",\"arrowhead\":0,\"arrowwidth\":1},\"autotypenumbers\":\"strict\",\"coloraxis\":{\"colorbar\":{\"outlinewidth\":0,\"ticks\":\"\"}},\"colorscale\":{\"diverging\":[[0,\"#8e0152\"],[0.1,\"#c51b7d\"],[0.2,\"#de77ae\"],[0.3,\"#f1b6da\"],[0.4,\"#fde0ef\"],[0.5,\"#f7f7f7\"],[0.6,\"#e6f5d0\"],[0.7,\"#b8e186\"],[0.8,\"#7fbc41\"],[0.9,\"#4d9221\"],[1,\"#276419\"]],\"sequential\":[[0.0,\"#0d0887\"],[0.1111111111111111,\"#46039f\"],[0.2222222222222222,\"#7201a8\"],[0.3333333333333333,\"#9c179e\"],[0.4444444444444444,\"#bd3786\"],[0.5555555555555556,\"#d8576b\"],[0.6666666666666666,\"#ed7953\"],[0.7777777777777778,\"#fb9f3a\"],[0.8888888888888888,\"#fdca26\"],[1.0,\"#f0f921\"]],\"sequentialminus\":[[0.0,\"#0d0887\"],[0.1111111111111111,\"#46039f\"],[0.2222222222222222,\"#7201a8\"],[0.3333333333333333,\"#9c179e\"],[0.4444444444444444,\"#bd3786\"],[0.5555555555555556,\"#d8576b\"],[0.6666666666666666,\"#ed7953\"],[0.7777777777777778,\"#fb9f3a\"],[0.8888888888888888,\"#fdca26\"],[1.0,\"#f0f921\"]]},\"colorway\":[\"#636efa\",\"#EF553B\",\"#00cc96\",\"#ab63fa\",\"#FFA15A\",\"#19d3f3\",\"#FF6692\",\"#B6E880\",\"#FF97FF\",\"#FECB52\"],\"font\":{\"color\":\"#2a3f5f\"},\"geo\":{\"bgcolor\":\"white\",\"lakecolor\":\"white\",\"landcolor\":\"white\",\"showlakes\":true,\"showland\":true,\"subunitcolor\":\"#C8D4E3\"},\"hoverlabel\":{\"align\":\"left\"},\"hovermode\":\"closest\",\"mapbox\":{\"style\":\"light\"},\"paper_bgcolor\":\"white\",\"plot_bgcolor\":\"white\",\"polar\":{\"angularaxis\":{\"gridcolor\":\"#EBF0F8\",\"linecolor\":\"#EBF0F8\",\"ticks\":\"\"},\"bgcolor\":\"white\",\"radialaxis\":{\"gridcolor\":\"#EBF0F8\",\"linecolor\":\"#EBF0F8\",\"ticks\":\"\"}},\"scene\":{\"xaxis\":{\"backgroundcolor\":\"white\",\"gridcolor\":\"#DFE8F3\",\"gridwidth\":2,\"linecolor\":\"#EBF0F8\",\"showbackground\":true,\"ticks\":\"\",\"zerolinecolor\":\"#EBF0F8\"},\"yaxis\":{\"backgroundcolor\":\"white\",\"gridcolor\":\"#DFE8F3\",\"gridwidth\":2,\"linecolor\":\"#EBF0F8\",\"showbackground\":true,\"ticks\":\"\",\"zerolinecolor\":\"#EBF0F8\"},\"zaxis\":{\"backgroundcolor\":\"white\",\"gridcolor\":\"#DFE8F3\",\"gridwidth\":2,\"linecolor\":\"#EBF0F8\",\"showbackground\":true,\"ticks\":\"\",\"zerolinecolor\":\"#EBF0F8\"}},\"shapedefaults\":{\"line\":{\"color\":\"#2a3f5f\"}},\"ternary\":{\"aaxis\":{\"gridcolor\":\"#DFE8F3\",\"linecolor\":\"#A2B1C6\",\"ticks\":\"\"},\"baxis\":{\"gridcolor\":\"#DFE8F3\",\"linecolor\":\"#A2B1C6\",\"ticks\":\"\"},\"bgcolor\":\"white\",\"caxis\":{\"gridcolor\":\"#DFE8F3\",\"linecolor\":\"#A2B1C6\",\"ticks\":\"\"}},\"title\":{\"x\":0.05},\"xaxis\":{\"automargin\":true,\"gridcolor\":\"#EBF0F8\",\"linecolor\":\"#EBF0F8\",\"ticks\":\"\",\"title\":{\"standoff\":15},\"zerolinecolor\":\"#EBF0F8\",\"zerolinewidth\":2},\"yaxis\":{\"automargin\":true,\"gridcolor\":\"#EBF0F8\",\"linecolor\":\"#EBF0F8\",\"ticks\":\"\",\"title\":{\"standoff\":15},\"zerolinecolor\":\"#EBF0F8\",\"zerolinewidth\":2}}},\"xaxis\":{\"anchor\":\"y\",\"domain\":[0.0,1.0],\"title\":{\"text\":\"m\\u00e9dia salarial\"}},\"yaxis\":{\"anchor\":\"x\",\"domain\":[0.0,0.8316],\"title\":{\"text\":\"count\"}},\"xaxis2\":{\"anchor\":\"y2\",\"domain\":[0.0,1.0],\"matches\":\"x\",\"showticklabels\":false,\"showgrid\":true},\"yaxis2\":{\"anchor\":\"x2\",\"domain\":[0.8416,1.0],\"matches\":\"y2\",\"showticklabels\":false,\"showline\":false,\"ticks\":\"\",\"showgrid\":false},\"legend\":{\"tracegroupgap\":0},\"margin\":{\"t\":60},\"barmode\":\"relative\",\"title\":{\"text\":\"Frequ\\u00eancia dos Data Scientists por m\\u00e9dia salarial\",\"y\":0.95,\"x\":0.5}},                        {\"responsive\": true}                    ).then(function(){\n",
              "                            \n",
              "var gd = document.getElementById('c7534fea-ed63-434b-b935-30e783310e5f');\n",
              "var x = new MutationObserver(function (mutations, observer) {{\n",
              "        var display = window.getComputedStyle(gd).display;\n",
              "        if (!display || display === 'none') {{\n",
              "            console.log([gd, 'removed!']);\n",
              "            Plotly.purge(gd);\n",
              "            observer.disconnect();\n",
              "        }}\n",
              "}});\n",
              "\n",
              "// Listen for the removal of the full notebook cells\n",
              "var notebookContainer = gd.closest('#notebook-container');\n",
              "if (notebookContainer) {{\n",
              "    x.observe(notebookContainer, {childList: true});\n",
              "}}\n",
              "\n",
              "// Listen for the clearing of the current output cell\n",
              "var outputEl = gd.closest('.output');\n",
              "if (outputEl) {{\n",
              "    x.observe(outputEl, {childList: true});\n",
              "}}\n",
              "\n",
              "                        })                };                            </script>        </div>\n",
              "</body>\n",
              "</html>"
            ]
          },
          "metadata": {}
        }
      ]
    },
    {
      "cell_type": "code",
      "source": [
        "boxplot_avgsalarial = px.box(ds, x='experience_level', y='avg_salarial', labels={'experience_level':'nível de experiência','avg_salarial':'média salarial'},color_discrete_sequence=['#a3a2a8'],template='plotly_white')\n",
        "boxplot_avgsalarial.show()\n",
        "#experience_level"
      ],
      "metadata": {
        "colab": {
          "base_uri": "https://localhost:8080/",
          "height": 542
        },
        "id": "JAlaf8ey5WDu",
        "outputId": "df1bf30e-99e2-49ad-b5b2-9169d3400a6a"
      },
      "execution_count": null,
      "outputs": [
        {
          "output_type": "display_data",
          "data": {
            "text/html": [
              "<html>\n",
              "<head><meta charset=\"utf-8\" /></head>\n",
              "<body>\n",
              "    <div>            <script src=\"https://cdnjs.cloudflare.com/ajax/libs/mathjax/2.7.5/MathJax.js?config=TeX-AMS-MML_SVG\"></script><script type=\"text/javascript\">if (window.MathJax && window.MathJax.Hub && window.MathJax.Hub.Config) {window.MathJax.Hub.Config({SVG: {font: \"STIX-Web\"}});}</script>                <script type=\"text/javascript\">window.PlotlyConfig = {MathJaxConfig: 'local'};</script>\n",
              "        <script charset=\"utf-8\" src=\"https://cdn.plot.ly/plotly-2.24.1.min.js\"></script>                <div id=\"f8c3d0fb-9f76-4a43-8e83-bb103840e8da\" class=\"plotly-graph-div\" style=\"height:525px; width:100%;\"></div>            <script type=\"text/javascript\">                                    window.PLOTLYENV=window.PLOTLYENV || {};                                    if (document.getElementById(\"f8c3d0fb-9f76-4a43-8e83-bb103840e8da\")) {                    Plotly.newPlot(                        \"f8c3d0fb-9f76-4a43-8e83-bb103840e8da\",                        [{\"alignmentgroup\":\"True\",\"hovertemplate\":\"n\\u00edvel de experi\\u00eancia=%{x}\\u003cbr\\u003em\\u00e9dia salarial=%{y}\\u003cextra\\u003e\\u003c\\u002fextra\\u003e\",\"legendgroup\":\"\",\"marker\":{\"color\":\"#a3a2a8\"},\"name\":\"\",\"notched\":false,\"offsetgroup\":\"\",\"orientation\":\"v\",\"showlegend\":false,\"x\":[\"SE\",\"SE\",\"MI\",\"MI\",\"SE\",\"SE\",\"SE\",\"SE\",\"SE\",\"SE\",\"SE\",\"SE\",\"MI\",\"MI\",\"SE\",\"SE\",\"SE\",\"SE\",\"MI\",\"MI\",\"SE\",\"SE\",\"SE\",\"SE\",\"SE\",\"SE\",\"SE\",\"SE\",\"SE\",\"MI\",\"MI\",\"SE\",\"SE\",\"SE\",\"SE\",\"EN\",\"EN\",\"MI\",\"MI\",\"SE\",\"SE\",\"SE\",\"SE\",\"SE\",\"SE\",\"EN\",\"EN\",\"SE\",\"SE\",\"SE\",\"SE\",\"SE\",\"SE\",\"SE\",\"SE\",\"SE\",\"SE\",\"SE\",\"SE\",\"SE\",\"SE\",\"SE\",\"SE\",\"MI\",\"MI\",\"SE\",\"SE\",\"MI\",\"MI\",\"MI\",\"MI\",\"EX\",\"EX\",\"SE\",\"SE\",\"SE\",\"SE\",\"SE\",\"SE\",\"SE\",\"SE\",\"SE\",\"SE\",\"MI\",\"MI\",\"SE\",\"SE\",\"SE\",\"SE\",\"MI\",\"MI\",\"SE\",\"SE\",\"MI\",\"MI\",\"SE\",\"SE\",\"SE\",\"SE\",\"SE\",\"SE\",\"SE\",\"SE\",\"SE\",\"SE\",\"SE\",\"SE\",\"MI\",\"MI\",\"SE\",\"SE\",\"EN\",\"EN\",\"SE\",\"SE\",\"SE\",\"SE\",\"SE\",\"SE\",\"MI\",\"MI\",\"EN\",\"SE\",\"SE\",\"SE\",\"SE\",\"SE\",\"SE\",\"SE\",\"SE\",\"SE\",\"SE\",\"MI\",\"EN\",\"MI\",\"SE\",\"SE\",\"SE\",\"SE\",\"MI\",\"MI\",\"SE\",\"SE\",\"SE\",\"SE\",\"SE\",\"SE\",\"MI\",\"MI\",\"SE\",\"SE\",\"MI\",\"MI\",\"SE\",\"SE\",\"SE\",\"SE\",\"SE\",\"SE\",\"SE\",\"SE\",\"MI\",\"MI\",\"SE\",\"SE\",\"MI\",\"MI\",\"SE\",\"SE\",\"SE\",\"SE\",\"MI\",\"MI\",\"SE\",\"SE\",\"SE\",\"SE\",\"SE\",\"SE\",\"SE\",\"SE\",\"SE\",\"SE\",\"MI\",\"MI\",\"SE\",\"SE\",\"SE\",\"SE\",\"SE\",\"SE\",\"SE\",\"SE\",\"MI\",\"MI\",\"SE\",\"SE\",\"SE\",\"SE\",\"SE\",\"SE\",\"SE\",\"SE\",\"SE\",\"SE\",\"SE\",\"SE\",\"SE\",\"SE\",\"SE\",\"SE\",\"SE\",\"SE\",\"SE\",\"SE\",\"SE\",\"SE\",\"SE\",\"SE\",\"MI\",\"MI\",\"EN\",\"EN\",\"SE\",\"SE\",\"MI\",\"MI\",\"SE\",\"SE\",\"SE\",\"SE\",\"SE\",\"SE\",\"SE\",\"SE\",\"EN\",\"EN\",\"MI\",\"MI\",\"EN\",\"EN\",\"SE\",\"SE\",\"EX\",\"EX\",\"SE\",\"SE\",\"SE\",\"SE\",\"SE\",\"SE\",\"SE\",\"SE\",\"SE\",\"SE\",\"MI\",\"MI\",\"SE\",\"SE\",\"SE\",\"SE\",\"SE\",\"SE\",\"SE\",\"SE\",\"MI\",\"MI\",\"SE\",\"SE\",\"SE\",\"SE\",\"SE\",\"SE\",\"EX\",\"EX\",\"SE\",\"SE\",\"SE\",\"SE\",\"SE\",\"SE\",\"MI\",\"MI\",\"SE\",\"SE\",\"SE\",\"SE\",\"SE\",\"SE\",\"SE\",\"SE\",\"EX\",\"EX\",\"SE\",\"SE\",\"EN\",\"EN\",\"EN\",\"EN\",\"SE\",\"SE\",\"SE\",\"SE\",\"SE\",\"SE\",\"SE\",\"SE\",\"SE\",\"SE\",\"SE\",\"SE\",\"MI\",\"MI\",\"SE\",\"SE\",\"SE\",\"SE\",\"MI\",\"MI\",\"SE\",\"SE\",\"SE\",\"SE\",\"SE\",\"SE\",\"SE\",\"SE\",\"SE\",\"SE\",\"SE\",\"SE\",\"SE\",\"SE\",\"SE\",\"SE\",\"SE\",\"SE\",\"MI\",\"MI\",\"MI\",\"MI\",\"SE\",\"SE\",\"MI\",\"MI\",\"SE\",\"SE\",\"MI\",\"MI\",\"SE\",\"SE\",\"MI\",\"MI\",\"SE\",\"SE\",\"SE\",\"SE\",\"SE\",\"SE\",\"SE\",\"SE\",\"SE\",\"SE\",\"SE\",\"SE\",\"SE\",\"SE\",\"SE\",\"SE\",\"SE\",\"SE\",\"SE\",\"SE\",\"SE\",\"SE\",\"SE\",\"SE\",\"SE\",\"SE\",\"SE\",\"SE\",\"SE\",\"SE\",\"EN\",\"SE\",\"SE\",\"MI\",\"MI\",\"MI\",\"MI\",\"SE\",\"SE\",\"SE\",\"SE\",\"SE\",\"SE\",\"MI\",\"MI\",\"SE\",\"SE\",\"MI\",\"MI\",\"SE\",\"SE\",\"SE\",\"SE\",\"SE\",\"SE\",\"SE\",\"SE\",\"SE\",\"SE\",\"SE\",\"SE\",\"SE\",\"SE\",\"SE\",\"SE\",\"SE\",\"SE\",\"SE\",\"SE\",\"SE\",\"SE\",\"SE\",\"SE\",\"SE\",\"SE\",\"SE\",\"SE\",\"SE\",\"SE\",\"MI\",\"MI\",\"SE\",\"SE\",\"SE\",\"SE\",\"SE\",\"SE\",\"SE\",\"SE\",\"SE\",\"SE\",\"SE\",\"SE\",\"SE\",\"SE\",\"SE\",\"SE\",\"SE\",\"SE\",\"SE\",\"SE\",\"MI\",\"MI\",\"MI\",\"MI\",\"MI\",\"MI\",\"SE\",\"SE\",\"SE\",\"SE\",\"SE\",\"SE\",\"MI\",\"MI\",\"SE\",\"SE\",\"EX\",\"EX\",\"SE\",\"SE\",\"SE\",\"SE\",\"SE\",\"SE\",\"SE\",\"SE\",\"MI\",\"MI\",\"SE\",\"SE\",\"SE\",\"SE\",\"SE\",\"SE\",\"SE\",\"SE\",\"SE\",\"SE\",\"SE\",\"SE\",\"SE\",\"SE\",\"SE\",\"SE\",\"SE\",\"SE\",\"SE\",\"SE\",\"SE\",\"SE\",\"MI\",\"SE\",\"SE\",\"SE\",\"SE\",\"SE\",\"SE\",\"MI\",\"MI\",\"SE\",\"SE\",\"SE\",\"SE\",\"SE\",\"SE\",\"SE\",\"SE\",\"SE\",\"SE\",\"SE\",\"SE\",\"SE\",\"SE\",\"SE\",\"SE\",\"SE\",\"SE\",\"SE\",\"SE\",\"MI\",\"MI\",\"SE\",\"SE\",\"SE\",\"SE\",\"SE\",\"SE\",\"EN\",\"EN\",\"SE\",\"SE\",\"SE\",\"SE\",\"MI\",\"MI\",\"MI\",\"MI\",\"EN\",\"EN\",\"SE\",\"SE\",\"MI\",\"MI\",\"SE\",\"SE\",\"SE\",\"SE\",\"SE\",\"SE\",\"SE\",\"SE\",\"SE\",\"SE\",\"MI\",\"MI\",\"MI\",\"MI\",\"SE\",\"SE\",\"SE\",\"SE\",\"EN\",\"SE\",\"SE\",\"SE\",\"SE\",\"SE\",\"SE\",\"SE\",\"SE\",\"MI\",\"MI\",\"SE\",\"SE\",\"SE\",\"SE\",\"SE\",\"SE\",\"SE\",\"SE\",\"SE\",\"SE\",\"SE\",\"SE\",\"SE\",\"SE\",\"SE\",\"SE\",\"MI\",\"MI\",\"SE\",\"SE\",\"SE\",\"SE\",\"SE\",\"SE\",\"SE\",\"SE\",\"MI\",\"MI\",\"SE\",\"SE\",\"SE\",\"SE\",\"MI\",\"MI\",\"SE\",\"SE\",\"SE\",\"SE\",\"SE\",\"SE\",\"SE\",\"SE\",\"SE\",\"SE\",\"SE\",\"SE\",\"MI\",\"MI\",\"SE\",\"SE\",\"SE\",\"SE\",\"SE\",\"SE\",\"SE\",\"SE\",\"SE\",\"SE\",\"SE\",\"SE\",\"SE\",\"SE\",\"SE\",\"MI\",\"MI\",\"MI\",\"MI\",\"SE\",\"SE\",\"SE\",\"SE\",\"SE\",\"SE\",\"MI\",\"MI\",\"MI\",\"MI\",\"MI\",\"MI\",\"SE\",\"SE\",\"SE\",\"SE\",\"MI\",\"MI\",\"SE\",\"SE\",\"SE\",\"SE\",\"SE\",\"SE\",\"SE\",\"SE\",\"MI\",\"MI\",\"EN\",\"EN\",\"SE\",\"SE\",\"EN\",\"SE\",\"SE\",\"SE\",\"SE\",\"MI\",\"MI\",\"SE\",\"SE\",\"MI\",\"MI\",\"SE\",\"SE\",\"SE\",\"SE\",\"SE\",\"SE\",\"SE\",\"SE\",\"SE\",\"SE\",\"SE\",\"SE\",\"SE\",\"SE\",\"SE\",\"SE\",\"SE\",\"SE\",\"MI\",\"MI\",\"EX\",\"EX\",\"MI\",\"MI\",\"SE\",\"SE\",\"SE\",\"SE\",\"SE\",\"SE\",\"SE\",\"SE\",\"EN\",\"SE\",\"SE\",\"SE\",\"SE\",\"SE\",\"SE\",\"SE\",\"SE\",\"SE\",\"SE\",\"SE\",\"SE\",\"SE\",\"SE\",\"SE\",\"SE\",\"SE\",\"SE\",\"SE\",\"MI\",\"MI\",\"MI\",\"MI\",\"MI\",\"SE\",\"SE\",\"SE\",\"EN\",\"EN\",\"SE\",\"SE\",\"SE\",\"SE\",\"SE\",\"SE\",\"SE\",\"SE\",\"SE\",\"SE\",\"SE\",\"SE\",\"SE\",\"SE\",\"SE\",\"SE\",\"SE\",\"SE\",\"SE\",\"SE\",\"SE\",\"SE\",\"MI\",\"MI\",\"SE\",\"SE\",\"SE\",\"SE\",\"SE\",\"SE\",\"SE\",\"SE\",\"MI\",\"MI\",\"SE\",\"SE\",\"SE\",\"SE\",\"SE\",\"SE\",\"MI\",\"MI\",\"MI\",\"MI\",\"SE\",\"SE\",\"SE\",\"SE\",\"SE\",\"SE\",\"SE\",\"SE\",\"SE\",\"SE\",\"SE\",\"SE\",\"SE\",\"SE\",\"SE\",\"SE\",\"SE\",\"SE\",\"SE\",\"SE\",\"SE\",\"SE\",\"MI\",\"MI\",\"SE\",\"SE\",\"SE\",\"SE\",\"SE\",\"SE\",\"SE\",\"SE\",\"SE\",\"SE\",\"SE\",\"SE\",\"EN\",\"EN\",\"SE\",\"SE\",\"SE\",\"SE\",\"MI\",\"MI\",\"SE\",\"SE\",\"SE\",\"SE\",\"MI\",\"MI\",\"SE\",\"SE\",\"SE\",\"SE\",\"SE\",\"SE\",\"SE\",\"SE\",\"SE\",\"SE\",\"SE\",\"SE\",\"SE\",\"SE\",\"MI\",\"MI\",\"SE\",\"SE\",\"SE\",\"SE\",\"MI\",\"SE\",\"SE\",\"SE\",\"SE\",\"SE\",\"SE\",\"SE\",\"SE\",\"SE\",\"EN\",\"EN\",\"SE\",\"SE\",\"EN\",\"EN\",\"SE\",\"SE\",\"SE\",\"SE\",\"SE\",\"SE\",\"SE\",\"SE\",\"SE\",\"SE\",\"SE\",\"SE\",\"SE\",\"SE\",\"SE\",\"SE\",\"SE\",\"SE\",\"SE\",\"SE\",\"SE\",\"SE\",\"SE\",\"SE\",\"SE\",\"SE\",\"SE\",\"SE\",\"MI\",\"MI\",\"SE\",\"SE\",\"SE\",\"SE\",\"MI\",\"MI\",\"MI\",\"MI\",\"SE\",\"SE\",\"SE\",\"SE\",\"SE\",\"SE\",\"SE\",\"SE\",\"SE\",\"SE\",\"SE\",\"SE\",\"SE\",\"SE\",\"SE\",\"SE\",\"SE\",\"SE\",\"SE\",\"SE\",\"MI\",\"MI\",\"SE\",\"SE\",\"SE\",\"SE\",\"SE\",\"MI\",\"MI\",\"EX\",\"EX\",\"MI\",\"MI\",\"MI\",\"MI\",\"MI\",\"MI\",\"SE\",\"SE\",\"SE\",\"SE\",\"SE\",\"SE\",\"SE\",\"SE\",\"MI\",\"MI\",\"SE\",\"SE\",\"SE\",\"SE\",\"SE\",\"SE\",\"SE\",\"SE\",\"SE\",\"SE\",\"SE\",\"SE\",\"MI\",\"MI\",\"SE\",\"SE\",\"SE\",\"SE\",\"SE\",\"SE\",\"SE\",\"SE\",\"SE\",\"SE\",\"SE\",\"SE\",\"SE\",\"SE\",\"SE\",\"SE\",\"SE\",\"SE\",\"SE\",\"SE\",\"MI\",\"MI\",\"SE\",\"SE\",\"MI\",\"MI\",\"SE\",\"SE\",\"MI\",\"MI\",\"MI\",\"MI\",\"SE\",\"SE\",\"SE\",\"SE\",\"SE\",\"MI\",\"MI\",\"SE\",\"SE\",\"EX\",\"SE\",\"SE\",\"SE\",\"SE\",\"SE\",\"SE\",\"SE\",\"SE\",\"SE\",\"SE\",\"SE\",\"SE\",\"SE\",\"SE\",\"SE\",\"SE\",\"SE\",\"SE\",\"SE\",\"SE\",\"MI\",\"MI\",\"SE\",\"SE\",\"SE\",\"SE\",\"SE\",\"SE\",\"SE\",\"SE\",\"SE\",\"MI\",\"MI\",\"SE\",\"SE\",\"SE\",\"SE\",\"SE\",\"SE\",\"SE\",\"SE\",\"SE\",\"SE\",\"SE\",\"SE\",\"SE\",\"SE\",\"SE\",\"SE\",\"SE\",\"SE\",\"SE\",\"SE\",\"SE\",\"SE\",\"SE\",\"SE\",\"SE\",\"SE\",\"SE\",\"SE\",\"SE\",\"SE\",\"SE\",\"SE\",\"SE\",\"SE\",\"MI\",\"MI\",\"MI\",\"MI\",\"MI\",\"MI\",\"SE\",\"SE\",\"SE\",\"SE\",\"EX\",\"EX\",\"MI\",\"MI\",\"SE\",\"SE\",\"SE\",\"SE\",\"SE\",\"SE\",\"SE\",\"SE\",\"SE\",\"SE\",\"SE\",\"SE\",\"SE\",\"SE\",\"MI\",\"MI\",\"SE\",\"SE\",\"SE\",\"SE\",\"SE\",\"SE\",\"SE\",\"SE\",\"SE\",\"SE\",\"SE\",\"SE\",\"SE\",\"SE\",\"SE\",\"SE\",\"SE\",\"SE\",\"SE\",\"SE\",\"SE\",\"SE\",\"SE\",\"MI\",\"MI\",\"MI\",\"MI\",\"SE\",\"SE\",\"SE\",\"SE\",\"SE\",\"SE\",\"SE\",\"SE\",\"SE\",\"SE\",\"SE\",\"SE\",\"SE\",\"MI\",\"MI\",\"SE\",\"SE\",\"SE\",\"SE\",\"SE\",\"SE\",\"SE\",\"SE\",\"SE\",\"SE\",\"SE\",\"SE\",\"EN\",\"EN\",\"EX\",\"EX\",\"SE\",\"SE\",\"SE\",\"SE\",\"MI\",\"MI\",\"EN\",\"EN\",\"EN\",\"EN\",\"SE\",\"SE\",\"SE\",\"SE\",\"SE\",\"SE\",\"SE\",\"SE\",\"SE\",\"SE\",\"MI\",\"MI\",\"SE\",\"SE\",\"SE\",\"SE\",\"SE\",\"SE\",\"SE\",\"SE\",\"MI\",\"MI\",\"SE\",\"SE\",\"SE\",\"SE\",\"SE\",\"SE\",\"SE\",\"SE\",\"SE\",\"SE\",\"SE\",\"SE\",\"SE\",\"SE\",\"SE\",\"SE\",\"SE\",\"SE\",\"SE\",\"SE\",\"SE\",\"SE\",\"SE\",\"SE\",\"SE\",\"SE\",\"SE\",\"SE\",\"SE\",\"SE\",\"SE\",\"SE\",\"MI\",\"MI\",\"SE\",\"SE\",\"EX\",\"EX\",\"SE\",\"SE\",\"SE\",\"SE\",\"SE\",\"SE\",\"SE\",\"SE\",\"SE\",\"SE\",\"SE\",\"SE\",\"SE\",\"SE\",\"SE\",\"SE\",\"SE\",\"SE\",\"SE\",\"SE\",\"EN\",\"MI\",\"SE\",\"SE\",\"SE\",\"SE\",\"SE\",\"SE\",\"MI\",\"MI\",\"SE\",\"SE\",\"SE\",\"SE\",\"EN\",\"SE\",\"SE\",\"SE\",\"SE\",\"SE\",\"SE\",\"SE\",\"SE\",\"SE\",\"SE\",\"EN\",\"SE\",\"SE\",\"SE\",\"SE\",\"SE\",\"SE\",\"EX\",\"EX\",\"SE\",\"SE\",\"SE\",\"SE\",\"SE\",\"SE\",\"SE\",\"SE\",\"EX\",\"EX\",\"SE\",\"SE\",\"MI\",\"MI\",\"SE\",\"SE\",\"SE\",\"SE\",\"SE\",\"SE\",\"SE\",\"SE\",\"SE\",\"SE\",\"EX\",\"SE\",\"SE\",\"SE\",\"SE\",\"SE\",\"SE\",\"SE\",\"SE\",\"SE\",\"SE\",\"SE\",\"SE\",\"SE\",\"SE\",\"SE\",\"SE\",\"MI\",\"MI\",\"SE\",\"SE\",\"SE\",\"SE\",\"SE\",\"SE\",\"SE\",\"SE\",\"MI\",\"MI\",\"SE\",\"SE\",\"SE\",\"SE\",\"SE\",\"SE\",\"MI\",\"SE\",\"SE\",\"SE\",\"SE\",\"SE\",\"SE\",\"SE\",\"SE\",\"SE\",\"SE\",\"SE\",\"SE\",\"SE\",\"MI\",\"MI\",\"MI\",\"SE\",\"SE\",\"SE\",\"SE\",\"SE\",\"SE\",\"MI\",\"MI\",\"SE\",\"SE\",\"SE\",\"SE\",\"SE\",\"SE\",\"SE\",\"SE\",\"SE\",\"SE\",\"SE\",\"SE\",\"SE\",\"SE\",\"SE\",\"SE\",\"SE\",\"SE\",\"SE\",\"SE\",\"SE\",\"SE\",\"SE\",\"SE\",\"SE\",\"SE\",\"SE\",\"SE\",\"EX\",\"SE\",\"SE\",\"SE\",\"SE\",\"MI\",\"SE\",\"EX\",\"EX\",\"SE\",\"SE\",\"SE\",\"SE\",\"EN\",\"SE\",\"SE\",\"SE\",\"SE\",\"SE\",\"SE\",\"SE\",\"SE\",\"SE\",\"SE\",\"SE\",\"SE\",\"MI\",\"MI\",\"SE\",\"SE\",\"SE\",\"SE\",\"SE\",\"SE\",\"SE\",\"SE\",\"SE\",\"SE\",\"SE\",\"SE\",\"SE\",\"SE\",\"SE\",\"SE\",\"SE\",\"SE\",\"EX\",\"EX\",\"MI\",\"MI\",\"SE\",\"SE\",\"SE\",\"SE\",\"EX\",\"EX\",\"EX\",\"EX\",\"SE\",\"SE\",\"SE\",\"SE\",\"SE\",\"SE\",\"SE\",\"SE\",\"SE\",\"SE\",\"SE\",\"SE\",\"SE\",\"SE\",\"SE\",\"SE\",\"SE\",\"SE\",\"SE\",\"SE\",\"SE\",\"SE\",\"SE\",\"SE\",\"SE\",\"SE\",\"SE\",\"SE\",\"SE\",\"SE\",\"SE\",\"SE\",\"SE\",\"SE\",\"MI\",\"MI\",\"EN\",\"EN\",\"MI\",\"MI\",\"EX\",\"EX\",\"SE\",\"SE\",\"SE\",\"SE\",\"SE\",\"SE\",\"SE\",\"SE\",\"SE\",\"SE\",\"SE\",\"SE\",\"SE\",\"SE\",\"SE\",\"SE\",\"SE\",\"SE\",\"SE\",\"SE\",\"SE\",\"SE\",\"SE\",\"SE\",\"SE\",\"SE\",\"MI\",\"SE\",\"SE\",\"SE\",\"SE\",\"SE\",\"SE\",\"SE\",\"SE\",\"SE\",\"SE\",\"EX\",\"EX\",\"MI\",\"MI\",\"SE\",\"SE\",\"SE\",\"SE\",\"SE\",\"SE\",\"EN\",\"SE\",\"SE\",\"SE\",\"SE\",\"EN\",\"EN\",\"SE\",\"SE\",\"SE\",\"SE\",\"EN\",\"MI\",\"SE\",\"SE\",\"SE\",\"SE\",\"SE\",\"SE\",\"SE\",\"SE\",\"SE\",\"SE\",\"SE\",\"SE\",\"EN\",\"EN\",\"MI\",\"SE\",\"SE\",\"SE\",\"SE\",\"SE\",\"SE\",\"EX\",\"EX\",\"MI\",\"MI\",\"MI\",\"MI\",\"MI\",\"MI\",\"SE\",\"SE\",\"SE\",\"SE\",\"SE\",\"SE\",\"SE\",\"SE\",\"SE\",\"SE\",\"SE\",\"SE\",\"SE\",\"SE\",\"SE\",\"SE\",\"SE\",\"SE\",\"MI\",\"MI\",\"SE\",\"SE\",\"SE\",\"SE\",\"SE\",\"SE\",\"MI\",\"MI\",\"EX\",\"EX\",\"SE\",\"SE\",\"SE\",\"SE\",\"SE\",\"SE\",\"SE\",\"SE\",\"SE\",\"SE\",\"SE\",\"SE\",\"SE\",\"SE\",\"SE\",\"SE\",\"SE\",\"SE\",\"SE\",\"SE\",\"SE\",\"SE\",\"SE\",\"SE\",\"EN\",\"EN\",\"SE\",\"SE\",\"SE\",\"SE\",\"SE\",\"SE\",\"SE\",\"SE\",\"SE\",\"SE\",\"SE\",\"SE\",\"SE\",\"EN\",\"EN\",\"SE\",\"SE\",\"EN\",\"EN\",\"SE\",\"SE\",\"SE\",\"SE\",\"SE\",\"SE\",\"SE\",\"SE\",\"EX\",\"EX\",\"SE\",\"SE\",\"SE\",\"SE\",\"SE\",\"SE\",\"MI\",\"SE\",\"SE\",\"SE\",\"SE\",\"EN\",\"SE\",\"SE\",\"SE\",\"SE\",\"SE\",\"SE\",\"MI\",\"SE\",\"SE\",\"SE\",\"SE\",\"MI\",\"MI\",\"SE\",\"SE\",\"SE\",\"SE\",\"SE\",\"SE\",\"SE\",\"SE\",\"SE\",\"SE\",\"SE\",\"SE\",\"SE\",\"SE\",\"SE\",\"SE\",\"SE\",\"SE\",\"SE\",\"SE\",\"SE\",\"SE\",\"SE\",\"SE\",\"SE\",\"SE\",\"SE\",\"SE\",\"SE\",\"SE\",\"SE\",\"SE\",\"SE\",\"SE\",\"SE\",\"SE\",\"SE\",\"SE\",\"SE\",\"SE\",\"SE\",\"SE\",\"SE\",\"SE\",\"SE\",\"SE\",\"SE\",\"SE\",\"SE\",\"SE\",\"EN\",\"EN\",\"EN\",\"MI\",\"MI\",\"SE\",\"SE\",\"EN\",\"EN\",\"SE\",\"SE\",\"SE\",\"SE\",\"SE\",\"SE\",\"MI\",\"MI\",\"SE\",\"SE\",\"MI\",\"MI\",\"EX\",\"EX\",\"SE\",\"SE\",\"SE\",\"SE\",\"SE\",\"SE\",\"SE\",\"SE\",\"SE\",\"SE\",\"SE\",\"SE\",\"SE\",\"SE\",\"SE\",\"SE\",\"SE\",\"SE\",\"SE\",\"SE\",\"SE\",\"SE\",\"SE\",\"SE\",\"SE\",\"SE\",\"EX\",\"EX\",\"SE\",\"SE\",\"MI\",\"MI\",\"SE\",\"SE\",\"SE\",\"SE\",\"SE\",\"SE\",\"SE\",\"SE\",\"SE\",\"SE\",\"SE\",\"SE\",\"SE\",\"SE\",\"SE\",\"SE\",\"SE\",\"SE\",\"EX\",\"EX\",\"MI\",\"MI\",\"SE\",\"SE\",\"MI\",\"MI\",\"EN\",\"EN\",\"MI\",\"MI\",\"MI\",\"MI\",\"EN\",\"MI\",\"SE\",\"MI\",\"SE\",\"SE\",\"SE\",\"SE\",\"SE\",\"SE\",\"SE\",\"SE\",\"SE\",\"SE\",\"SE\",\"SE\",\"SE\",\"SE\",\"SE\",\"SE\",\"SE\",\"SE\",\"MI\",\"MI\",\"SE\",\"SE\",\"MI\",\"MI\",\"SE\",\"SE\",\"EX\",\"EX\",\"SE\",\"SE\",\"SE\",\"SE\",\"SE\",\"SE\",\"MI\",\"SE\",\"SE\",\"EN\",\"EN\",\"MI\",\"MI\",\"MI\",\"SE\",\"SE\",\"MI\",\"MI\",\"SE\",\"SE\",\"MI\",\"MI\",\"MI\",\"MI\",\"MI\",\"MI\",\"SE\",\"SE\",\"MI\",\"MI\",\"SE\",\"SE\",\"SE\",\"SE\",\"SE\",\"SE\",\"MI\",\"MI\",\"MI\",\"SE\",\"SE\",\"EN\",\"EN\",\"MI\",\"MI\",\"SE\",\"SE\",\"MI\",\"MI\",\"SE\",\"SE\",\"SE\",\"SE\",\"SE\",\"SE\",\"SE\",\"SE\",\"SE\",\"SE\",\"SE\",\"SE\",\"SE\",\"SE\",\"SE\",\"SE\",\"SE\",\"SE\",\"SE\",\"SE\",\"SE\",\"SE\",\"MI\",\"MI\",\"EX\",\"SE\",\"SE\",\"MI\",\"SE\",\"SE\",\"SE\",\"SE\",\"SE\",\"SE\",\"EX\",\"EX\",\"SE\",\"SE\",\"SE\",\"SE\",\"EN\",\"SE\",\"SE\",\"SE\",\"SE\",\"SE\",\"SE\",\"SE\",\"SE\",\"SE\",\"SE\",\"SE\",\"SE\",\"SE\",\"SE\",\"EN\",\"SE\",\"SE\",\"SE\",\"SE\",\"SE\",\"SE\",\"MI\",\"MI\",\"SE\",\"SE\",\"SE\",\"SE\",\"EN\",\"SE\",\"SE\",\"SE\",\"SE\",\"MI\",\"MI\",\"SE\",\"SE\",\"SE\",\"SE\",\"SE\",\"SE\",\"SE\",\"SE\",\"SE\",\"SE\",\"SE\",\"SE\",\"SE\",\"SE\",\"SE\",\"SE\",\"SE\",\"SE\",\"EN\",\"SE\",\"SE\",\"MI\",\"MI\",\"SE\",\"SE\",\"SE\",\"SE\",\"SE\",\"EN\",\"MI\",\"MI\",\"SE\",\"SE\",\"SE\",\"SE\",\"MI\",\"EX\",\"EX\",\"SE\",\"SE\",\"SE\",\"SE\",\"SE\",\"SE\",\"SE\",\"SE\",\"SE\",\"SE\",\"SE\",\"SE\",\"SE\",\"SE\",\"SE\",\"SE\",\"MI\",\"SE\",\"SE\",\"SE\",\"SE\",\"SE\",\"SE\",\"SE\",\"MI\",\"MI\",\"MI\",\"EN\",\"EN\",\"SE\",\"SE\",\"SE\",\"SE\",\"SE\",\"SE\",\"SE\",\"SE\",\"SE\",\"SE\",\"SE\",\"SE\",\"SE\",\"SE\",\"MI\",\"SE\",\"SE\",\"SE\",\"SE\",\"SE\",\"SE\",\"SE\",\"SE\",\"MI\",\"SE\",\"SE\",\"SE\",\"SE\",\"MI\",\"MI\",\"SE\",\"SE\",\"SE\",\"SE\",\"SE\",\"SE\",\"MI\",\"SE\",\"SE\",\"SE\",\"SE\",\"EX\",\"EX\",\"MI\",\"SE\",\"SE\",\"SE\",\"SE\",\"SE\",\"SE\",\"SE\",\"SE\",\"SE\",\"SE\",\"EN\",\"SE\",\"SE\",\"SE\",\"SE\",\"SE\",\"SE\",\"SE\",\"SE\",\"SE\",\"SE\",\"SE\",\"SE\",\"SE\",\"SE\",\"SE\",\"SE\",\"SE\",\"SE\",\"SE\",\"SE\",\"SE\",\"SE\",\"SE\",\"SE\",\"MI\",\"MI\",\"SE\",\"SE\",\"SE\",\"SE\",\"SE\",\"SE\",\"SE\",\"EN\",\"SE\",\"SE\",\"SE\",\"SE\",\"SE\",\"SE\",\"SE\",\"SE\",\"MI\",\"MI\",\"SE\",\"SE\",\"SE\",\"SE\",\"SE\",\"SE\",\"SE\",\"SE\",\"SE\",\"SE\",\"SE\",\"SE\",\"SE\",\"SE\",\"EN\",\"MI\",\"MI\",\"SE\",\"SE\",\"SE\",\"SE\",\"SE\",\"SE\",\"MI\",\"MI\",\"SE\",\"SE\",\"EN\",\"SE\",\"SE\",\"MI\",\"MI\",\"SE\",\"SE\",\"SE\",\"EN\",\"SE\",\"SE\",\"MI\",\"MI\",\"SE\",\"SE\",\"MI\",\"MI\",\"SE\",\"SE\",\"SE\",\"SE\",\"MI\",\"MI\",\"MI\",\"SE\",\"SE\",\"SE\",\"SE\",\"SE\",\"SE\",\"SE\",\"SE\",\"SE\",\"SE\",\"SE\",\"SE\",\"SE\",\"SE\",\"SE\",\"SE\",\"SE\",\"SE\",\"SE\",\"SE\",\"EX\",\"EX\",\"EN\",\"EN\",\"SE\",\"SE\",\"SE\",\"SE\",\"SE\",\"SE\",\"SE\",\"SE\",\"SE\",\"SE\",\"MI\",\"MI\",\"MI\",\"MI\",\"SE\",\"SE\",\"SE\",\"SE\",\"MI\",\"MI\",\"MI\",\"SE\",\"SE\",\"SE\",\"SE\",\"SE\",\"SE\",\"SE\",\"SE\",\"MI\",\"MI\",\"MI\",\"MI\",\"SE\",\"SE\",\"MI\",\"MI\",\"SE\",\"SE\",\"SE\",\"SE\",\"EN\",\"SE\",\"SE\",\"SE\",\"SE\",\"SE\",\"SE\",\"SE\",\"SE\",\"SE\",\"SE\",\"SE\",\"SE\",\"SE\",\"SE\",\"SE\",\"SE\",\"SE\",\"SE\",\"SE\",\"SE\",\"SE\",\"SE\",\"EN\",\"SE\",\"SE\",\"SE\",\"SE\",\"SE\",\"SE\",\"SE\",\"SE\",\"SE\",\"SE\",\"SE\",\"SE\",\"SE\",\"SE\",\"EN\",\"SE\",\"SE\",\"SE\",\"SE\",\"SE\",\"SE\",\"SE\",\"SE\",\"SE\",\"SE\",\"SE\",\"SE\",\"SE\",\"SE\",\"SE\",\"SE\",\"SE\",\"MI\",\"MI\",\"MI\",\"MI\",\"MI\",\"SE\",\"SE\",\"SE\",\"SE\",\"SE\",\"SE\",\"SE\",\"SE\",\"SE\",\"SE\",\"MI\",\"EN\",\"SE\",\"SE\",\"SE\",\"SE\",\"SE\",\"SE\",\"EN\",\"EN\",\"SE\",\"SE\",\"SE\",\"SE\",\"SE\",\"SE\",\"MI\",\"MI\",\"MI\",\"EN\",\"EN\",\"SE\",\"EN\",\"SE\",\"SE\",\"SE\",\"SE\",\"SE\",\"SE\",\"SE\",\"SE\",\"SE\",\"SE\",\"SE\",\"SE\",\"SE\",\"SE\",\"SE\",\"SE\",\"SE\",\"SE\",\"SE\",\"SE\",\"SE\",\"SE\",\"SE\",\"SE\",\"SE\",\"SE\",\"SE\",\"SE\",\"SE\",\"SE\",\"SE\",\"SE\",\"SE\",\"SE\",\"SE\",\"SE\",\"MI\",\"MI\",\"MI\",\"MI\",\"SE\",\"SE\",\"SE\",\"SE\",\"MI\",\"SE\",\"SE\",\"SE\",\"MI\",\"MI\",\"SE\",\"SE\",\"SE\",\"SE\",\"SE\",\"SE\",\"SE\",\"SE\",\"SE\",\"SE\",\"SE\",\"SE\",\"SE\",\"SE\",\"SE\",\"SE\",\"SE\",\"SE\",\"SE\",\"SE\",\"SE\",\"SE\",\"SE\",\"SE\",\"SE\",\"SE\",\"SE\",\"SE\",\"SE\",\"SE\",\"SE\",\"SE\",\"SE\",\"MI\",\"EN\",\"SE\",\"SE\",\"SE\",\"SE\",\"EX\",\"EX\",\"EN\",\"EN\",\"SE\",\"SE\",\"SE\",\"SE\",\"SE\",\"SE\",\"SE\",\"SE\",\"SE\",\"SE\",\"SE\",\"MI\",\"EN\",\"SE\",\"SE\",\"SE\",\"SE\",\"SE\",\"SE\",\"SE\",\"SE\",\"SE\",\"SE\",\"SE\",\"SE\",\"SE\",\"SE\",\"SE\",\"SE\",\"SE\",\"SE\",\"SE\",\"SE\",\"EN\",\"SE\",\"SE\",\"MI\",\"MI\",\"SE\",\"SE\",\"SE\",\"SE\",\"SE\",\"SE\",\"SE\",\"SE\",\"SE\",\"SE\",\"SE\",\"SE\",\"SE\",\"MI\",\"MI\",\"MI\",\"MI\",\"EN\",\"EN\",\"SE\",\"SE\",\"MI\",\"MI\",\"SE\",\"SE\",\"MI\",\"MI\",\"SE\",\"SE\",\"SE\",\"SE\",\"SE\",\"SE\",\"EN\",\"MI\",\"SE\",\"SE\",\"SE\",\"SE\",\"MI\",\"EN\",\"EX\",\"MI\",\"EX\",\"EX\",\"EN\",\"SE\",\"SE\",\"MI\",\"SE\",\"SE\",\"MI\",\"SE\",\"SE\",\"SE\",\"SE\",\"MI\",\"MI\",\"SE\",\"SE\",\"SE\",\"SE\",\"SE\",\"SE\",\"SE\",\"EN\",\"SE\",\"SE\",\"SE\",\"SE\",\"SE\",\"SE\",\"SE\",\"SE\",\"MI\",\"MI\",\"SE\",\"MI\",\"MI\",\"SE\",\"SE\",\"MI\",\"MI\",\"SE\",\"SE\",\"SE\",\"SE\",\"MI\",\"MI\",\"SE\",\"SE\",\"SE\",\"SE\",\"SE\",\"SE\",\"SE\",\"SE\",\"SE\",\"SE\",\"SE\",\"SE\",\"SE\",\"SE\",\"EX\",\"EX\",\"SE\",\"SE\",\"SE\",\"SE\",\"SE\",\"SE\",\"MI\",\"MI\",\"SE\",\"SE\",\"MI\",\"MI\",\"SE\",\"SE\",\"SE\",\"SE\",\"SE\",\"SE\",\"SE\",\"SE\",\"SE\",\"SE\",\"SE\",\"SE\",\"MI\",\"MI\",\"MI\",\"MI\",\"SE\",\"SE\",\"EX\",\"MI\",\"EN\",\"MI\",\"MI\",\"MI\",\"EN\",\"MI\",\"EN\",\"SE\",\"EN\",\"SE\",\"SE\",\"MI\",\"MI\",\"MI\",\"SE\",\"EN\",\"MI\",\"SE\",\"EN\",\"SE\",\"MI\",\"SE\",\"MI\",\"SE\",\"MI\",\"EN\",\"EN\",\"SE\",\"SE\",\"MI\",\"EN\",\"SE\",\"EN\",\"MI\",\"EX\",\"EX\",\"EN\",\"SE\",\"EX\",\"MI\",\"SE\",\"SE\",\"MI\",\"MI\",\"MI\",\"MI\",\"MI\",\"EX\",\"EN\",\"MI\",\"SE\",\"EN\",\"MI\",\"MI\",\"EN\",\"MI\",\"EN\",\"SE\",\"EN\",\"EN\",\"SE\",\"SE\",\"EN\",\"MI\",\"MI\",\"MI\",\"MI\",\"EN\",\"SE\",\"EN\",\"EN\",\"SE\",\"EN\",\"SE\",\"MI\",\"MI\",\"SE\",\"EX\",\"MI\",\"SE\",\"SE\",\"MI\",\"SE\",\"SE\",\"EN\",\"MI\",\"EX\",\"EN\",\"MI\",\"MI\",\"EN\",\"MI\",\"MI\",\"EX\",\"MI\",\"MI\",\"MI\",\"MI\",\"MI\",\"EX\",\"MI\",\"SE\",\"MI\",\"MI\",\"EN\",\"MI\",\"EN\",\"SE\",\"SE\",\"SE\",\"MI\",\"SE\",\"SE\",\"MI\",\"MI\",\"SE\",\"MI\",\"MI\",\"SE\",\"MI\",\"SE\",\"MI\",\"MI\",\"SE\",\"MI\",\"SE\",\"MI\",\"EN\",\"SE\"],\"x0\":\" \",\"xaxis\":\"x\",\"y\":[12516,5916,11250,9166,15617,9506,15617,9506,15617,9506,15850,7925,13833,6091,17916,11833,22166,13916,18516,11333,20000,17500,9666,7500,12083,10666,12500,20633,10608,5000,4583,16883,14066,16916,10583,11083,4858,10875,9666,15833,13750,17375,13750,21558,14375,13833,6091,17666,7775,23225,13275,15666,11583,62500,12500,21666,11333,15666,11583,13208,9583,18687,10129,13833,6091,17116,7741,13333,9166,20166,8850,18333,10000,21500,14250,16000,14833,21666,11333,15000,11250,16666,10000,17533,14208,17666,7775,15450,6794,18516,11333,13833,6091,13833,6091,17666,7775,20604,9866,14354,10253,18250,11000,10875,9666,26941,15391,11333,7583,15491,10775,11250,9166,11458,6791,11666,10416,14218,10662,10253,7177,8333,18750,14166,11250,8333,24775,16516,18516,11333,18516,11333,5398,4768,1750,15833,13750,23333,15833,17666,7775,19680,13284,21500,14250,16666,12500,10867,7666,15325,9066,13833,6091,19270,9250,21558,14375,13008,8366,18333,13333,9166,7166,17733,10341,17083,13833,19304,15758,13008,8366,11542,7957,19350,11108,18000,15333,13833,8666,16316,13491,18750,13833,5000,4583,18750,13833,18333,12166,30833,16666,15000,13333,20775,12441,18516,11333,20675,12158,14183,6991,13833,7500,13333,7841,20633,10608,18516,11333,21666,11333,18516,11333,21666,11333,15020,9833,17733,9300,10908,6058,11083,4866,25466,14375,17666,7783,9916,5950,18758,11741,9666,7500,17666,7775,20900,13933,12000,6333,13037,9933,12500,10833,18333,15416,25254,16862,16804,10383,17666,7783,15400,13491,12283,8973,18775,16450,21666,11333,27475,16029,15491,10775,14354,10253,10916,9166,23407,15604,12500,6666,14166,10000,22700,11675,25591,18066,12800,8900,15000,13500,11542,7957,11458,6791,24416,15416,13750,9625,18516,11333,20506,15380,14000,10833,8750,5833,23475,11758,17333,11166,21558,13333,21558,15683,23958,14000,12750,11333,11333,8666,11916,9750,18000,15333,10833,9166,6152,4614,22941,15291,19166,16333,13666,10833,16804,10383,12916,11625,10000,8333,17916,15229,20675,12158,17250,11750,7500,4583,14916,14707,16250,11979,15000,13500,16583,16396,12500,10833,15491,10775,17041,11850,24750,11500,10937,10675,9666,7500,18916,15416,17375,13750,4048,3239,11458,6791,19166,16333,18000,15333,15833,11558,25666,12000,18333,15000,24166,14433,19583,17000,12916,8750,1619,15416,10250,12500,10833,12500,10416,12500,10833,13333,10833,18184,14878,18516,11333,26333,16833,18516,11333,15812,9934,11250,9500,18184,14878,20000,13600,17968,13281,22700,11675,17583,15416,21833,20416,15833,12500,22916,14583,17500,15000,14125,11500,23225,13275,24775,16516,17041,11575,21716,14208,17906,15570,17733,10341,20416,15416,16883,14066,13666,10833,14000,10833,16375,8108,18000,15333,13333,11666,14000,10833,33750,22500,12083,9583,10833,9416,16208,9187,24583,14775,11333,8666,18516,11333,16000,13666,29433,20775,12800,8900,18333,13583,14000,10833,8950,8458,25000,8333,13666,10833,25000,17583,13416,9691,12608,10508,16883,14066,20000,13083,14000,10833,15000,13333,11666,11666,17916,13333,16833,11666,8026,17000,10625,15833,13333,11333,8666,18083,16000,19575,9458,14183,6991,25666,12000,18516,11333,20000,15000,17500,13750,25000,12500,17733,9300,19166,12750,17000,10625,20833,10416,20000,15000,17500,13750,18516,11333,11250,9166,12500,10833,15491,10775,17041,11850,15000,13500,13037,9933,20416,15416,12900,6358,14883,7383,20675,12158,17278,15025,19003,16525,4048,3239,6510,3368,15000,13500,15416,10250,24675,12041,8333,14333,10416,12916,11583,19833,13000,14354,10253,21082,13514,17733,9300,15980,11186,19833,13000,16566,7558,14916,9083,15000,11666,18516,11333,19441,12958,18516,11333,17733,9591,17733,9300,13750,9691,27000,13250,12916,11250,14000,10833,13666,10833,17000,12500,18000,15333,18333,13333,18750,13033,24775,16516,16000,13666,21119,17731,18516,11333,22690,14114,16250,17041,11850,15000,13500,18607,10942,18333,11666,21666,13333,12500,10000,14166,12041,6664,4614,15491,10775,26333,16833,11666,8750,12083,9583,17041,11850,15491,10775,17041,11575,21416,16416,11278,8202,12800,8900,25254,16862,17325,13200,25254,16862,14350,10933,8750,5833,20000,11875,2910,20902,11947,16958,13875,15000,13500,13129,8720,17041,11850,10000,8333,15833,14166,18650,14341,21566,16600,14645,11395,19071,12045,12916,10416,14666,12666,18750,14396,11666,8333,31291,20858,9583,7500,18750,9330,4048,3239,25783,13258,15000,13500,2474,22333,11458,18000,15333,15833,12083,18833,13333,16566,10216,19166,16333,15125,10583,12291,9375,19500,14666,8997,3242,15491,10775,10575,6491,3648,14000,10833,12500,11666,18833,13500,13333,12083,10000,8333,17041,11850,19166,15000,13666,10833,17500,11333,11333,8666,16666,13333,18500,9660,17041,11850,10875,9250,18883,11675,18750,13033,18000,15333,19166,16333,18750,12725,16000,13666,17041,11850,20675,12158,15980,11193,11250,5833,14000,10833,29930,24624,4048,3239,21083,13500,13666,10833,29930,24624,12158,10675,11333,8666,16566,10216,15416,10500,13333,10833,10253,6152,20675,12158,14583,12500,15208,11250,17375,13750,17125,11041,17041,11850,21082,13514,18000,15333,25000,13333,13333,11666,22083,12750,19166,12750,12083,9583,18975,12903,30833,25000,17833,12833,17083,13125,15750,11416,14208,9881,17291,14408,11250,5833,21166,15416,18750,13033,2159,11246,15491,13942,24775,16516,15000,11416,22083,14333,13400,11016,17366,11583,7133,4076,22958,17166,19000,11333,14583,12916,17041,11850,19916,11333,14666,9893,17041,11575,19166,16333,22691,18566,16000,13666,15491,10775,23416,15083,26941,15391,20675,12158,15416,11475,17125,11041,23225,13275,15000,11666,19166,14583,21082,13514,25855,19923,21083,14336,20833,18750,17125,11041,12258,7558,15000,13500,14583,10000,16566,8766,15416,10166,15416,10166,17083,12500,3000,18883,11675,18516,11333,20583,9870,17041,11575,14350,10933,9228,7177,20333,13083,11333,7550,23416,15083,20833,13333,15266,10183,10916,8416,15583,10666,11666,10000,15416,12666,15812,12083,29930,25855,6854,5141,17041,11850,14500,11583,17733,10341,15812,9934,17125,11041,19833,13000,19000,11333,19441,12958,15833,12500,12891,9908,13000,8750,17123,13046,19166,14583,22083,12750,11250,8333,5844,4306,7690,6664,5398,18750,13033,12083,9583,13666,10833,10976,26941,15391,12500,10833,16750,10166,11666,10500,14166,10833,15491,10775,18750,13033,18750,13033,15491,10775,17041,11850,5126,4101,18750,13033,15491,10775,24958,20425,12800,8900,5938,10416,7500,18516,11333,13416,12583,17875,12500,15491,13942,21666,11333,18750,13033,16000,13666,14583,10416,17733,9300,17123,13046,13666,10833,15491,10775,20675,12158,20675,12158,22783,15183,23750,12833,18333,14166,20833,10416,22916,16666,22916,16666,14750,11333,11666,10500,24958,20800,11250,8750,22258,13933,16833,11666,12577,11937,23108,17775,15000,11250,21666,11333,15354,13958,19166,14583,11333,8666,15000,10000,15491,10775,12800,8900,19166,16333,15491,10775,20675,12158,20675,12158,16000,13666,13333,21666,11333,19583,17000,16500,11000,11800,7866,17454,13963,13666,19833,12458,21500,16833,18516,11333,19000,11333,14583,12083,18333,15833,23225,13275,26941,15391,14000,10833,18500,13875,11333,8666,12916,11625,16666,10000,10541,6500,13145,8720,14666,11083,15833,13173,20900,13933,20900,13933,13258,10013,18750,13033,21666,11333,18333,12500,16666,12500,10056,6034,16000,13666,20833,14166,20833,16666,11333,8666,19166,14583,29930,25855,29930,24624,14880,12400,23225,13275,26941,15391,16833,11666,19583,16666,29930,24624,26333,16833,21666,11333,15416,7225,18516,11333,12916,11625,18516,11333,17041,10533,25783,13258,15833,14583,24958,20425,19071,12045,17500,12650,10541,6500,4048,3239,8750,5833,26941,15391,17095,13987,22258,13933,18516,11333,23225,13275,18562,15187,8668,4228,17166,11687,16500,10333,18516,11333,7177,4306,21500,15833,15348,13953,2699,11333,8666,11625,7500,15916,12166,12916,11625,17454,13963,1333,19166,14583,25855,21119,23583,15333,18333,15416,20541,11125,14500,11166,29930,25855,29930,24624,27500,19166,25783,13258,10253,6152,29930,24624,18000,15333,17083,13333,18516,11333,17041,10533,25000,20000,13600,18500,13875,28750,19558,14083,10775,15812,10925,24958,20425,30833,16666,15000,11666,15833,10416,19166,14583,14583,13333,21250,13333,25783,13258,12916,8500,31166,16458,21666,11333,20000,15583,1666,16250,9916,18000,15333,22204,14808,20416,15416,18516,11333,15833,17041,10533,8333,10729,6612,15491,10775,17804,11869,15491,10775,16666,8333,21666,11333,14583,12395,11250,7916,18936,16466,13416,11666,17500,14875,21666,11333,25783,13258,12258,7558,20000,11833,22500,18333,18750,13033,15491,10775,18750,13033,8368,4048,3239,15491,10775,23333,6375,20833,15000,20000,13083,18516,11333,2000,21666,11333,15491,10775,16000,14833,18166,7083,21666,11333,18166,7083,10833,7083,15333,10250,14033,7558,21500,15833,14033,8766,20675,12158,20675,12158,14166,10416,18516,11333,20675,12158,21666,16000,10000,7500,18166,9833,17500,14000,21562,15416,18750,12083,4048,3239,15833,13750,14583,13333,13333,11250,15491,10775,14000,10833,15491,10775,20029,14566,14000,10833,16000,13666,19433,11666,12083,10000,16666,14166,12510,10008,16666,14166,15491,10775,21250,14083,12916,8333,12617,9613,20833,10416,20506,16918,21666,11333,20833,14166,16566,8766,18516,11333,21333,13333,18333,12500,16000,13666,17136,11883,20333,16416,27333,17583,19750,16787,19250,11166,23816,12883,2916,18750,13033,16333,10083,18250,11750,16000,13666,15833,13333,19071,12045,11666,9583,21666,11333,23416,15083,16000,13666,3333,4048,3239,11666,8750,10833,5992,12500,10833,21666,11333,6482,4617,21666,11333,23125,17166,18516,11333,19708,14666,14400,9166,21666,11333,12500,8333,3000,14775,11358,15833,13750,18516,11333,28033,16825,15812,10925,22500,7916,20333,16666,17500,13333,17500,13333,17500,13333,17500,13333,17500,13333,17500,13333,17500,13333,17500,13333,19708,14666,8750,8541,30833,16666,24958,20425,13333,10000,14166,12500,18750,14583,15812,10925,23750,16158,17833,13666,14166,12916,15491,10775,18516,11333,4048,3239,23402,14431,16250,13333,22941,15291,14583,12083,14583,13333,12916,10416,18516,11333,15327,10480,7197,14583,10000,18516,11333,18250,11750,12258,7558,17805,10896,14166,12500,17051,9223,17729,15416,21833,20416,22941,15291,18208,16591,21562,15416,14375,9208,25783,13258,19750,16787,5421,4048,3239,8750,5833,18333,12500,10000,11565,6939,16250,13333,1722,25783,13258,18516,11333,5639,4614,19000,15500,15833,14166,18666,14666,5636,20833,13541,16958,12666,19916,10241,19750,12083,15980,11186,7354,14583,12083,4048,3239,21666,11333,21666,11333,10833,9166,17083,15333,16250,13333,14166,11250,14583,12083,16583,13500,18516,11333,17500,11333,14583,8333,20416,15000,17500,12916,13750,11666,4321,10833,5992,7826,4330,16916,11100,17805,10896,15491,10775,19833,13000,11666,9166,16528,8671,13145,8720,15000,11666,16666,12083,4048,3239,21000,12833,15980,11186,14583,12083,19750,12083,16666,14166,14270,9479,18516,11333,21666,11333,17083,15333,21500,15833,14166,11250,16250,13333,29433,20775,24775,16516,17500,12650,16666,14166,26422,14227,18750,14583,16666,12500,22941,15250,20833,16666,15491,10775,14416,11000,22941,15291,12083,8333,8097,6748,22941,15291,6664,4306,15833,10000,7177,4306,9228,6152,10219,6128,14359,5038,16753,11168,14333,9583,19750,12083,21500,15833,19979,13319,15525,8541,15833,10500,14583,10000,24958,20425,12083,8333,17500,13333,12083,8333,18516,11333,16666,12083,17083,11666,24775,16516,11774,7849,1418,8750,5833,12500,8333,4948,4048,12500,19979,13319,10729,8854,24958,20425,8708,5833,7500,5833,15416,10416,17545,12775,16666,12500,14583,12395,17916,12191,15525,10325,28333,12500,5398,12423,6863,12500,8333,12500,8145,16750,10166,9749,6910,15491,10775,16750,10166,15833,11333,22941,15250,14583,13333,18750,13033,20833,16666,21666,15500,16666,12500,4048,3239,12500,10000,15416,10416,8833,12500,7500,3333,2441,11333,8666,15491,10775,16000,13524,10754,12423,6863,14583,10000,14000,12258,7558,25020,16680,25020,16680,30833,20416,24958,20425,10541,6500,12916,11625,1659,20625,14350,18750,13033,15491,10775,6152,5126,17920,13033,17441,15183,7083,21145,14100,21145,14100,14166,10000,19270,11562,18825,13033,12083,11250,14166,7500,12423,6863,14583,12395,30833,16666,19583,15416,18008,11733,9166,20675,12158,12617,9613,10495,20833,13541,15416,10020,15000,7083,5833,18750,13033,18750,13033,1916,26175,16316,17083,15000,13750,12000,8750,5833,15250,11166,29166,21875,18750,13033,19000,12666,17454,13223,12916,5308,19750,12083,20000,11583,23816,12883,5067,18333,16250,10352,6211,22941,15291,22941,15291,12500,10000,11333,8666,9166,7000,15833,13750,18750,13033,6666,21416,11166,6478,3239,24958,20425,17500,12650,4498,19750,12083,10833,7500,15275,15275,17500,15416,10166,7833,18333,12166,2051,12083,10666,15166,11666,25000,16666,9166,11333,8666,14000,10833,12783,10225,15416,13333,17083,15416,4166,18650,14341,15000,12500,15000,12083,14033,8766,11666,8333,12500,10000,24775,16516,24775,16516,9166,7000,19166,16333,15491,10775,10508,6000,15625,13750,17500,13812,11250,9583,14166,11666,4507,8333,16666,12500,20833,16666,22712,16516,15166,11666,10000,8750,11925,9416,15333,11833,11666,10000,15046,9620,11666,10000,20675,12158,10000,9166,10833,10833,7500,12500,11666,10166,7875,12083,10666,12500,10625,10541,4250,3333,22712,16516,7880,4377,18333,12166,4726,2013,11666,10000,12500,9166,15833,12916,7695,5643,14583,10000,15333,11833,12083,8333,2649,16000,13666,15833,12500,3940,3152,14583,11666,20791,12487,20791,12487,17500,12500,15229,13458,17500,12500,11333,8666,13250,10833,10352,6211,3940,3152,10666,6791,14416,9166,13750,10416,19166,16333,15000,10000,5253,4377,10833,7916,16958,12666,10000,5848,4309,15491,10775,3940,3152,11666,10000,9166,5833,5340,5078,10833,7500,11666,10000,15000,10000,15491,10775,14583,12083,2276,3940,3152,16566,10216,12333,8916,24958,20425,14000,10833,11333,8666,17083,15333,15491,10775,20625,14350,17083,15333,19166,16333,6666,17333,10583,25000,16333,3940,3152,17083,15416,15491,10775,15491,10775,17083,15333,1473,31250,18750,13033,15491,10775,11725,7816,29166,11250,20625,14350,14791,11166,15491,10775,20325,13050,7442,10000,8333,7083,6500,11333,8666,3940,3152,20416,15000,16536,12000,16536,12000,4822,3327,13308,11578,15000,11666,18750,13033,15000,8333,14583,10208,16900,8691,15491,10775,2500,7000,4500,6666,6145,13750,2770,15491,10775,18750,13033,15491,10775,12916,3166,12916,3166,12800,8900,15416,4166,12916,3166,14000,10833,10283,7341,10000,4583,15491,10775,11583,10166,15491,10775,18750,13033,16666,14583,15416,4166,3940,3152,12016,9613,6930,9000,16536,12000,15956,11793,6304,13072,16536,12000,10506,7004,17916,13250,15250,19741,13266,20268,14981,12333,10666,15956,11793,18166,12108,15956,11793,17250,12750,15956,11793,15956,11793,15956,11793,15956,11793,17250,12750,15956,11793,15956,11793,15956,11793,8516,1907,15000,13750,14950,12833,18553,15180,7750,6083,11416,8464,15956,11793,4815,14333,11666,15956,11793,17733,11900,6128,4166,12650,10853,14950,12833,15956,11793,15956,11793,15956,11793,15956,11793,15956,11793,15956,11793,15956,11793,15956,11793,2626,17008,11341,9850,9235,15956,11793,15956,11793,15956,11793,14166,10833,14583,11666,2495,13333,9941,12083,18750,13333,4552,6833,9166,16958,12666,13166,11166,14166,10000,9631,7442,17166,14591,10283,7341,20416,17083,7004,5130,15791,11675,15000,11666,4451,4166,7004,10979,21708,14591,4334,13333,8333,5078,20771,15450,6669,13333,7666,13333,9941,2083,12750,13333,7666,11147,15500,12400,25000,16666,4105,17941,13183,14166,10250,17941,11700,21666,15000,5643,3591,5000,20083,13250,15000,6666,5130,3078,13768,10013,15000,10000,10833,7500,11385,8280,9235,8208,12166,10250,13445,11428,13916,10250,17625,11550,12500,7962,18666,13989,17108,11700,14666,12000,17108,11700,11775,8508,19166,12500,13333,10833,17500,11666,17500,11666,17500,11666,17500,11666,19166,11666,18333,11666,14365,7182,16666,10000,15425,8740,16003,2543,1483,13083,9083,5633,4256,6500,3333,7442,6930,13750,8333,2800,5833,5165,12708,10000,11250,20000,6666,31666,10033,14750,4000,18333,8333,8333,8333,12000,12958,6875,4137,3380,9169,5220,20833,10835,5319,5702,7083,37500,10601,12000,6314,12500,8583,4166,4519,12805,6877,3813,4432,6402,15620,6413,2479,8750,2366,5063,7500,3053,13750,8640,3500,9583,5317,9166,6652,8333,1680,4833,8333,6473,6402,8750,2127,1408,15833,11820,2977,11250,4507,12250,8009,14500,4276,3373,5811,3326,7561,3336,7500,5122,3152,34666,4688,2817,9742,7387,4728,27083,13333,4166,3349,3516,5227,7561,1805,10000,7311,12666,10833,14480,12355,3231,3900,7603,5227,9583,19583,6083,15850,9833,11529,14000,9921,34333,12583,8750,7888],\"y0\":\" \",\"yaxis\":\"y\",\"type\":\"box\"}],                        {\"template\":{\"data\":{\"barpolar\":[{\"marker\":{\"line\":{\"color\":\"white\",\"width\":0.5},\"pattern\":{\"fillmode\":\"overlay\",\"size\":10,\"solidity\":0.2}},\"type\":\"barpolar\"}],\"bar\":[{\"error_x\":{\"color\":\"#2a3f5f\"},\"error_y\":{\"color\":\"#2a3f5f\"},\"marker\":{\"line\":{\"color\":\"white\",\"width\":0.5},\"pattern\":{\"fillmode\":\"overlay\",\"size\":10,\"solidity\":0.2}},\"type\":\"bar\"}],\"carpet\":[{\"aaxis\":{\"endlinecolor\":\"#2a3f5f\",\"gridcolor\":\"#C8D4E3\",\"linecolor\":\"#C8D4E3\",\"minorgridcolor\":\"#C8D4E3\",\"startlinecolor\":\"#2a3f5f\"},\"baxis\":{\"endlinecolor\":\"#2a3f5f\",\"gridcolor\":\"#C8D4E3\",\"linecolor\":\"#C8D4E3\",\"minorgridcolor\":\"#C8D4E3\",\"startlinecolor\":\"#2a3f5f\"},\"type\":\"carpet\"}],\"choropleth\":[{\"colorbar\":{\"outlinewidth\":0,\"ticks\":\"\"},\"type\":\"choropleth\"}],\"contourcarpet\":[{\"colorbar\":{\"outlinewidth\":0,\"ticks\":\"\"},\"type\":\"contourcarpet\"}],\"contour\":[{\"colorbar\":{\"outlinewidth\":0,\"ticks\":\"\"},\"colorscale\":[[0.0,\"#0d0887\"],[0.1111111111111111,\"#46039f\"],[0.2222222222222222,\"#7201a8\"],[0.3333333333333333,\"#9c179e\"],[0.4444444444444444,\"#bd3786\"],[0.5555555555555556,\"#d8576b\"],[0.6666666666666666,\"#ed7953\"],[0.7777777777777778,\"#fb9f3a\"],[0.8888888888888888,\"#fdca26\"],[1.0,\"#f0f921\"]],\"type\":\"contour\"}],\"heatmapgl\":[{\"colorbar\":{\"outlinewidth\":0,\"ticks\":\"\"},\"colorscale\":[[0.0,\"#0d0887\"],[0.1111111111111111,\"#46039f\"],[0.2222222222222222,\"#7201a8\"],[0.3333333333333333,\"#9c179e\"],[0.4444444444444444,\"#bd3786\"],[0.5555555555555556,\"#d8576b\"],[0.6666666666666666,\"#ed7953\"],[0.7777777777777778,\"#fb9f3a\"],[0.8888888888888888,\"#fdca26\"],[1.0,\"#f0f921\"]],\"type\":\"heatmapgl\"}],\"heatmap\":[{\"colorbar\":{\"outlinewidth\":0,\"ticks\":\"\"},\"colorscale\":[[0.0,\"#0d0887\"],[0.1111111111111111,\"#46039f\"],[0.2222222222222222,\"#7201a8\"],[0.3333333333333333,\"#9c179e\"],[0.4444444444444444,\"#bd3786\"],[0.5555555555555556,\"#d8576b\"],[0.6666666666666666,\"#ed7953\"],[0.7777777777777778,\"#fb9f3a\"],[0.8888888888888888,\"#fdca26\"],[1.0,\"#f0f921\"]],\"type\":\"heatmap\"}],\"histogram2dcontour\":[{\"colorbar\":{\"outlinewidth\":0,\"ticks\":\"\"},\"colorscale\":[[0.0,\"#0d0887\"],[0.1111111111111111,\"#46039f\"],[0.2222222222222222,\"#7201a8\"],[0.3333333333333333,\"#9c179e\"],[0.4444444444444444,\"#bd3786\"],[0.5555555555555556,\"#d8576b\"],[0.6666666666666666,\"#ed7953\"],[0.7777777777777778,\"#fb9f3a\"],[0.8888888888888888,\"#fdca26\"],[1.0,\"#f0f921\"]],\"type\":\"histogram2dcontour\"}],\"histogram2d\":[{\"colorbar\":{\"outlinewidth\":0,\"ticks\":\"\"},\"colorscale\":[[0.0,\"#0d0887\"],[0.1111111111111111,\"#46039f\"],[0.2222222222222222,\"#7201a8\"],[0.3333333333333333,\"#9c179e\"],[0.4444444444444444,\"#bd3786\"],[0.5555555555555556,\"#d8576b\"],[0.6666666666666666,\"#ed7953\"],[0.7777777777777778,\"#fb9f3a\"],[0.8888888888888888,\"#fdca26\"],[1.0,\"#f0f921\"]],\"type\":\"histogram2d\"}],\"histogram\":[{\"marker\":{\"pattern\":{\"fillmode\":\"overlay\",\"size\":10,\"solidity\":0.2}},\"type\":\"histogram\"}],\"mesh3d\":[{\"colorbar\":{\"outlinewidth\":0,\"ticks\":\"\"},\"type\":\"mesh3d\"}],\"parcoords\":[{\"line\":{\"colorbar\":{\"outlinewidth\":0,\"ticks\":\"\"}},\"type\":\"parcoords\"}],\"pie\":[{\"automargin\":true,\"type\":\"pie\"}],\"scatter3d\":[{\"line\":{\"colorbar\":{\"outlinewidth\":0,\"ticks\":\"\"}},\"marker\":{\"colorbar\":{\"outlinewidth\":0,\"ticks\":\"\"}},\"type\":\"scatter3d\"}],\"scattercarpet\":[{\"marker\":{\"colorbar\":{\"outlinewidth\":0,\"ticks\":\"\"}},\"type\":\"scattercarpet\"}],\"scattergeo\":[{\"marker\":{\"colorbar\":{\"outlinewidth\":0,\"ticks\":\"\"}},\"type\":\"scattergeo\"}],\"scattergl\":[{\"marker\":{\"colorbar\":{\"outlinewidth\":0,\"ticks\":\"\"}},\"type\":\"scattergl\"}],\"scattermapbox\":[{\"marker\":{\"colorbar\":{\"outlinewidth\":0,\"ticks\":\"\"}},\"type\":\"scattermapbox\"}],\"scatterpolargl\":[{\"marker\":{\"colorbar\":{\"outlinewidth\":0,\"ticks\":\"\"}},\"type\":\"scatterpolargl\"}],\"scatterpolar\":[{\"marker\":{\"colorbar\":{\"outlinewidth\":0,\"ticks\":\"\"}},\"type\":\"scatterpolar\"}],\"scatter\":[{\"fillpattern\":{\"fillmode\":\"overlay\",\"size\":10,\"solidity\":0.2},\"type\":\"scatter\"}],\"scatterternary\":[{\"marker\":{\"colorbar\":{\"outlinewidth\":0,\"ticks\":\"\"}},\"type\":\"scatterternary\"}],\"surface\":[{\"colorbar\":{\"outlinewidth\":0,\"ticks\":\"\"},\"colorscale\":[[0.0,\"#0d0887\"],[0.1111111111111111,\"#46039f\"],[0.2222222222222222,\"#7201a8\"],[0.3333333333333333,\"#9c179e\"],[0.4444444444444444,\"#bd3786\"],[0.5555555555555556,\"#d8576b\"],[0.6666666666666666,\"#ed7953\"],[0.7777777777777778,\"#fb9f3a\"],[0.8888888888888888,\"#fdca26\"],[1.0,\"#f0f921\"]],\"type\":\"surface\"}],\"table\":[{\"cells\":{\"fill\":{\"color\":\"#EBF0F8\"},\"line\":{\"color\":\"white\"}},\"header\":{\"fill\":{\"color\":\"#C8D4E3\"},\"line\":{\"color\":\"white\"}},\"type\":\"table\"}]},\"layout\":{\"annotationdefaults\":{\"arrowcolor\":\"#2a3f5f\",\"arrowhead\":0,\"arrowwidth\":1},\"autotypenumbers\":\"strict\",\"coloraxis\":{\"colorbar\":{\"outlinewidth\":0,\"ticks\":\"\"}},\"colorscale\":{\"diverging\":[[0,\"#8e0152\"],[0.1,\"#c51b7d\"],[0.2,\"#de77ae\"],[0.3,\"#f1b6da\"],[0.4,\"#fde0ef\"],[0.5,\"#f7f7f7\"],[0.6,\"#e6f5d0\"],[0.7,\"#b8e186\"],[0.8,\"#7fbc41\"],[0.9,\"#4d9221\"],[1,\"#276419\"]],\"sequential\":[[0.0,\"#0d0887\"],[0.1111111111111111,\"#46039f\"],[0.2222222222222222,\"#7201a8\"],[0.3333333333333333,\"#9c179e\"],[0.4444444444444444,\"#bd3786\"],[0.5555555555555556,\"#d8576b\"],[0.6666666666666666,\"#ed7953\"],[0.7777777777777778,\"#fb9f3a\"],[0.8888888888888888,\"#fdca26\"],[1.0,\"#f0f921\"]],\"sequentialminus\":[[0.0,\"#0d0887\"],[0.1111111111111111,\"#46039f\"],[0.2222222222222222,\"#7201a8\"],[0.3333333333333333,\"#9c179e\"],[0.4444444444444444,\"#bd3786\"],[0.5555555555555556,\"#d8576b\"],[0.6666666666666666,\"#ed7953\"],[0.7777777777777778,\"#fb9f3a\"],[0.8888888888888888,\"#fdca26\"],[1.0,\"#f0f921\"]]},\"colorway\":[\"#636efa\",\"#EF553B\",\"#00cc96\",\"#ab63fa\",\"#FFA15A\",\"#19d3f3\",\"#FF6692\",\"#B6E880\",\"#FF97FF\",\"#FECB52\"],\"font\":{\"color\":\"#2a3f5f\"},\"geo\":{\"bgcolor\":\"white\",\"lakecolor\":\"white\",\"landcolor\":\"white\",\"showlakes\":true,\"showland\":true,\"subunitcolor\":\"#C8D4E3\"},\"hoverlabel\":{\"align\":\"left\"},\"hovermode\":\"closest\",\"mapbox\":{\"style\":\"light\"},\"paper_bgcolor\":\"white\",\"plot_bgcolor\":\"white\",\"polar\":{\"angularaxis\":{\"gridcolor\":\"#EBF0F8\",\"linecolor\":\"#EBF0F8\",\"ticks\":\"\"},\"bgcolor\":\"white\",\"radialaxis\":{\"gridcolor\":\"#EBF0F8\",\"linecolor\":\"#EBF0F8\",\"ticks\":\"\"}},\"scene\":{\"xaxis\":{\"backgroundcolor\":\"white\",\"gridcolor\":\"#DFE8F3\",\"gridwidth\":2,\"linecolor\":\"#EBF0F8\",\"showbackground\":true,\"ticks\":\"\",\"zerolinecolor\":\"#EBF0F8\"},\"yaxis\":{\"backgroundcolor\":\"white\",\"gridcolor\":\"#DFE8F3\",\"gridwidth\":2,\"linecolor\":\"#EBF0F8\",\"showbackground\":true,\"ticks\":\"\",\"zerolinecolor\":\"#EBF0F8\"},\"zaxis\":{\"backgroundcolor\":\"white\",\"gridcolor\":\"#DFE8F3\",\"gridwidth\":2,\"linecolor\":\"#EBF0F8\",\"showbackground\":true,\"ticks\":\"\",\"zerolinecolor\":\"#EBF0F8\"}},\"shapedefaults\":{\"line\":{\"color\":\"#2a3f5f\"}},\"ternary\":{\"aaxis\":{\"gridcolor\":\"#DFE8F3\",\"linecolor\":\"#A2B1C6\",\"ticks\":\"\"},\"baxis\":{\"gridcolor\":\"#DFE8F3\",\"linecolor\":\"#A2B1C6\",\"ticks\":\"\"},\"bgcolor\":\"white\",\"caxis\":{\"gridcolor\":\"#DFE8F3\",\"linecolor\":\"#A2B1C6\",\"ticks\":\"\"}},\"title\":{\"x\":0.05},\"xaxis\":{\"automargin\":true,\"gridcolor\":\"#EBF0F8\",\"linecolor\":\"#EBF0F8\",\"ticks\":\"\",\"title\":{\"standoff\":15},\"zerolinecolor\":\"#EBF0F8\",\"zerolinewidth\":2},\"yaxis\":{\"automargin\":true,\"gridcolor\":\"#EBF0F8\",\"linecolor\":\"#EBF0F8\",\"ticks\":\"\",\"title\":{\"standoff\":15},\"zerolinecolor\":\"#EBF0F8\",\"zerolinewidth\":2}}},\"xaxis\":{\"anchor\":\"y\",\"domain\":[0.0,1.0],\"title\":{\"text\":\"n\\u00edvel de experi\\u00eancia\"}},\"yaxis\":{\"anchor\":\"x\",\"domain\":[0.0,1.0],\"title\":{\"text\":\"m\\u00e9dia salarial\"}},\"legend\":{\"tracegroupgap\":0},\"margin\":{\"t\":60},\"boxmode\":\"group\"},                        {\"responsive\": true}                    ).then(function(){\n",
              "                            \n",
              "var gd = document.getElementById('f8c3d0fb-9f76-4a43-8e83-bb103840e8da');\n",
              "var x = new MutationObserver(function (mutations, observer) {{\n",
              "        var display = window.getComputedStyle(gd).display;\n",
              "        if (!display || display === 'none') {{\n",
              "            console.log([gd, 'removed!']);\n",
              "            Plotly.purge(gd);\n",
              "            observer.disconnect();\n",
              "        }}\n",
              "}});\n",
              "\n",
              "// Listen for the removal of the full notebook cells\n",
              "var notebookContainer = gd.closest('#notebook-container');\n",
              "if (notebookContainer) {{\n",
              "    x.observe(notebookContainer, {childList: true});\n",
              "}}\n",
              "\n",
              "// Listen for the clearing of the current output cell\n",
              "var outputEl = gd.closest('.output');\n",
              "if (outputEl) {{\n",
              "    x.observe(outputEl, {childList: true});\n",
              "}}\n",
              "\n",
              "                        })                };                            </script>        </div>\n",
              "</body>\n",
              "</html>"
            ]
          },
          "metadata": {}
        }
      ]
    },
    {
      "cell_type": "code",
      "source": [
        "import seaborn as sns"
      ],
      "metadata": {
        "id": "aZNb8-ks5X2u"
      },
      "execution_count": null,
      "outputs": []
    },
    {
      "cell_type": "code",
      "source": [
        "dados = ds.corr(numeric_only=True);\n",
        "\n",
        "fig, ax = plt.subplots(figsize = ( 12 , 6 ))\n",
        "ax.set_title('Correlações')\n",
        "sns.heatmap(ax = ax, data=dados,annot=True, fmt='.2g',vmin=-1,vmax=1,center=0)\n"
      ],
      "metadata": {
        "colab": {
          "base_uri": "https://localhost:8080/",
          "height": 700
        },
        "id": "NXZPaZhr5ZUo",
        "outputId": "c274d134-9cf1-4e75-a91b-c8549372e706"
      },
      "execution_count": null,
      "outputs": [
        {
          "output_type": "execute_result",
          "data": {
            "text/plain": [
              "<Axes: title={'center': 'Correlações'}>"
            ]
          },
          "metadata": {},
          "execution_count": 103
        },
        {
          "output_type": "display_data",
          "data": {
            "text/plain": [
              "<Figure size 1200x600 with 2 Axes>"
            ],
            "image/png": "[encoded data removed]"
          },
          "metadata": {}
        }
      ]
    },
    {
      "cell_type": "code",
      "source": [
        "dados = ds.copy()\n",
        "dados_2 = dados.drop(['work_year','experience_level','employment_type','job_title','salary','salary_currency','salary_in_usd','employee_residence','remote_ratio','company_location','company_size','avg_salarial','de_para_emp','de_para_employment'],axis=1)\n",
        "\n",
        "dados_2 = dados_2.groupby('faixa_salarial')['de_para_xp'].value_counts(sort=True)\n",
        "\n",
        "fig, ax = plt.subplots(figsize = ( 12 , 6 ))\n",
        "ax.set_xlabel('faixa salarial')\n",
        "ax.set_ylabel('Qtd. de Data Scientists')\n",
        "ax.set_title('Correlação entre nível de experiência e faixa salarial')\n",
        "sns.scatterplot(ax=ax,data=dados_2,x='faixa_salarial',y=dados_2.values,hue='de_para_xp',palette='deep')\n"
      ],
      "metadata": {
        "colab": {
          "base_uri": "https://localhost:8080/",
          "height": 583
        },
        "id": "0BSsHQuf5bov",
        "outputId": "0b818c24-562a-4559-a10e-a2fa3683aa61"
      },
      "execution_count": null,
      "outputs": [
        {
          "output_type": "execute_result",
          "data": {
            "text/plain": [
              "<Axes: title={'center': 'Correlação entre nível de experiência e faixa salarial'}, xlabel='faixa salarial', ylabel='Qtd. de Data Scientists'>"
            ]
          },
          "metadata": {},
          "execution_count": 104
        },
        {
          "output_type": "display_data",
          "data": {
            "text/plain": [
              "<Figure size 1200x600 with 1 Axes>"
            ],
            "image/png": "[encoded data removed]"
          },
          "metadata": {}
        }
      ]
    },
    {
      "cell_type": "markdown",
      "source": [],
      "metadata": {
        "id": "3qsvpY-OkJpQ"
      }
    },
    {
      "cell_type": "markdown",
      "source": [
        " # **Box Plot**"
      ],
      "metadata": {
        "id": "fr2w3xq4kLVJ"
      }
    },
    {
      "cell_type": "code",
      "source": [
        "import matplotlib.pyplot as plt\n",
        "\n",
        "# Dados fictícios para exemplo\n",
        "dados_1 = np.random.normal(0, 1, 100)\n",
        "dados_2 = np.random.normal(0, 2, 100)\n",
        "dados_3 = np.random.normal(0, 0.5, 100)\n",
        "\n",
        "# Criar uma lista com os dados\n",
        "dados = [dados_1, dados_2, dados_3]\n",
        "\n",
        "# Criar um box plot\n",
        "plt.boxplot(dados, labels=['Grupo 1', 'Grupo 2', 'Grupo 3'])\n",
        "\n",
        "# Adicionar rótulos e título\n",
        "plt.xlabel('Grupos')\n",
        "plt.ylabel('Valores')"
      ],
      "metadata": {
        "colab": {
          "base_uri": "https://localhost:8080/",
          "height": 467
        },
        "id": "jZQBW-Wmk9x3",
        "outputId": "0015b276-e52b-4dd3-b8ac-6d46bc8b34e7"
      },
      "execution_count": null,
      "outputs": [
        {
          "output_type": "execute_result",
          "data": {
            "text/plain": [
              "Text(0, 0.5, 'Valores')"
            ]
          },
          "metadata": {},
          "execution_count": 105
        },
        {
          "output_type": "display_data",
          "data": {
            "text/plain": [
              "<Figure size 640x480 with 1 Axes>"
            ],
            "image/png": "[encoded data removed]"
          },
          "metadata": {}
        }
      ]
    },
    {
      "cell_type": "markdown",
      "source": [
        "  # **Histograma**\n"
      ],
      "metadata": {
        "id": "xs0rdQTSmHuM"
      }
    },
    {
      "cell_type": "code",
      "source": [
        "# Dados fictícios para exemplo\n",
        "dados = np.random.normal(0, 1, 1000)\n",
        "\n",
        "# Criar o histograma\n",
        "plt.hist(dados, bins=30, color='blue', alpha=0.7)\n",
        "\n",
        "# Adicionar rótulos e título\n",
        "plt.xlabel('Valores')\n",
        "plt.ylabel('Frequência')\n",
        "plt.title('Histograma de Exemplo')\n",
        "\n",
        "# Exibir o histograma\n",
        "plt.show()"
      ],
      "metadata": {
        "colab": {
          "base_uri": "https://localhost:8080/",
          "height": 472
        },
        "id": "xlQUoh-AmJeH",
        "outputId": "1ee4a8f2-191f-4854-f3a7-561728759d13"
      },
      "execution_count": null,
      "outputs": [
        {
          "output_type": "display_data",
          "data": {
            "text/plain": [
              "<Figure size 640x480 with 1 Axes>"
            ],
            "image/png": "[encoded data removed]"
          },
          "metadata": {}
        }
      ]
    },
    {
      "cell_type": "markdown",
      "source": [
        "#**Scatter Plot**"
      ],
      "metadata": {
        "id": "2OsvrNQCmrwM"
      }
    },
    {
      "cell_type": "code",
      "source": [
        "# Dados fictícios para exemplo\n",
        "x = np.random.normal(0, 1, 100)\n",
        "y = 2 * x + np.random.normal(0, 1, 100)\n",
        "\n",
        "# Criar o scatter plot\n",
        "plt.scatter(x, y, color='green', alpha=0.7)\n",
        "\n",
        "# Adicionar rótulos e título\n",
        "plt.xlabel('Eixo X')\n",
        "plt.ylabel('Eixo Y')\n",
        "plt.title('Exemplo de Scatter Plot')\n",
        "\n",
        "# Exibir o scatter plot\n",
        "plt.show()"
      ],
      "metadata": {
        "colab": {
          "base_uri": "https://localhost:8080/",
          "height": 472
        },
        "id": "88ZkZtv2mxEh",
        "outputId": "3ab4d379-71a9-49a4-a1e7-2256af7b22a8"
      },
      "execution_count": null,
      "outputs": [
        {
          "output_type": "display_data",
          "data": {
            "text/plain": [
              "<Figure size 640x480 with 1 Axes>"
            ],
            "image/png": "[encoded data removed]"
          },
          "metadata": {}
        }
      ]
    },
    {
      "cell_type": "markdown",
      "source": [
        "#**Heatmap**"
      ],
      "metadata": {
        "id": "utqe3aIvoOTH"
      }
    },
    {
      "cell_type": "code",
      "source": [
        "import seaborn as sns\n",
        "\n",
        "# Dados fictícios para exemplo (matriz de correlação)\n",
        "dados = np.corrcoef(np.random.randn(10, 10))\n",
        "\n",
        "# Criar o mapa de calor\n",
        "sns.heatmap(dados, annot=True, cmap='coolwarm', fmt='.2f', linewidths=.5)\n",
        "\n",
        "# Adicionar título\n",
        "plt.title('Mapa de Calor')\n",
        "\n",
        "# Exibir o mapa de calor\n",
        "plt.show()"
      ],
      "metadata": {
        "colab": {
          "base_uri": "https://localhost:8080/",
          "height": 452
        },
        "id": "JY6QBPVkofxC",
        "outputId": "ea61a27d-1733-4e8d-e7ed-e1cb43c8d030"
      },
      "execution_count": null,
      "outputs": [
        {
          "output_type": "display_data",
          "data": {
            "text/plain": [
              "<Figure size 640x480 with 2 Axes>"
            ],
            "image/png": "[encoded data removed]"
          },
          "metadata": {}
        }
      ]
    },
    {
      "cell_type": "markdown",
      "source": [
        "# **Distribuições Amostrais**"
      ],
      "metadata": {
        "id": "PyX167kMlv5Y"
      }
    },
    {
      "cell_type": "code",
      "source": [
        "import numpy as np\n",
        "\n",
        "# Tamanho das amostras\n",
        "tamanhos_amostra = [50, 100, 200]\n",
        "\n",
        "# Distribuições amostrais das médias\n",
        "for tamanho in tamanhos_amostra:\n",
        "    medias_amostrais = [salarios['salary'].sample(tamanho).mean() for _ in range(1000)]\n",
        "\n",
        "    plt.hist(medias_amostrais, bins=30, alpha=0.5, label=f'Tamanho da Amostra = {tamanho}')\n",
        "\n",
        "plt.legend()\n",
        "plt.xlabel('Média da Amostra')\n",
        "plt.ylabel('Frequência')\n",
        "plt.show()\n"
      ],
      "metadata": {
        "colab": {
          "base_uri": "https://localhost:8080/",
          "height": 449
        },
        "id": "IcCZRzWRoFFg",
        "outputId": "7307998c-e6ae-44dc-bc99-c1778ac15a92"
      },
      "execution_count": null,
      "outputs": [
        {
          "output_type": "display_data",
          "data": {
            "text/plain": [
              "<Figure size 640x480 with 1 Axes>"
            ],
            "image/png": "[encoded data removed]"
          },
          "metadata": {}
        }
      ]
    },
    {
      "cell_type": "code",
      "source": [
        "# Parâmetros para a população fictícia\n",
        "media_salarial = ds['salary_in_usd'].mean()\n",
        "desvio_padrao_salário = ds['salary_in_usd'].mean()\n",
        "tamanho_populacional = 8000\n",
        "\n",
        "# Número de amostras\n",
        "num_amostras = 8000\n",
        "\n",
        "# Tamanhos das amostras\n",
        "tamanhos_amostrais = [1, 10, 30]\n",
        "\n",
        "# Criar a população fictícia\n",
        "populacao = np.random.normal(media_salarial, desvio_padrao_salário, tamanho_populacional)\n",
        "\n",
        "# Criar as distribuições amostrais das médias\n",
        "distribuicoes_amostrais = []\n",
        "\n",
        "for tamanho_amostra in tamanhos_amostrais:\n",
        "    medias_amostrais = [np.mean(np.random.choice(populacao, tamanho_amostra)) for _ in range(num_amostras)]\n",
        "    distribuicoes_amostrais.append(medias_amostrais)\n",
        "\n",
        "# Criar gráficos\n",
        "plt.figure(figsize=(12, 8))\n",
        "\n",
        "for i, tamanho_amostra in enumerate(tamanhos_amostrais):\n",
        "    plt.subplot(2, 2, i + 1)\n",
        "    plt.hist(distribuicoes_amostrais[i], bins=30, color='gray', edgecolor='black')\n",
        "    plt.title(f'Distribuição Amostral (n={tamanho_amostra})')\n",
        "    plt.xlabel('Média Salarial Amostral')\n",
        "    plt.ylabel('Número de Profissionais de Dados')\n",
        "\n",
        "plt.tight_layout()\n",
        "plt.show()"
      ],
      "metadata": {
        "colab": {
          "base_uri": "https://localhost:8080/",
          "height": 807
        },
        "id": "W6QSNhez4h0V",
        "outputId": "46e73bc1-23d0-41b9-cd88-dc222ee6a9a3"
      },
      "execution_count": null,
      "outputs": [
        {
          "output_type": "display_data",
          "data": {
            "text/plain": [
              "<Figure size 1200x800 with 3 Axes>"
            ],
            "image/png": "[encoded data removed]"
          },
          "metadata": {}
        }
      ]
    },
    {
      "cell_type": "code",
      "source": [],
      "metadata": {
        "id": "Msewki4K4pe-"
      },
      "execution_count": null,
      "outputs": []
    },
    {
      "cell_type": "markdown",
      "source": [
        "# **Intervalo de Confiança (Extra)**"
      ],
      "metadata": {
        "id": "H0hjlM-dl1iQ"
      }
    },
    {
      "cell_type": "code",
      "source": [
        "from scipy.stats import t\n",
        "\n",
        "# Selecione a variável 'salary' como exemplo\n",
        "amostra = salarios['salary'].dropna()\n",
        "\n",
        "# Tamanho da amostra\n",
        "n = len(amostra)\n",
        "\n",
        "# Média e desvio padrão da amostra\n",
        "media_amostra = amostra.mean()\n",
        "desvio_padrao_amostra = amostra.std()\n",
        "\n",
        "# Graus de liberdade (considerando distribuição t)\n",
        "graus_liberdade = n - 1\n",
        "\n",
        "# Níveis de confiança\n",
        "confianca_90 = 0.9\n",
        "confianca_95 = 0.95\n",
        "\n",
        "# Valor crítico da distribuição t\n",
        "valor_critico_90 = t.ppf(1 - (1 - confianca_90) / 2, graus_liberdade)\n",
        "valor_critico_95 = t.ppf(1 - (1 - confianca_95) / 2, graus_liberdade)\n",
        "\n",
        "# Intervalos de confiança\n",
        "ic_90 = (media_amostra - valor_critico_90 * (desvio_padrao_amostra / np.sqrt(n)), media_amostra + valor_critico_90 * (desvio_padrao_amostra / np.sqrt(n)))\n",
        "ic_95 = (media_amostra - valor_critico_95 * (desvio_padrao_amostra / np.sqrt(n)), media_amostra + valor_critico_95 * (desvio_padrao_amostra / np.sqrt(n)))\n",
        "\n",
        "print(f\"Intervalo de Confiança (90%): {ic_90}\")\n",
        "print(f\"Intervalo de Confiança (95%): {ic_95}\")\n"
      ],
      "metadata": {
        "colab": {
          "base_uri": "https://localhost:8080/"
        },
        "id": "Z4F865YUoQOv",
        "outputId": "65575b68-7568-4442-eeff-3e9e441b0d9d"
      },
      "execution_count": null,
      "outputs": [
        {
          "output_type": "stream",
          "name": "stdout",
          "text": [
            "Intervalo de Confiança (90%): (166168.14913103078, 181454.6422327535)\n",
            "Intervalo de Confiança (95%): (164703.62500953543, 182919.16635424885)\n"
          ]
        }
      ]
    }
  ]
}