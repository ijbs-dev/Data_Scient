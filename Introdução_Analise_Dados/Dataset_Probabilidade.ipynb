{
  "nbformat": 4,
  "nbformat_minor": 0,
  "metadata": {
    "colab": {
      "provenance": []
    },
    "kernelspec": {
      "name": "python3",
      "display_name": "Python 3"
    },
    "language_info": {
      "name": "python"
    }
  },
  "cells": [
    {
      "cell_type": "markdown",
      "source": [
        "Grupo: Ivo, Rogério, Germano e Ismael\n",
        "Dataset: https://www.kaggle.com/datasets/lorenzovzquez/data-jobs-salaries"
      ],
      "metadata": {
        "id": "527ct13fzrBI"
      }
    },
    {
      "cell_type": "code",
      "execution_count": null,
      "metadata": {
        "id": "iHOl7SV_5KYU"
      },
      "outputs": [],
      "source": [
        "#Importando as bibliotecas necessárias para análise do Dataset\n",
        "import numpy as np\n",
        "import pandas as pd\n",
        "\n",
        "from google.colab import drive"
      ]
    },
    {
      "cell_type": "code",
      "source": [
        "# Realizando a leitura do arquivo Dataset a partir do link\n",
        "salarios = pd.read_csv('https://ai-jobs.net/salaries/download/salaries.csv')\n",
        "\n",
        "# Exibindo as 10 primeiras linhas do Dataset\n",
        "salarios.head(100)\n"
      ],
      "metadata": {
        "colab": {
          "base_uri": "https://localhost:8080/",
          "height": 635
        },
        "id": "UstHQ1sl5Siv",
        "outputId": "d919a1de-16bd-4bc7-9891-78ba23401e74"
      },
      "execution_count": null,
      "outputs": [
        {
          "output_type": "execute_result",
          "data": {
            "text/plain": [
              "    work_year experience_level employment_type                  job_title  \\\n",
              "0        2023               SE              FT                ML Engineer   \n",
              "1        2023               SE              FT             Data Scientist   \n",
              "2        2023               SE              FT             Data Scientist   \n",
              "3        2023               SE              FT              Data Engineer   \n",
              "4        2023               SE              FT              Data Engineer   \n",
              "..        ...              ...             ...                        ...   \n",
              "95       2023               SE              FT              Data Engineer   \n",
              "96       2023               SE              FT              Data Engineer   \n",
              "97       2023               EN              FT  Machine Learning Engineer   \n",
              "98       2023               MI              FT          Research Engineer   \n",
              "99       2023               MI              FT          Research Engineer   \n",
              "\n",
              "    salary salary_currency  salary_in_usd employee_residence  remote_ratio  \\\n",
              "0   170000             AUD         114979                 AU           100   \n",
              "1   287500             USD         287500                 US             0   \n",
              "2   168000             USD         168000                 US             0   \n",
              "3   155000             USD         155000                 US             0   \n",
              "4   140000             USD         140000                 US             0   \n",
              "..     ...             ...            ...                ...           ...   \n",
              "95  247300             USD         247300                 US             0   \n",
              "96  139700             USD         139700                 US             0   \n",
              "97   36000             USD          36000                 UG           100   \n",
              "98  300000             USD         300000                 US             0   \n",
              "99  100000             USD         100000                 US             0   \n",
              "\n",
              "   company_location company_size  \n",
              "0                AU            L  \n",
              "1                US            M  \n",
              "2                US            M  \n",
              "3                US            M  \n",
              "4                US            M  \n",
              "..              ...          ...  \n",
              "95               US            M  \n",
              "96               US            M  \n",
              "97               US            M  \n",
              "98               US            M  \n",
              "99               US            M  \n",
              "\n",
              "[100 rows x 11 columns]"
            ],
            "text/html": [
              "\n",
              "  <div id=\"df-257c3b30-523f-4156-8608-5c861a0d716c\" class=\"colab-df-container\">\n",
              "    <div>\n",
              "<style scoped>\n",
              "    .dataframe tbody tr th:only-of-type {\n",
              "        vertical-align: middle;\n",
              "    }\n",
              "\n",
              "    .dataframe tbody tr th {\n",
              "        vertical-align: top;\n",
              "    }\n",
              "\n",
              "    .dataframe thead th {\n",
              "        text-align: right;\n",
              "    }\n",
              "</style>\n",
              "<table border=\"1\" class=\"dataframe\">\n",
              "  <thead>\n",
              "    <tr style=\"text-align: right;\">\n",
              "      <th></th>\n",
              "      <th>work_year</th>\n",
              "      <th>experience_level</th>\n",
              "      <th>employment_type</th>\n",
              "      <th>job_title</th>\n",
              "      <th>salary</th>\n",
              "      <th>salary_currency</th>\n",
              "      <th>salary_in_usd</th>\n",
              "      <th>employee_residence</th>\n",
              "      <th>remote_ratio</th>\n",
              "      <th>company_location</th>\n",
              "      <th>company_size</th>\n",
              "    </tr>\n",
              "  </thead>\n",
              "  <tbody>\n",
              "    <tr>\n",
              "      <th>0</th>\n",
              "      <td>2023</td>\n",
              "      <td>SE</td>\n",
              "      <td>FT</td>\n",
              "      <td>ML Engineer</td>\n",
              "      <td>170000</td>\n",
              "      <td>AUD</td>\n",
              "      <td>114979</td>\n",
              "      <td>AU</td>\n",
              "      <td>100</td>\n",
              "      <td>AU</td>\n",
              "      <td>L</td>\n",
              "    </tr>\n",
              "    <tr>\n",
              "      <th>1</th>\n",
              "      <td>2023</td>\n",
              "      <td>SE</td>\n",
              "      <td>FT</td>\n",
              "      <td>Data Scientist</td>\n",
              "      <td>287500</td>\n",
              "      <td>USD</td>\n",
              "      <td>287500</td>\n",
              "      <td>US</td>\n",
              "      <td>0</td>\n",
              "      <td>US</td>\n",
              "      <td>M</td>\n",
              "    </tr>\n",
              "    <tr>\n",
              "      <th>2</th>\n",
              "      <td>2023</td>\n",
              "      <td>SE</td>\n",
              "      <td>FT</td>\n",
              "      <td>Data Scientist</td>\n",
              "      <td>168000</td>\n",
              "      <td>USD</td>\n",
              "      <td>168000</td>\n",
              "      <td>US</td>\n",
              "      <td>0</td>\n",
              "      <td>US</td>\n",
              "      <td>M</td>\n",
              "    </tr>\n",
              "    <tr>\n",
              "      <th>3</th>\n",
              "      <td>2023</td>\n",
              "      <td>SE</td>\n",
              "      <td>FT</td>\n",
              "      <td>Data Engineer</td>\n",
              "      <td>155000</td>\n",
              "      <td>USD</td>\n",
              "      <td>155000</td>\n",
              "      <td>US</td>\n",
              "      <td>0</td>\n",
              "      <td>US</td>\n",
              "      <td>M</td>\n",
              "    </tr>\n",
              "    <tr>\n",
              "      <th>4</th>\n",
              "      <td>2023</td>\n",
              "      <td>SE</td>\n",
              "      <td>FT</td>\n",
              "      <td>Data Engineer</td>\n",
              "      <td>140000</td>\n",
              "      <td>USD</td>\n",
              "      <td>140000</td>\n",
              "      <td>US</td>\n",
              "      <td>0</td>\n",
              "      <td>US</td>\n",
              "      <td>M</td>\n",
              "    </tr>\n",
              "    <tr>\n",
              "      <th>...</th>\n",
              "      <td>...</td>\n",
              "      <td>...</td>\n",
              "      <td>...</td>\n",
              "      <td>...</td>\n",
              "      <td>...</td>\n",
              "      <td>...</td>\n",
              "      <td>...</td>\n",
              "      <td>...</td>\n",
              "      <td>...</td>\n",
              "      <td>...</td>\n",
              "      <td>...</td>\n",
              "    </tr>\n",
              "    <tr>\n",
              "      <th>95</th>\n",
              "      <td>2023</td>\n",
              "      <td>SE</td>\n",
              "      <td>FT</td>\n",
              "      <td>Data Engineer</td>\n",
              "      <td>247300</td>\n",
              "      <td>USD</td>\n",
              "      <td>247300</td>\n",
              "      <td>US</td>\n",
              "      <td>0</td>\n",
              "      <td>US</td>\n",
              "      <td>M</td>\n",
              "    </tr>\n",
              "    <tr>\n",
              "      <th>96</th>\n",
              "      <td>2023</td>\n",
              "      <td>SE</td>\n",
              "      <td>FT</td>\n",
              "      <td>Data Engineer</td>\n",
              "      <td>139700</td>\n",
              "      <td>USD</td>\n",
              "      <td>139700</td>\n",
              "      <td>US</td>\n",
              "      <td>0</td>\n",
              "      <td>US</td>\n",
              "      <td>M</td>\n",
              "    </tr>\n",
              "    <tr>\n",
              "      <th>97</th>\n",
              "      <td>2023</td>\n",
              "      <td>EN</td>\n",
              "      <td>FT</td>\n",
              "      <td>Machine Learning Engineer</td>\n",
              "      <td>36000</td>\n",
              "      <td>USD</td>\n",
              "      <td>36000</td>\n",
              "      <td>UG</td>\n",
              "      <td>100</td>\n",
              "      <td>US</td>\n",
              "      <td>M</td>\n",
              "    </tr>\n",
              "    <tr>\n",
              "      <th>98</th>\n",
              "      <td>2023</td>\n",
              "      <td>MI</td>\n",
              "      <td>FT</td>\n",
              "      <td>Research Engineer</td>\n",
              "      <td>300000</td>\n",
              "      <td>USD</td>\n",
              "      <td>300000</td>\n",
              "      <td>US</td>\n",
              "      <td>0</td>\n",
              "      <td>US</td>\n",
              "      <td>M</td>\n",
              "    </tr>\n",
              "    <tr>\n",
              "      <th>99</th>\n",
              "      <td>2023</td>\n",
              "      <td>MI</td>\n",
              "      <td>FT</td>\n",
              "      <td>Research Engineer</td>\n",
              "      <td>100000</td>\n",
              "      <td>USD</td>\n",
              "      <td>100000</td>\n",
              "      <td>US</td>\n",
              "      <td>0</td>\n",
              "      <td>US</td>\n",
              "      <td>M</td>\n",
              "    </tr>\n",
              "  </tbody>\n",
              "</table>\n",
              "<p>100 rows × 11 columns</p>\n",
              "</div>\n",
              "    <div class=\"colab-df-buttons\">\n",
              "\n",
              "  <div class=\"colab-df-container\">\n",
              "    <button class=\"colab-df-convert\" onclick=\"convertToInteractive('df-257c3b30-523f-4156-8608-5c861a0d716c')\"\n",
              "            title=\"Convert this dataframe to an interactive table.\"\n",
              "            style=\"display:none;\">\n",
              "\n",
              "  <svg xmlns=\"http://www.w3.org/2000/svg\" height=\"24px\" viewBox=\"0 -960 960 960\">\n",
              "    <path d=\"M120-120v-720h720v720H120Zm60-500h600v-160H180v160Zm220 220h160v-160H400v160Zm0 220h160v-160H400v160ZM180-400h160v-160H180v160Zm440 0h160v-160H620v160ZM180-180h160v-160H180v160Zm440 0h160v-160H620v160Z\"/>\n",
              "  </svg>\n",
              "    </button>\n",
              "\n",
              "  <style>\n",
              "    .colab-df-container {\n",
              "      display:flex;\n",
              "      gap: 12px;\n",
              "    }\n",
              "\n",
              "    .colab-df-convert {\n",
              "      background-color: #E8F0FE;\n",
              "      border: none;\n",
              "      border-radius: 50%;\n",
              "      cursor: pointer;\n",
              "      display: none;\n",
              "      fill: #1967D2;\n",
              "      height: 32px;\n",
              "      padding: 0 0 0 0;\n",
              "      width: 32px;\n",
              "    }\n",
              "\n",
              "    .colab-df-convert:hover {\n",
              "      background-color: #E2EBFA;\n",
              "      box-shadow: 0px 1px 2px rgba(60, 64, 67, 0.3), 0px 1px 3px 1px rgba(60, 64, 67, 0.15);\n",
              "      fill: #174EA6;\n",
              "    }\n",
              "\n",
              "    .colab-df-buttons div {\n",
              "      margin-bottom: 4px;\n",
              "    }\n",
              "\n",
              "    [theme=dark] .colab-df-convert {\n",
              "      background-color: #3B4455;\n",
              "      fill: #D2E3FC;\n",
              "    }\n",
              "\n",
              "    [theme=dark] .colab-df-convert:hover {\n",
              "      background-color: #434B5C;\n",
              "      box-shadow: 0px 1px 3px 1px rgba(0, 0, 0, 0.15);\n",
              "      filter: drop-shadow(0px 1px 2px rgba(0, 0, 0, 0.3));\n",
              "      fill: #FFFFFF;\n",
              "    }\n",
              "  </style>\n",
              "\n",
              "    <script>\n",
              "      const buttonEl =\n",
              "        document.querySelector('#df-257c3b30-523f-4156-8608-5c861a0d716c button.colab-df-convert');\n",
              "      buttonEl.style.display =\n",
              "        google.colab.kernel.accessAllowed ? 'block' : 'none';\n",
              "\n",
              "      async function convertToInteractive(key) {\n",
              "        const element = document.querySelector('#df-257c3b30-523f-4156-8608-5c861a0d716c');\n",
              "        const dataTable =\n",
              "          await google.colab.kernel.invokeFunction('convertToInteractive',\n",
              "                                                    [key], {});\n",
              "        if (!dataTable) return;\n",
              "\n",
              "        const docLinkHtml = 'Like what you see? Visit the ' +\n",
              "          '<a target=\"_blank\" href=https://colab.research.google.com/notebooks/data_table.ipynb>data table notebook</a>'\n",
              "          + ' to learn more about interactive tables.';\n",
              "        element.innerHTML = '';\n",
              "        dataTable['output_type'] = 'display_data';\n",
              "        await google.colab.output.renderOutput(dataTable, element);\n",
              "        const docLink = document.createElement('div');\n",
              "        docLink.innerHTML = docLinkHtml;\n",
              "        element.appendChild(docLink);\n",
              "      }\n",
              "    </script>\n",
              "  </div>\n",
              "\n",
              "\n",
              "<div id=\"df-9c25bb81-7c63-4cce-9120-f99726d87044\">\n",
              "  <button class=\"colab-df-quickchart\" onclick=\"quickchart('df-9c25bb81-7c63-4cce-9120-f99726d87044')\"\n",
              "            title=\"Suggest charts.\"\n",
              "            style=\"display:none;\">\n",
              "\n",
              "<svg xmlns=\"http://www.w3.org/2000/svg\" height=\"24px\"viewBox=\"0 0 24 24\"\n",
              "     width=\"24px\">\n",
              "    <g>\n",
              "        <path d=\"M19 3H5c-1.1 0-2 .9-2 2v14c0 1.1.9 2 2 2h14c1.1 0 2-.9 2-2V5c0-1.1-.9-2-2-2zM9 17H7v-7h2v7zm4 0h-2V7h2v10zm4 0h-2v-4h2v4z\"/>\n",
              "    </g>\n",
              "</svg>\n",
              "  </button>\n",
              "\n",
              "<style>\n",
              "  .colab-df-quickchart {\n",
              "      --bg-color: #E8F0FE;\n",
              "      --fill-color: #1967D2;\n",
              "      --hover-bg-color: #E2EBFA;\n",
              "      --hover-fill-color: #174EA6;\n",
              "      --disabled-fill-color: #AAA;\n",
              "      --disabled-bg-color: #DDD;\n",
              "  }\n",
              "\n",
              "  [theme=dark] .colab-df-quickchart {\n",
              "      --bg-color: #3B4455;\n",
              "      --fill-color: #D2E3FC;\n",
              "      --hover-bg-color: #434B5C;\n",
              "      --hover-fill-color: #FFFFFF;\n",
              "      --disabled-bg-color: #3B4455;\n",
              "      --disabled-fill-color: #666;\n",
              "  }\n",
              "\n",
              "  .colab-df-quickchart {\n",
              "    background-color: var(--bg-color);\n",
              "    border: none;\n",
              "    border-radius: 50%;\n",
              "    cursor: pointer;\n",
              "    display: none;\n",
              "    fill: var(--fill-color);\n",
              "    height: 32px;\n",
              "    padding: 0;\n",
              "    width: 32px;\n",
              "  }\n",
              "\n",
              "  .colab-df-quickchart:hover {\n",
              "    background-color: var(--hover-bg-color);\n",
              "    box-shadow: 0 1px 2px rgba(60, 64, 67, 0.3), 0 1px 3px 1px rgba(60, 64, 67, 0.15);\n",
              "    fill: var(--button-hover-fill-color);\n",
              "  }\n",
              "\n",
              "  .colab-df-quickchart-complete:disabled,\n",
              "  .colab-df-quickchart-complete:disabled:hover {\n",
              "    background-color: var(--disabled-bg-color);\n",
              "    fill: var(--disabled-fill-color);\n",
              "    box-shadow: none;\n",
              "  }\n",
              "\n",
              "  .colab-df-spinner {\n",
              "    border: 2px solid var(--fill-color);\n",
              "    border-color: transparent;\n",
              "    border-bottom-color: var(--fill-color);\n",
              "    animation:\n",
              "      spin 1s steps(1) infinite;\n",
              "  }\n",
              "\n",
              "  @keyframes spin {\n",
              "    0% {\n",
              "      border-color: transparent;\n",
              "      border-bottom-color: var(--fill-color);\n",
              "      border-left-color: var(--fill-color);\n",
              "    }\n",
              "    20% {\n",
              "      border-color: transparent;\n",
              "      border-left-color: var(--fill-color);\n",
              "      border-top-color: var(--fill-color);\n",
              "    }\n",
              "    30% {\n",
              "      border-color: transparent;\n",
              "      border-left-color: var(--fill-color);\n",
              "      border-top-color: var(--fill-color);\n",
              "      border-right-color: var(--fill-color);\n",
              "    }\n",
              "    40% {\n",
              "      border-color: transparent;\n",
              "      border-right-color: var(--fill-color);\n",
              "      border-top-color: var(--fill-color);\n",
              "    }\n",
              "    60% {\n",
              "      border-color: transparent;\n",
              "      border-right-color: var(--fill-color);\n",
              "    }\n",
              "    80% {\n",
              "      border-color: transparent;\n",
              "      border-right-color: var(--fill-color);\n",
              "      border-bottom-color: var(--fill-color);\n",
              "    }\n",
              "    90% {\n",
              "      border-color: transparent;\n",
              "      border-bottom-color: var(--fill-color);\n",
              "    }\n",
              "  }\n",
              "</style>\n",
              "\n",
              "  <script>\n",
              "    async function quickchart(key) {\n",
              "      const quickchartButtonEl =\n",
              "        document.querySelector('#' + key + ' button');\n",
              "      quickchartButtonEl.disabled = true;  // To prevent multiple clicks.\n",
              "      quickchartButtonEl.classList.add('colab-df-spinner');\n",
              "      try {\n",
              "        const charts = await google.colab.kernel.invokeFunction(\n",
              "            'suggestCharts', [key], {});\n",
              "      } catch (error) {\n",
              "        console.error('Error during call to suggestCharts:', error);\n",
              "      }\n",
              "      quickchartButtonEl.classList.remove('colab-df-spinner');\n",
              "      quickchartButtonEl.classList.add('colab-df-quickchart-complete');\n",
              "    }\n",
              "    (() => {\n",
              "      let quickchartButtonEl =\n",
              "        document.querySelector('#df-9c25bb81-7c63-4cce-9120-f99726d87044 button');\n",
              "      quickchartButtonEl.style.display =\n",
              "        google.colab.kernel.accessAllowed ? 'block' : 'none';\n",
              "    })();\n",
              "  </script>\n",
              "</div>\n",
              "    </div>\n",
              "  </div>\n"
            ]
          },
          "metadata": {},
          "execution_count": 10
        }
      ]
    },
    {
      "cell_type": "markdown",
      "source": [
        "# **Probabilidade Simples**"
      ],
      "metadata": {
        "id": "KBr-_Btw6FGx"
      }
    },
    {
      "cell_type": "markdown",
      "source": [
        "Exibindo o nome das colunas do Dataset"
      ],
      "metadata": {
        "id": "DLFpHY3Q2L4m"
      }
    },
    {
      "cell_type": "code",
      "source": [
        "salarios.columns"
      ],
      "metadata": {
        "colab": {
          "base_uri": "https://localhost:8080/"
        },
        "id": "kRSbPnLR7-kP",
        "outputId": "85c5149a-6111-4503-c3ea-fee9d29279c5"
      },
      "execution_count": null,
      "outputs": [
        {
          "output_type": "execute_result",
          "data": {
            "text/plain": [
              "Index(['work_year', 'experience_level', 'employment_type', 'job_title',\n",
              "       'salary', 'salary_currency', 'salary_in_usd', 'employee_residence',\n",
              "       'remote_ratio', 'company_location', 'company_size'],\n",
              "      dtype='object')"
            ]
          },
          "metadata": {},
          "execution_count": 11
        }
      ]
    },
    {
      "cell_type": "code",
      "source": [
        "# Calcular a média de funcionários no ano de 2023\n",
        "total_func_geral_2023 = len(salarios[(salarios['work_year'] == 2023)])\n",
        "avg_func_geral = total_func_geral_2023 / 12\n",
        "\n",
        "# Calcular a média de funcionários Data Scientist no ano de 2023\n",
        "total_func_datascientist_2023 = len(salarios[(salarios['work_year'] == 2023) & (salarios['job_title'] == 'Data Scientist')])\n",
        "avg_func_datascientist = total_func_datascientist_2023 / 12\n",
        "\n",
        "print(avg_func_geral)\n",
        "print(avg_func_datascientist)\n"
      ],
      "metadata": {
        "colab": {
          "base_uri": "https://localhost:8080/"
        },
        "id": "GhXjfpL4c1Yi",
        "outputId": "cef7472e-7d80-486e-f43c-3c72f5d162da"
      },
      "execution_count": null,
      "outputs": [
        {
          "output_type": "stream",
          "name": "stdout",
          "text": [
            "523.5\n",
            "105.91666666666667\n"
          ]
        }
      ]
    },
    {
      "cell_type": "code",
      "source": [
        "# Transforme a coluna 'work_year' em formato de data\n",
        "salarios['work_year'] = pd.to_datetime(salarios['work_year'], format='%Y')\n",
        "\n",
        "# Filtre os dados para selecionar apenas o ano de 2023\n",
        "salarios_2023 = salarios[salarios['work_year'].dt.year == 2023]\n",
        "\n",
        "# Divida a soma anual do salário pelo número de meses\n",
        "media_salarial_mensal_2023 = salarios_2023['salary'] / 12\n",
        "\n",
        "# Exiba a média salarial mensal de 2023\n",
        "print(media_salarial_mensal_2023)\n"
      ],
      "metadata": {
        "colab": {
          "base_uri": "https://localhost:8080/"
        },
        "id": "d8RVU1_WRJcM",
        "outputId": "c4617d3d-02b3-497a-debc-42882cbeceeb"
      },
      "execution_count": null,
      "outputs": [
        {
          "output_type": "stream",
          "name": "stdout",
          "text": [
            "0       14166.666667\n",
            "1       23958.333333\n",
            "2       14000.000000\n",
            "3       12916.666667\n",
            "4       11666.666667\n",
            "            ...     \n",
            "6325    11208.333333\n",
            "6326    10833.333333\n",
            "6327     7500.000000\n",
            "6328    13333.333333\n",
            "6329    11250.000000\n",
            "Name: salary, Length: 6282, dtype: float64\n"
          ]
        }
      ]
    },
    {
      "cell_type": "markdown",
      "source": [
        "1° Análise: Qual é a probabilidade do funcionário ser um Data Scientist?"
      ],
      "metadata": {
        "id": "xwD_EGFP2w9N"
      }
    },
    {
      "cell_type": "code",
      "source": [
        "resutado = avg_func_datascientist/avg_func_geral\n",
        "\n",
        "print('A probabilidade de ser um Data Scientist em 2023 é: ' + str(round(resutado*100,2))+ '%')"
      ],
      "metadata": {
        "colab": {
          "base_uri": "https://localhost:8080/"
        },
        "id": "PbpTXxmk54Zy",
        "outputId": "96558ace-b7a2-448f-f2a3-223b013328b6"
      },
      "execution_count": null,
      "outputs": [
        {
          "output_type": "stream",
          "name": "stdout",
          "text": [
            "A probabilidade de ser um Data Scientist em 2023 é: 20.04%\n"
          ]
        }
      ]
    },
    {
      "cell_type": "markdown",
      "source": [
        "# **Probabilidade da União**"
      ],
      "metadata": {
        "id": "pEdw31KBBEkY"
      }
    },
    {
      "cell_type": "markdown",
      "source": [
        "2° Análise: Qual a probabilidade de um Data Scientist em 2023 ser sênior ou trabalhar em uma grande empresa?"
      ],
      "metadata": {
        "id": "fuKidDecBKOZ"
      }
    },
    {
      "cell_type": "code",
      "source": [
        "qtd_func = round(len(salarios[((salarios['job_title']=='Data Scientist') & (salarios['work_year']==2023) & ((salarios['experience_level']=='SE') | (salarios['company_size']=='L')))])/12)\n",
        "\n",
        "resultado = qtd_func/avg_func_datascientist\n",
        "\n",
        "#print(qtd_func_datascientist)\n",
        "#print(qtd_func)\n",
        "\n",
        "print('A probabilidade de um Data Scientist em 2023 ser sênior ou trabalhar em uma empresa grande é: ' + str(round(resultado*100,2))+ '%')"
      ],
      "metadata": {
        "colab": {
          "base_uri": "https://localhost:8080/"
        },
        "id": "uZKRePHgBCfQ",
        "outputId": "f20f8cf0-e4c4-46e2-baad-149167ef4e74"
      },
      "execution_count": null,
      "outputs": [
        {
          "output_type": "stream",
          "name": "stdout",
          "text": [
            "A probabilidade de um Data Scientist em 2023 ser sênior ou trabalhar em uma empresa grande é: 83.5%\n"
          ]
        }
      ]
    },
    {
      "cell_type": "markdown",
      "source": [
        "# **Probabilidade da Intersecção**"
      ],
      "metadata": {
        "id": "1xM6UvneA8eJ"
      }
    },
    {
      "cell_type": "markdown",
      "source": [
        "2° Análise: Qual é a probabilidade de um Data Scientist em 2023 ser sênior e trabalhar em uma grande empresa?\n"
      ],
      "metadata": {
        "id": "LOg7Bcf23Anl"
      }
    },
    {
      "cell_type": "code",
      "source": [
        "qtd_func = round((len(salarios[((salarios['job_title']=='Data Scientist') & (salarios['work_year']==2023) & (salarios['experience_level']=='SE') & (salarios['company_size']=='L'))])/12))\n",
        "\n",
        "resultado = qtd_func/avg_func_datascientist\n",
        "\n",
        "print('A probabilidade de um Data Scientist em 2023 ser sênior e trabalhar em uma grande empresa é: ' + str(round(resultado*100,2))+ '%')"
      ],
      "metadata": {
        "colab": {
          "base_uri": "https://localhost:8080/"
        },
        "id": "TpnXiDXBZi7b",
        "outputId": "1fd65fa2-f337-40d0-c178-1816226224d8"
      },
      "execution_count": null,
      "outputs": [
        {
          "output_type": "stream",
          "name": "stdout",
          "text": [
            "A probabilidade de um Data Scientist em 2023 ser sênior e trabalhar em uma grande empresa é: 0.97%\n"
          ]
        }
      ]
    },
    {
      "cell_type": "markdown",
      "source": [
        "# **Probabilidade da Diferença**"
      ],
      "metadata": {
        "id": "_ag7qboBaHlx"
      }
    },
    {
      "cell_type": "markdown",
      "source": [
        "3° Análise: Qual a probabilidade do Data Scientist em 2023 não ser sênior e não trabalhar em uma grande empresa?"
      ],
      "metadata": {
        "id": "PZXQvEPSZ7rM"
      }
    },
    {
      "cell_type": "code",
      "source": [
        "qtd_func = round(len(salarios[((salarios['job_title']=='Data Scientist') & (salarios['work_year']==2023) & ((salarios['experience_level']=='SE') | (salarios['company_size']=='L')))])/12)\n",
        "\n",
        "resultado = (avg_func_datascientist - qtd_func)/avg_func_datascientist\n",
        "\n",
        "print('A probabilidade de ser um Data Scientist em 2023 não ser sênior e não trabalhar em uma grande empresa é: ' + str(round(resultado*100,2))+ '%')\n"
      ],
      "metadata": {
        "colab": {
          "base_uri": "https://localhost:8080/"
        },
        "id": "2Bi7jq6uaFh_",
        "outputId": "7146793c-ca25-4ddb-a2e4-348ef8ac3675"
      },
      "execution_count": null,
      "outputs": [
        {
          "output_type": "stream",
          "name": "stdout",
          "text": [
            "A probabilidade de ser um Data Scientist em 2023 não ser sênior e não trabalhar em uma grande empresa é: 16.5%\n"
          ]
        }
      ]
    },
    {
      "cell_type": "code",
      "source": [
        "#Extra\n",
        "\n",
        "#qtd_func_datascientist = len(salarios[(salarios['job_title']=='Data Scientist')])\n",
        "#media_salarial_ds = salarios[(salarios['job_title']=='Data Scientist')]['salary_in_usd'].mean()\n",
        "\n",
        "#media_salarial_geral = salarios['salary_in_usd'].mean()\n",
        "\n",
        "#qtd_acima_media = len(salarios[(salarios['job_title']=='Data Scientist') & (salarios['salary_in_usd'] >= media_salarial_geral)])\n",
        "#resultado = qtd_acima_media/qtd_func_datascientist\n",
        "\n",
        "#print(media_salarial_geral)\n",
        "#print(qtd_func_datascientist)\n",
        "#print(qtd_abaixo_media)\n",
        "#print(media_salarial_ds)\n",
        "\n",
        "#print('A probabilidade de ser um Data Scientist e possuir salário igual ou acima da média salarial geral nessa base de dados é: ' + str(round(resultado*100,2))+ '%')"
      ],
      "metadata": {
        "id": "rLSpHUuv61yi"
      },
      "execution_count": null,
      "outputs": []
    }
  ]
}